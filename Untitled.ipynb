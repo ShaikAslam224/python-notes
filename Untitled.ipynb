{
 "cells": [
  {
   "cell_type": "code",
   "execution_count": null,
   "id": "5951e21c",
   "metadata": {},
   "outputs": [
    {
     "name": "stdout",
     "output_type": "stream",
     "text": [
      "3\n",
      "sameer 45934589\n",
      "rohit 39583945\n",
      "chinna 39493434\n",
      "rhohit\n",
      "Not found\n",
      "sameer\n",
      "sameer = 45934589\n",
      "chinna\n",
      "chinna = 39493434\n"
     ]
    }
   ],
   "source": [
    "import sys\n",
    "n=int(input().strip())\n",
    "phone_book=dict()\n",
    "for i in range(n):\n",
    "    entry=input().strip().split(' ')\n",
    "    phone_book[entry[0]]=entry[1]\n",
    "query=input().strip()\n",
    "while query:\n",
    "    phone_number=phone_book.get(query)\n",
    "    if phone_number:\n",
    "        print(query + \" = \" + phone_number)\n",
    "        \n",
    "    else:\n",
    "        print(\"Not found\")\n",
    "    query=input().strip()\n",
    "    "
   ]
  },
  {
   "cell_type": "code",
   "execution_count": null,
   "id": "dcd10571",
   "metadata": {},
   "outputs": [],
   "source": []
  },
  {
   "cell_type": "code",
   "execution_count": 1,
   "id": "c7230552",
   "metadata": {},
   "outputs": [
    {
     "data": {
      "text/plain": [
       "44"
      ]
     },
     "execution_count": 1,
     "metadata": {},
     "output_type": "execute_result"
    }
   ],
   "source": [
    "a=44\n",
    "a"
   ]
  },
  {
   "cell_type": "code",
   "execution_count": 2,
   "id": "a044062a",
   "metadata": {},
   "outputs": [
    {
     "name": "stdout",
     "output_type": "stream",
     "text": [
      "44\n"
     ]
    }
   ],
   "source": [
    "print(a)"
   ]
  },
  {
   "cell_type": "code",
   "execution_count": 11,
   "id": "2d3dab4f",
   "metadata": {},
   "outputs": [
    {
     "name": "stdout",
     "output_type": "stream",
     "text": [
      "1\n",
      "aslam 495937493\n",
      "aslam\n",
      "aslam=495937493\n",
      "ddk\n"
     ]
    }
   ],
   "source": [
    "n=int(input().strip())\n",
    "phone_book=dict()\n",
    "for i in range(n):\n",
    "    entry=input().strip().split(\" \")\n",
    "    phone_book[entry[0]]=entry[1]\n",
    "query=input().strip()\n",
    "for j in range(n):\n",
    "    while query:\n",
    "        phone_number=phone_book.get(query)\n",
    "        if phone_number:\n",
    "            print(query+\"=\"+phone_number)\n",
    "            break\n",
    "        else:\n",
    "            print(\"Not found\")\n",
    "            break\n",
    "    query=input().strip()\n",
    "    "
   ]
  },
  {
   "cell_type": "code",
   "execution_count": 1,
   "id": "babb7767",
   "metadata": {},
   "outputs": [
    {
     "ename": "ModuleNotFoundError",
     "evalue": "No module named 'selenium.webdriver.common.Keys'",
     "output_type": "error",
     "traceback": [
      "\u001b[1;31m---------------------------------------------------------------------------\u001b[0m",
      "\u001b[1;31mModuleNotFoundError\u001b[0m                       Traceback (most recent call last)",
      "Input \u001b[1;32mIn [1]\u001b[0m, in \u001b[0;36m<cell line: 7>\u001b[1;34m()\u001b[0m\n\u001b[0;32m      5\u001b[0m \u001b[38;5;28;01mimport\u001b[39;00m \u001b[38;5;21;01mtime\u001b[39;00m\n\u001b[0;32m      6\u001b[0m \u001b[38;5;66;03m#from selenium.webdriver.common.keys import Keys\u001b[39;00m\n\u001b[1;32m----> 7\u001b[0m \u001b[38;5;28;01mfrom\u001b[39;00m \u001b[38;5;21;01mselenium\u001b[39;00m\u001b[38;5;21;01m.\u001b[39;00m\u001b[38;5;21;01mwebdriver\u001b[39;00m\u001b[38;5;21;01m.\u001b[39;00m\u001b[38;5;21;01mcommon\u001b[39;00m\u001b[38;5;21;01m.\u001b[39;00m\u001b[38;5;21;01mKeys\u001b[39;00m \u001b[38;5;28;01mimport\u001b[39;00m Keys\n",
      "\u001b[1;31mModuleNotFoundError\u001b[0m: No module named 'selenium.webdriver.common.Keys'"
     ]
    }
   ],
   "source": [
    "from selenium import webdriver\n",
    "from webdriver_manager.chrome import ChromeDriverManager\n",
    "#from selenium.webdriver.common import keys\n",
    "import random\n",
    "import time\n",
    "#from selenium.webdriver.common.keys import Keys\n",
    "from selenium.webdriver.common.Keys import Keys"
   ]
  },
  {
   "cell_type": "code",
   "execution_count": null,
   "id": "0c57d8ad",
   "metadata": {},
   "outputs": [],
   "source": [
    "\n",
    "driver=webdriver.Chrome(ChromeDriverManager().install())\n",
    "time.sleep(2)\n",
    "\n",
    "driver.get(\"https://instagram.com\")\n",
    "time.sleep(10)\n",
    "\n"
   ]
  },
  {
   "cell_type": "code",
   "execution_count": 17,
   "id": "a41faa71",
   "metadata": {},
   "outputs": [],
   "source": [
    "# user_name=driver.find_element(\"xpath\", '//*[@id=\"loginForm\"]/div/div[1]/div/label/input')\n",
    "# user_name.send_keys(\"_shaik_aslam_\")\n",
    "# user_name.click()"
   ]
  },
  {
   "cell_type": "code",
   "execution_count": null,
   "id": "1f3ef90e",
   "metadata": {},
   "outputs": [],
   "source": [
    "# user_name=driver.find_element(\"xpath\", '')\n",
    "# user_name.send_keys(\"_shaik_aslam_\")\n",
    "# user_name.click()"
   ]
  },
  {
   "cell_type": "code",
   "execution_count": 18,
   "id": "6b72faf4",
   "metadata": {
    "scrolled": true
   },
   "outputs": [
    {
     "name": "stderr",
     "output_type": "stream",
     "text": [
      "C:\\Users\\SRIT\\AppData\\Local\\Temp\\ipykernel_2024\\2883215120.py:1: DeprecationWarning: executable_path has been deprecated, please pass in a Service object\n",
      "  driver=webdriver.Chrome(ChromeDriverManager().install())\n"
     ]
    }
   ],
   "source": [
    "\n",
    "driver=webdriver.Chrome(ChromeDriverManager().install())\n",
    "time.sleep(2)\n",
    "\n",
    "driver.get(\"https://whatsapp.com\")\n",
    "time.sleep(10)\n",
    "\n"
   ]
  },
  {
   "cell_type": "code",
   "execution_count": 36,
   "id": "eeae6b23",
   "metadata": {
    "scrolled": true
   },
   "outputs": [],
   "source": [
    "user_name=driver.find_element(\"xpath\", '//*[@id=\"side\"]/div[1]/div/div/div[2]/div/div[2]')\n",
    "user_name.send_keys(\"tilak\")\n",
    "user_name.send_keys(Keys.ENTER)"
   ]
  },
  {
   "cell_type": "code",
   "execution_count": 39,
   "id": "59c5722e",
   "metadata": {},
   "outputs": [],
   "source": [
    "msg=driver.find_element(\"xpath\", '//*[@id=\"main\"]/footer/div[1]/div/span[2]/div/div[2]/div[1]/div/div[1]/p')\n",
    "msg.send_keys(\"naku eroju telisindhi\")\n",
    "msg.send_keys(Keys.ENTER)"
   ]
  },
  {
   "cell_type": "code",
   "execution_count": 35,
   "id": "65005b85",
   "metadata": {},
   "outputs": [],
   "source": [
    "for i in range(20):\n",
    "    msg=driver.find_element(\"xpath\", '//*[@id=\"main\"]/footer/div[1]/div/span[2]/div/div[2]/div[1]/div/div[1]/p')\n",
    "    msg.send_keys(\"BSDk\")\n",
    "    msg.send_keys(Keys.ENTER)\n"
   ]
  },
  {
   "cell_type": "code",
   "execution_count": null,
   "id": "416e8d44",
   "metadata": {},
   "outputs": [],
   "source": []
  },
  {
   "cell_type": "code",
   "execution_count": null,
   "id": "c44c5753",
   "metadata": {},
   "outputs": [],
   "source": []
  },
  {
   "cell_type": "code",
   "execution_count": 4,
   "id": "4e5ebea2",
   "metadata": {},
   "outputs": [
    {
     "name": "stdout",
     "output_type": "stream",
     "text": [
      "Enter your number:4\n",
      "yes it is prime\n"
     ]
    }
   ],
   "source": [
    "n=int(input(\"Enter your number:\"))\n",
    "count=0\n",
    "for i in range(2,n):\n",
    "    if n%i==0:\n",
    "        count+=1\n",
    "if count==2:\n",
    "    print(\"no it is not a prime\")\n",
    "else:\n",
    "    print(\"yes it is prime\")"
   ]
  },
  {
   "cell_type": "code",
   "execution_count": 19,
   "id": "37ae5e1b",
   "metadata": {},
   "outputs": [
    {
     "name": "stdout",
     "output_type": "stream",
     "text": [
      "9 is not a prime number\n"
     ]
    }
   ],
   "source": [
    "num = 9\n",
    "# If given number is greater than 1\n",
    "if num > 1:\n",
    "\t# Iterate from 2 to n / 2\n",
    "\tfor i in range(2, int(num/2)+1):\n",
    "\t\t# If num is divisible by any number between\n",
    "\t\t# 2 and n / 2, it is not prime\n",
    "\t\tif (num % i) == 0:\n",
    "\t\t\tprint(num, \"is not a prime number\")\n",
    "\t\t\tbreak\n",
    "\telse:\n",
    "\t\tprint(num, \"is a prime number\")\n",
    "else:\n",
    "\tprint(num, \"is not a prime number\")\n"
   ]
  },
  {
   "cell_type": "code",
   "execution_count": 5,
   "id": "c2cb8e9b",
   "metadata": {},
   "outputs": [
    {
     "name": "stdout",
     "output_type": "stream",
     "text": [
      "Enter a number:89\n",
      "89 is a prime number\n"
     ]
    }
   ],
   "source": [
    "count=0\n",
    "n=int(input(\"Enter a number:\"))\n",
    "for i in range(1,n):\n",
    "    if n%i==0:\n",
    "        count+=1\n",
    "if count==2:\n",
    "    print(n,\"it is not a prime number\")\n",
    "else:\n",
    "    print(n, \"is a prime number\")"
   ]
  },
  {
   "cell_type": "code",
   "execution_count": 6,
   "id": "9f577e32",
   "metadata": {},
   "outputs": [],
   "source": [
    "# 1. Given the following list of sorted integers:\n",
    "# 0 1 5 8 14 18 44 81 89 99 102\n",
    "\n",
    "# 2. And 2 numbers\n",
    "# 10 20\n",
    "\n",
    "# 3. Find how many numbers are in between those 2 numbers in the original list,\n",
    "# including those 2 numbers if present\n",
    "# eg. in above case the output should be:\n",
    "# 2\n",
    "\n",
    "\n",
    "# 4. Try to optimize on time complexity\n"
   ]
  },
  {
   "cell_type": "code",
   "execution_count": 15,
   "id": "6f05a16c",
   "metadata": {},
   "outputs": [
    {
     "name": "stdout",
     "output_type": "stream",
     "text": [
      "2\n"
     ]
    }
   ],
   "source": [
    "a=[0,1,5,8,14,18,44,81,89,99,102]\n",
    "count=0\n",
    "for i in a:\n",
    "#     print(i)\n",
    "    if  i>=10 and i<=20:\n",
    "        count+=1\n",
    "print(count)\n",
    "        "
   ]
  },
  {
   "cell_type": "code",
   "execution_count": 13,
   "id": "72cecb10",
   "metadata": {},
   "outputs": [
    {
     "name": "stdout",
     "output_type": "stream",
     "text": [
      "0\n"
     ]
    }
   ],
   "source": [
    "print(count)"
   ]
  },
  {
   "cell_type": "code",
   "execution_count": 16,
   "id": "6c3e21dd",
   "metadata": {},
   "outputs": [
    {
     "name": "stdout",
     "output_type": "stream",
     "text": [
      "2\n"
     ]
    }
   ],
   "source": [
    "b=[0,1,5,8,14,18,44,81,89,99,102]\n",
    "count=0\n",
    "for i in range(len(b)):\n",
    "    if b[i]<=20 and b[i]>=10:\n",
    "        count+=1\n",
    "print(count)"
   ]
  },
  {
   "cell_type": "code",
   "execution_count": 5,
   "id": "75da627e",
   "metadata": {},
   "outputs": [
    {
     "data": {
      "text/plain": [
       "89"
      ]
     },
     "execution_count": 5,
     "metadata": {},
     "output_type": "execute_result"
    }
   ],
   "source": [
    "a=[0,1,5,8,44,81,89,99,102]\n",
    "a[6]"
   ]
  },
  {
   "cell_type": "code",
   "execution_count": null,
   "id": "dabbaedc",
   "metadata": {},
   "outputs": [],
   "source": []
  }
 ],
 "metadata": {
  "kernelspec": {
   "display_name": "Python 3 (ipykernel)",
   "language": "python",
   "name": "python3"
  },
  "language_info": {
   "codemirror_mode": {
    "name": "ipython",
    "version": 3
   },
   "file_extension": ".py",
   "mimetype": "text/x-python",
   "name": "python",
   "nbconvert_exporter": "python",
   "pygments_lexer": "ipython3",
   "version": "3.9.12"
  }
 },
 "nbformat": 4,
 "nbformat_minor": 5
}
