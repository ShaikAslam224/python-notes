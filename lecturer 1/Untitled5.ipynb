{
 "cells": [
  {
   "cell_type": "code",
   "execution_count": 1,
   "id": "33dfeec8",
   "metadata": {},
   "outputs": [],
   "source": [
    "#tuple immutable"
   ]
  },
  {
   "cell_type": "code",
   "execution_count": 2,
   "id": "f2be86ed",
   "metadata": {},
   "outputs": [],
   "source": [
    "a=(4,3,2)"
   ]
  },
  {
   "cell_type": "code",
   "execution_count": 3,
   "id": "467472d6",
   "metadata": {},
   "outputs": [
    {
     "data": {
      "text/plain": [
       "tuple"
      ]
     },
     "execution_count": 3,
     "metadata": {},
     "output_type": "execute_result"
    }
   ],
   "source": [
    "type(a)"
   ]
  },
  {
   "cell_type": "code",
   "execution_count": 4,
   "id": "8a9efd50",
   "metadata": {},
   "outputs": [
    {
     "data": {
      "text/plain": [
       "tuple"
      ]
     },
     "execution_count": 4,
     "metadata": {},
     "output_type": "execute_result"
    }
   ],
   "source": [
    "b=('dfjdf','ada')\n",
    "type(b)"
   ]
  },
  {
   "cell_type": "code",
   "execution_count": 7,
   "id": "3a3f0142",
   "metadata": {},
   "outputs": [
    {
     "data": {
      "text/plain": [
       "3"
      ]
     },
     "execution_count": 7,
     "metadata": {},
     "output_type": "execute_result"
    }
   ],
   "source": [
    "a[1]"
   ]
  },
  {
   "cell_type": "code",
   "execution_count": 6,
   "id": "fe31d3cb",
   "metadata": {},
   "outputs": [
    {
     "ename": "TypeError",
     "evalue": "'tuple' object does not support item assignment",
     "output_type": "error",
     "traceback": [
      "\u001b[1;31m---------------------------------------------------------------------------\u001b[0m",
      "\u001b[1;31mTypeError\u001b[0m                                 Traceback (most recent call last)",
      "Input \u001b[1;32mIn [6]\u001b[0m, in \u001b[0;36m<cell line: 1>\u001b[1;34m()\u001b[0m\n\u001b[1;32m----> 1\u001b[0m a[\u001b[38;5;241m1\u001b[39m]\u001b[38;5;241m=\u001b[39m\u001b[38;5;241m34\u001b[39m\n",
      "\u001b[1;31mTypeError\u001b[0m: 'tuple' object does not support item assignment"
     ]
    }
   ],
   "source": [
    "a[1]=34"
   ]
  },
  {
   "cell_type": "code",
   "execution_count": 8,
   "id": "2d5cfbf5",
   "metadata": {},
   "outputs": [],
   "source": [
    "a=([2,4],[6,7])"
   ]
  },
  {
   "cell_type": "code",
   "execution_count": 11,
   "id": "f7844d70",
   "metadata": {},
   "outputs": [
    {
     "data": {
      "text/plain": [
       "[2, 4]"
      ]
     },
     "execution_count": 11,
     "metadata": {},
     "output_type": "execute_result"
    }
   ],
   "source": [
    "a[0]"
   ]
  },
  {
   "cell_type": "code",
   "execution_count": 12,
   "id": "def058c1",
   "metadata": {},
   "outputs": [
    {
     "data": {
      "text/plain": [
       "[6, 7]"
      ]
     },
     "execution_count": 12,
     "metadata": {},
     "output_type": "execute_result"
    }
   ],
   "source": [
    "a[1]"
   ]
  },
  {
   "cell_type": "code",
   "execution_count": 14,
   "id": "af51ff2a",
   "metadata": {},
   "outputs": [
    {
     "data": {
      "text/plain": [
       "2"
      ]
     },
     "execution_count": 14,
     "metadata": {},
     "output_type": "execute_result"
    }
   ],
   "source": [
    "a[0][0]"
   ]
  },
  {
   "cell_type": "code",
   "execution_count": 15,
   "id": "97bbc474",
   "metadata": {},
   "outputs": [
    {
     "data": {
      "text/plain": [
       "4"
      ]
     },
     "execution_count": 15,
     "metadata": {},
     "output_type": "execute_result"
    }
   ],
   "source": [
    "a[0][1]"
   ]
  },
  {
   "cell_type": "code",
   "execution_count": 16,
   "id": "cbb794f3",
   "metadata": {},
   "outputs": [],
   "source": [
    "a[0][1]=8"
   ]
  },
  {
   "cell_type": "code",
   "execution_count": 19,
   "id": "3f819014",
   "metadata": {},
   "outputs": [
    {
     "data": {
      "text/plain": [
       "([2, 8], [6, 7])"
      ]
     },
     "execution_count": 19,
     "metadata": {},
     "output_type": "execute_result"
    }
   ],
   "source": [
    "a"
   ]
  },
  {
   "cell_type": "code",
   "execution_count": 21,
   "id": "a1ecf616",
   "metadata": {},
   "outputs": [
    {
     "ename": "TypeError",
     "evalue": "'tuple' object does not support item assignment",
     "output_type": "error",
     "traceback": [
      "\u001b[1;31m---------------------------------------------------------------------------\u001b[0m",
      "\u001b[1;31mTypeError\u001b[0m                                 Traceback (most recent call last)",
      "Input \u001b[1;32mIn [21]\u001b[0m, in \u001b[0;36m<cell line: 1>\u001b[1;34m()\u001b[0m\n\u001b[1;32m----> 1\u001b[0m a[\u001b[38;5;241m0\u001b[39m]\u001b[38;5;241m=\u001b[39m[\u001b[38;5;241m34\u001b[39m,\u001b[38;5;241m23\u001b[39m]\n",
      "\u001b[1;31mTypeError\u001b[0m: 'tuple' object does not support item assignment"
     ]
    }
   ],
   "source": [
    "a[0]=[34,23]"
   ]
  },
  {
   "cell_type": "code",
   "execution_count": 22,
   "id": "5fb0e030",
   "metadata": {},
   "outputs": [],
   "source": [
    "#sets"
   ]
  },
  {
   "cell_type": "code",
   "execution_count": 23,
   "id": "f80f086c",
   "metadata": {},
   "outputs": [],
   "source": [
    "#same things as in maths"
   ]
  },
  {
   "cell_type": "code",
   "execution_count": 24,
   "id": "44ff399a",
   "metadata": {},
   "outputs": [],
   "source": [
    "# in sets duplicate elements are removed and also these are unordered"
   ]
  },
  {
   "cell_type": "code",
   "execution_count": 25,
   "id": "0e4dd82f",
   "metadata": {},
   "outputs": [],
   "source": [
    "g={3,3,2,4,3,3,2,4,5}"
   ]
  },
  {
   "cell_type": "code",
   "execution_count": 26,
   "id": "197a9753",
   "metadata": {},
   "outputs": [
    {
     "data": {
      "text/plain": [
       "{2, 3, 4, 5}"
      ]
     },
     "execution_count": 26,
     "metadata": {},
     "output_type": "execute_result"
    }
   ],
   "source": [
    "g"
   ]
  },
  {
   "cell_type": "code",
   "execution_count": 27,
   "id": "eacc37ed",
   "metadata": {},
   "outputs": [],
   "source": [
    "#dictionary it is a mutable"
   ]
  },
  {
   "cell_type": "code",
   "execution_count": 3,
   "id": "0d36185f",
   "metadata": {},
   "outputs": [],
   "source": [
    "d={\n",
    "    \"mango\":\" king of fruits \",\n",
    "    \"lion\": \"king of jungle\"\n",
    "}"
   ]
  },
  {
   "cell_type": "code",
   "execution_count": 7,
   "id": "846eb2f4",
   "metadata": {},
   "outputs": [
    {
     "data": {
      "text/plain": [
       "' king of fruits '"
      ]
     },
     "execution_count": 7,
     "metadata": {},
     "output_type": "execute_result"
    }
   ],
   "source": [
    "d['mango']"
   ]
  },
  {
   "cell_type": "code",
   "execution_count": 14,
   "id": "5164b534",
   "metadata": {},
   "outputs": [],
   "source": [
    "z={0:12,1:54}"
   ]
  },
  {
   "cell_type": "code",
   "execution_count": 15,
   "id": "b690fee6",
   "metadata": {},
   "outputs": [
    {
     "data": {
      "text/plain": [
       "54"
      ]
     },
     "execution_count": 15,
     "metadata": {},
     "output_type": "execute_result"
    }
   ],
   "source": [
    "z[1]"
   ]
  },
  {
   "cell_type": "code",
   "execution_count": 16,
   "id": "4e39aaa2",
   "metadata": {},
   "outputs": [],
   "source": [
    "d['mango']='it is my fav fruit'"
   ]
  },
  {
   "cell_type": "code",
   "execution_count": 17,
   "id": "a1182113",
   "metadata": {},
   "outputs": [
    {
     "data": {
      "text/plain": [
       "'it is my fav fruit'"
      ]
     },
     "execution_count": 17,
     "metadata": {},
     "output_type": "execute_result"
    }
   ],
   "source": [
    "d['mango']"
   ]
  },
  {
   "cell_type": "code",
   "execution_count": 18,
   "id": "f87e58cf",
   "metadata": {},
   "outputs": [
    {
     "data": {
      "text/plain": [
       "'king of jungle'"
      ]
     },
     "execution_count": 18,
     "metadata": {},
     "output_type": "execute_result"
    }
   ],
   "source": [
    "d['lion']"
   ]
  },
  {
   "cell_type": "code",
   "execution_count": 19,
   "id": "a37970b1",
   "metadata": {},
   "outputs": [
    {
     "data": {
      "text/plain": [
       "{'mango': 'it is my fav fruit', 'lion': 'king of jungle'}"
      ]
     },
     "execution_count": 19,
     "metadata": {},
     "output_type": "execute_result"
    }
   ],
   "source": [
    "d"
   ]
  },
  {
   "cell_type": "code",
   "execution_count": null,
   "id": "1f308057",
   "metadata": {},
   "outputs": [],
   "source": [
    "#slicing and comprehension"
   ]
  },
  {
   "cell_type": "code",
   "execution_count": 21,
   "id": "bffd0e98",
   "metadata": {},
   "outputs": [],
   "source": [
    "#slicing"
   ]
  },
  {
   "cell_type": "code",
   "execution_count": 22,
   "id": "58f4d1b6",
   "metadata": {},
   "outputs": [],
   "source": [
    "a=[3,54,34,64,77]"
   ]
  },
  {
   "cell_type": "code",
   "execution_count": 23,
   "id": "2fec2f4d",
   "metadata": {},
   "outputs": [
    {
     "data": {
      "text/plain": [
       "[3, 54, 34, 64, 77]"
      ]
     },
     "execution_count": 23,
     "metadata": {},
     "output_type": "execute_result"
    }
   ],
   "source": [
    "a[:] #all the element of a"
   ]
  },
  {
   "cell_type": "code",
   "execution_count": 24,
   "id": "4d791332",
   "metadata": {},
   "outputs": [
    {
     "data": {
      "text/plain": [
       "[34, 64, 77]"
      ]
     },
     "execution_count": 24,
     "metadata": {},
     "output_type": "execute_result"
    }
   ],
   "source": [
    "a[2:] #start form a[2] value"
   ]
  },
  {
   "cell_type": "code",
   "execution_count": 27,
   "id": "23cfedc3",
   "metadata": {},
   "outputs": [
    {
     "data": {
      "text/plain": [
       "[54, 34]"
      ]
     },
     "execution_count": 27,
     "metadata": {},
     "output_type": "execute_result"
    }
   ],
   "source": [
    "a[1:3] # 1 is inclusive and 3 is exclusive that's why it will print a[1] value and doesn't a[3]"
   ]
  },
  {
   "cell_type": "code",
   "execution_count": 28,
   "id": "839a4d9f",
   "metadata": {},
   "outputs": [
    {
     "data": {
      "text/plain": [
       "[3, 34]"
      ]
     },
     "execution_count": 28,
     "metadata": {},
     "output_type": "execute_result"
    }
   ],
   "source": [
    "a[0:4:2] #here step is given to the input so it will jump two element 0 is for start, 4 is for end, and 2 is for step "
   ]
  },
  {
   "cell_type": "code",
   "execution_count": 30,
   "id": "be2b2add",
   "metadata": {},
   "outputs": [
    {
     "data": {
      "text/plain": [
       "[3, 54, 34, 64, 77]"
      ]
     },
     "execution_count": 30,
     "metadata": {},
     "output_type": "execute_result"
    }
   ],
   "source": [
    "a"
   ]
  },
  {
   "cell_type": "code",
   "execution_count": 29,
   "id": "9f03986a",
   "metadata": {},
   "outputs": [
    {
     "data": {
      "text/plain": [
       "[77, 64, 34, 54, 3]"
      ]
     },
     "execution_count": 29,
     "metadata": {},
     "output_type": "execute_result"
    }
   ],
   "source": [
    "a[-1::-1] #reverse print in array or list"
   ]
  },
  {
   "cell_type": "code",
   "execution_count": 31,
   "id": "e803b10c",
   "metadata": {},
   "outputs": [
    {
     "data": {
      "text/plain": [
       "[77]"
      ]
     },
     "execution_count": 31,
     "metadata": {},
     "output_type": "execute_result"
    }
   ],
   "source": [
    "a[-1:]"
   ]
  },
  {
   "cell_type": "code",
   "execution_count": 32,
   "id": "ac71e466",
   "metadata": {},
   "outputs": [
    {
     "data": {
      "text/plain": [
       "[3, 54, 34, 64]"
      ]
     },
     "execution_count": 32,
     "metadata": {},
     "output_type": "execute_result"
    }
   ],
   "source": [
    "a[:-1]"
   ]
  },
  {
   "cell_type": "code",
   "execution_count": null,
   "id": "af55deb9",
   "metadata": {},
   "outputs": [],
   "source": []
  },
  {
   "cell_type": "code",
   "execution_count": 33,
   "id": "5d920914",
   "metadata": {},
   "outputs": [],
   "source": [
    "#CONDITIONS"
   ]
  },
  {
   "cell_type": "code",
   "execution_count": 36,
   "id": "b9e87784",
   "metadata": {},
   "outputs": [],
   "source": [
    "a=4"
   ]
  },
  {
   "cell_type": "code",
   "execution_count": 38,
   "id": "3a509b26",
   "metadata": {},
   "outputs": [
    {
     "name": "stdout",
     "output_type": "stream",
     "text": [
      " a contain 4 value\n"
     ]
    }
   ],
   "source": [
    "if a==4:\n",
    "    print(\" a contain 4 value\")"
   ]
  },
  {
   "cell_type": "code",
   "execution_count": 43,
   "id": "b9f5c84e",
   "metadata": {},
   "outputs": [
    {
     "name": "stdout",
     "output_type": "stream",
     "text": [
      "it has some value\n"
     ]
    }
   ],
   "source": [
    "b=-2\n",
    "if b:\n",
    "    print(\"it has some value\")"
   ]
  },
  {
   "cell_type": "code",
   "execution_count": 44,
   "id": "a44450f4",
   "metadata": {},
   "outputs": [
    {
     "name": "stdout",
     "output_type": "stream",
     "text": [
      "ok\n"
     ]
    }
   ],
   "source": [
    "if 394:\n",
    "    print(\"ok\")"
   ]
  },
  {
   "cell_type": "code",
   "execution_count": 48,
   "id": "369a45ef",
   "metadata": {},
   "outputs": [
    {
     "name": "stdout",
     "output_type": "stream",
     "text": [
      "not done\n"
     ]
    }
   ],
   "source": [
    "a=20\n",
    "if a>20:\n",
    "    print(\"done\")\n",
    "else:\n",
    "    print(\"not done\")"
   ]
  },
  {
   "cell_type": "code",
   "execution_count": 53,
   "id": "b8e9df2e",
   "metadata": {},
   "outputs": [
    {
     "name": "stdout",
     "output_type": "stream",
     "text": [
      "a is less than condition\n"
     ]
    }
   ],
   "source": [
    "a=1\n",
    "if a <20:\n",
    "    print(\"a is less than condition\")\n",
    "elif a>20:\n",
    "    print(\"a is greater than condition\")\n",
    "else:\n",
    "    print(\"equal to the condition\")"
   ]
  },
  {
   "cell_type": "code",
   "execution_count": null,
   "id": "6f974a86",
   "metadata": {},
   "outputs": [],
   "source": []
  }
 ],
 "metadata": {
  "kernelspec": {
   "display_name": "Python 3 (ipykernel)",
   "language": "python",
   "name": "python3"
  },
  "language_info": {
   "codemirror_mode": {
    "name": "ipython",
    "version": 3
   },
   "file_extension": ".py",
   "mimetype": "text/x-python",
   "name": "python",
   "nbconvert_exporter": "python",
   "pygments_lexer": "ipython3",
   "version": "3.9.12"
  }
 },
 "nbformat": 4,
 "nbformat_minor": 5
}
