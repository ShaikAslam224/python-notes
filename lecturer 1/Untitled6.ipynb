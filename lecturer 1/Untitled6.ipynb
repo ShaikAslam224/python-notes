{
 "cells": [
  {
   "cell_type": "code",
   "execution_count": 1,
   "id": "07cdeeb2",
   "metadata": {},
   "outputs": [],
   "source": [
    "# for loops and while loops"
   ]
  },
  {
   "cell_type": "code",
   "execution_count": 2,
   "id": "97c9a02e",
   "metadata": {},
   "outputs": [],
   "source": [
    "a=[2,5,34,2]"
   ]
  },
  {
   "cell_type": "code",
   "execution_count": 4,
   "id": "5e83589a",
   "metadata": {},
   "outputs": [
    {
     "name": "stdout",
     "output_type": "stream",
     "text": [
      "2\n",
      "5\n",
      "34\n",
      "2\n"
     ]
    }
   ],
   "source": [
    "for i in a:\n",
    "    print(i)"
   ]
  },
  {
   "cell_type": "code",
   "execution_count": 6,
   "id": "57d4c99d",
   "metadata": {},
   "outputs": [],
   "source": [
    "b=\"ashok\""
   ]
  },
  {
   "cell_type": "code",
   "execution_count": 9,
   "id": "2c063cbe",
   "metadata": {},
   "outputs": [
    {
     "name": "stdout",
     "output_type": "stream",
     "text": [
      "a s h o k "
     ]
    }
   ],
   "source": [
    "for i in b:\n",
    "    print(i,end=' ')"
   ]
  },
  {
   "cell_type": "code",
   "execution_count": 14,
   "id": "6bc24947",
   "metadata": {},
   "outputs": [
    {
     "data": {
      "text/plain": [
       "'k'"
      ]
     },
     "execution_count": 14,
     "metadata": {},
     "output_type": "execute_result"
    }
   ],
   "source": [
    "b[4]"
   ]
  },
  {
   "cell_type": "code",
   "execution_count": 15,
   "id": "42723559",
   "metadata": {},
   "outputs": [],
   "source": [
    "# using index in for loops in python"
   ]
  },
  {
   "cell_type": "code",
   "execution_count": 37,
   "id": "2574dfae",
   "metadata": {},
   "outputs": [],
   "source": [
    "a=[4,2,45,4,34,3,43]"
   ]
  },
  {
   "cell_type": "code",
   "execution_count": 17,
   "id": "c6790fba",
   "metadata": {},
   "outputs": [
    {
     "name": "stdout",
     "output_type": "stream",
     "text": [
      "0 4\n",
      "1 2\n",
      "2 45\n",
      "3 4\n",
      "4 34\n",
      "5 3\n",
      "6 43\n"
     ]
    }
   ],
   "source": [
    "for i ,j in enumerate(a):# here i means index and j is a element in link\n",
    "    print(i,j)"
   ]
  },
  {
   "cell_type": "code",
   "execution_count": 38,
   "id": "4ba38ded",
   "metadata": {},
   "outputs": [
    {
     "name": "stdout",
     "output_type": "stream",
     "text": [
      "0 4\n",
      "1 2\n",
      "2 45\n",
      "3 4\n",
      "4 34\n",
      "5 3\n",
      "6 43\n"
     ]
    }
   ],
   "source": [
    "for index ,num in enumerate(a):\n",
    "    print(index ,num)"
   ]
  },
  {
   "cell_type": "code",
   "execution_count": 23,
   "id": "7c1b69bb",
   "metadata": {},
   "outputs": [
    {
     "name": "stdout",
     "output_type": "stream",
     "text": [
      "0 a\n",
      "1 s\n",
      "2 h\n",
      "3 o\n",
      "4 k\n"
     ]
    }
   ],
   "source": [
    "for index ,num in enumerate(b):\n",
    "    print(index ,num)"
   ]
  },
  {
   "cell_type": "code",
   "execution_count": 24,
   "id": "56ad77f7",
   "metadata": {},
   "outputs": [],
   "source": [
    "a=3\n",
    "b=2"
   ]
  },
  {
   "cell_type": "code",
   "execution_count": 25,
   "id": "60c94289",
   "metadata": {},
   "outputs": [],
   "source": [
    "#swap a values of a and b"
   ]
  },
  {
   "cell_type": "code",
   "execution_count": 26,
   "id": "69e1ff0a",
   "metadata": {},
   "outputs": [
    {
     "data": {
      "text/plain": [
       "3"
      ]
     },
     "execution_count": 26,
     "metadata": {},
     "output_type": "execute_result"
    }
   ],
   "source": [
    "a"
   ]
  },
  {
   "cell_type": "code",
   "execution_count": 27,
   "id": "c8ac91e8",
   "metadata": {},
   "outputs": [
    {
     "data": {
      "text/plain": [
       "2"
      ]
     },
     "execution_count": 27,
     "metadata": {},
     "output_type": "execute_result"
    }
   ],
   "source": [
    "b"
   ]
  },
  {
   "cell_type": "code",
   "execution_count": 28,
   "id": "ac6f8159",
   "metadata": {},
   "outputs": [],
   "source": [
    "a,b=b,a"
   ]
  },
  {
   "cell_type": "code",
   "execution_count": 31,
   "id": "a8e7c307",
   "metadata": {},
   "outputs": [
    {
     "data": {
      "text/plain": [
       "2"
      ]
     },
     "execution_count": 31,
     "metadata": {},
     "output_type": "execute_result"
    }
   ],
   "source": [
    "a #after swap"
   ]
  },
  {
   "cell_type": "code",
   "execution_count": 32,
   "id": "0fb4e59d",
   "metadata": {},
   "outputs": [
    {
     "data": {
      "text/plain": [
       "3"
      ]
     },
     "execution_count": 32,
     "metadata": {},
     "output_type": "execute_result"
    }
   ],
   "source": [
    "b #after swap"
   ]
  },
  {
   "cell_type": "code",
   "execution_count": 39,
   "id": "365e2c7b",
   "metadata": {},
   "outputs": [],
   "source": [
    "#while loops"
   ]
  },
  {
   "cell_type": "code",
   "execution_count": 3,
   "id": "2a7e876e",
   "metadata": {},
   "outputs": [
    {
     "name": "stdout",
     "output_type": "stream",
     "text": [
      "5\n"
     ]
    }
   ],
   "source": [
    "a=5\n",
    "print(a)"
   ]
  },
  {
   "cell_type": "code",
   "execution_count": 4,
   "id": "d43ff2c0",
   "metadata": {},
   "outputs": [
    {
     "name": "stdout",
     "output_type": "stream",
     "text": [
      "5\n"
     ]
    }
   ],
   "source": [
    "print(a)"
   ]
  },
  {
   "cell_type": "code",
   "execution_count": 5,
   "id": "e00c2be5",
   "metadata": {},
   "outputs": [
    {
     "name": "stdout",
     "output_type": "stream",
     "text": [
      "enter a number:2\n",
      "0\n",
      "1\n",
      "2\n"
     ]
    }
   ],
   "source": [
    "A=int(input(\"enter a number:\"))\n",
    "for i in range(A+1):\n",
    "    print(i)"
   ]
  },
  {
   "cell_type": "code",
   "execution_count": 6,
   "id": "aa2c2799",
   "metadata": {},
   "outputs": [
    {
     "name": "stdout",
     "output_type": "stream",
     "text": [
      "0\n",
      "1\n",
      "2\n",
      "3\n",
      "4\n",
      "5\n",
      "6\n",
      "7\n",
      "8\n",
      "9\n"
     ]
    }
   ],
   "source": [
    "a=0\n",
    "while a<10:\n",
    "    print(a)\n",
    "    a=a+1"
   ]
  },
  {
   "cell_type": "code",
   "execution_count": 8,
   "id": "534b5f14",
   "metadata": {},
   "outputs": [
    {
     "data": {
      "text/plain": [
       "range(1, 10, 2)"
      ]
     },
     "execution_count": 8,
     "metadata": {},
     "output_type": "execute_result"
    }
   ],
   "source": [
    "a=range(1,10,2)\n",
    "a"
   ]
  },
  {
   "cell_type": "code",
   "execution_count": 9,
   "id": "28a27f5a",
   "metadata": {},
   "outputs": [
    {
     "data": {
      "text/plain": [
       "[1, 3, 5, 7, 9]"
      ]
     },
     "execution_count": 9,
     "metadata": {},
     "output_type": "execute_result"
    }
   ],
   "source": [
    "list(a)"
   ]
  },
  {
   "cell_type": "code",
   "execution_count": 11,
   "id": "44d8b19e",
   "metadata": {},
   "outputs": [
    {
     "data": {
      "text/plain": [
       "[1, 3, 5, 7, 9]"
      ]
     },
     "execution_count": 11,
     "metadata": {},
     "output_type": "execute_result"
    }
   ],
   "source": [
    "a=list(range(1,10,2))\n",
    "a"
   ]
  },
  {
   "cell_type": "code",
   "execution_count": 16,
   "id": "a61e9d34",
   "metadata": {},
   "outputs": [
    {
     "name": "stdout",
     "output_type": "stream",
     "text": [
      "012345678910"
     ]
    }
   ],
   "source": [
    "for num in range(0,11):\n",
    "    print(num,end=\"\")"
   ]
  },
  {
   "cell_type": "code",
   "execution_count": 17,
   "id": "f83e0c28",
   "metadata": {},
   "outputs": [],
   "source": [
    "#using for loop with lists"
   ]
  },
  {
   "cell_type": "code",
   "execution_count": 21,
   "id": "2a00a1c9",
   "metadata": {},
   "outputs": [],
   "source": [
    "a=[i for i in range(0,6)]"
   ]
  },
  {
   "cell_type": "code",
   "execution_count": 22,
   "id": "d0565d25",
   "metadata": {},
   "outputs": [
    {
     "data": {
      "text/plain": [
       "[0, 1, 2, 3, 4, 5]"
      ]
     },
     "execution_count": 22,
     "metadata": {},
     "output_type": "execute_result"
    }
   ],
   "source": [
    "a"
   ]
  },
  {
   "cell_type": "code",
   "execution_count": 23,
   "id": "b09805ac",
   "metadata": {},
   "outputs": [],
   "source": [
    "b=[i*2 for i in range(0,11)]"
   ]
  },
  {
   "cell_type": "code",
   "execution_count": 24,
   "id": "e314c6b5",
   "metadata": {},
   "outputs": [
    {
     "data": {
      "text/plain": [
       "[0, 2, 4, 6, 8, 10, 12, 14, 16, 18, 20]"
      ]
     },
     "execution_count": 24,
     "metadata": {},
     "output_type": "execute_result"
    }
   ],
   "source": [
    "b"
   ]
  },
  {
   "cell_type": "code",
   "execution_count": 25,
   "id": "0bb32b92",
   "metadata": {},
   "outputs": [],
   "source": [
    "# 1 to 10 tables"
   ]
  },
  {
   "cell_type": "code",
   "execution_count": 26,
   "id": "c10ed0c2",
   "metadata": {},
   "outputs": [],
   "source": [
    "c=[\n",
    "    [2,3],\n",
    "    [4,1]\n",
    "]"
   ]
  },
  {
   "cell_type": "code",
   "execution_count": 27,
   "id": "7d074390",
   "metadata": {},
   "outputs": [
    {
     "data": {
      "text/plain": [
       "[[2, 3], [4, 1]]"
      ]
     },
     "execution_count": 27,
     "metadata": {},
     "output_type": "execute_result"
    }
   ],
   "source": [
    "c"
   ]
  },
  {
   "cell_type": "code",
   "execution_count": 29,
   "id": "29df33cb",
   "metadata": {},
   "outputs": [
    {
     "data": {
      "text/plain": [
       "3"
      ]
     },
     "execution_count": 29,
     "metadata": {},
     "output_type": "execute_result"
    }
   ],
   "source": [
    "c[0][1]"
   ]
  },
  {
   "cell_type": "code",
   "execution_count": 32,
   "id": "0ee5faf2",
   "metadata": {},
   "outputs": [
    {
     "data": {
      "text/plain": [
       "2"
      ]
     },
     "execution_count": 32,
     "metadata": {},
     "output_type": "execute_result"
    }
   ],
   "source": [
    "len(c) # gives me a no.of rows"
   ]
  },
  {
   "cell_type": "code",
   "execution_count": 40,
   "id": "54580943",
   "metadata": {},
   "outputs": [
    {
     "name": "stdout",
     "output_type": "stream",
     "text": [
      "2 3 \n",
      "4 1 \n"
     ]
    }
   ],
   "source": [
    "for i in range(len(c)): #going to each row\n",
    "    for j in range(len(c)): #going to each column in a row\n",
    "        print(c[i][j],end=\" \") #printing in same line for each row\n",
    "    print()  #printing new line when next row comes"
   ]
  },
  {
   "cell_type": "code",
   "execution_count": 59,
   "id": "3cbe4780",
   "metadata": {},
   "outputs": [
    {
     "name": "stdout",
     "output_type": "stream",
     "text": [
      "Enter a number: 6\n",
      "6 * 1 =  6\n",
      "6 * 2 =  12\n",
      "6 * 3 =  18\n",
      "6 * 4 =  24\n",
      "6 * 5 =  30\n",
      "6 * 6 =  36\n",
      "6 * 7 =  42\n",
      "6 * 8 =  48\n",
      "6 * 9 =  54\n",
      "6 * 10 =  60\n"
     ]
    }
   ],
   "source": [
    "        #tables!!\n",
    "\n",
    "\n",
    "a=int(input(\"Enter a number: \"))\n",
    "for i in range(1,11):\n",
    "    c=i*a\n",
    "    print(f\"{a} * {i} = \",c)\n"
   ]
  },
  {
   "cell_type": "code",
   "execution_count": null,
   "id": "74c9ef0e",
   "metadata": {},
   "outputs": [],
   "source": [
    "#table for upto the  given number!!\n",
    "a=int(input(\"Enter a number: \"))\n",
    "for j in range(1,a+1):\n",
    "    for i in range(1,11):\n",
    "        c=i*2\n",
    "        print(f\"{j} * {i} = \",c)\n",
    "    print()"
   ]
  },
  {
   "cell_type": "code",
   "execution_count": 60,
   "id": "2b42a214",
   "metadata": {},
   "outputs": [],
   "source": [
    "# table in a list"
   ]
  },
  {
   "cell_type": "code",
   "execution_count": 64,
   "id": "579e8966",
   "metadata": {},
   "outputs": [
    {
     "name": "stdout",
     "output_type": "stream",
     "text": [
      "Enter a number: 2\n"
     ]
    },
    {
     "data": {
      "text/plain": [
       "[2, 4, 6, 8, 10, 12, 14, 16, 18, 20]"
      ]
     },
     "execution_count": 64,
     "metadata": {},
     "output_type": "execute_result"
    }
   ],
   "source": [
    "n=int(input(\"Enter a number: \"))\n",
    "d=[i*n for i in range(1,11)]\n",
    "d"
   ]
  },
  {
   "cell_type": "code",
   "execution_count": 13,
   "id": "2fc87c49",
   "metadata": {},
   "outputs": [
    {
     "data": {
      "text/plain": [
       "[[1, 2, 3, 4, 5, 6, 7, 8, 9, 10],\n",
       " [2, 4, 6, 8, 10, 12, 14, 16, 18, 20],\n",
       " [3, 6, 9, 12, 15, 18, 21, 24, 27, 30],\n",
       " [4, 8, 12, 16, 20, 24, 28, 32, 36, 40],\n",
       " [5, 10, 15, 20, 25, 30, 35, 40, 45, 50],\n",
       " [6, 12, 18, 24, 30, 36, 42, 48, 54, 60],\n",
       " [7, 14, 21, 28, 35, 42, 49, 56, 63, 70],\n",
       " [8, 16, 24, 32, 40, 48, 56, 64, 72, 80],\n",
       " [9, 18, 27, 36, 45, 54, 63, 72, 81, 90],\n",
       " [10, 20, 30, 40, 50, 60, 70, 80, 90, 100]]"
      ]
     },
     "execution_count": 13,
     "metadata": {},
     "output_type": "execute_result"
    }
   ],
   "source": [
    "#table in a ilst upto 10 tables\n",
    "c=[[i*n for i in range(1,11)]for n in range(1,11)]\n",
    "c"
   ]
  },
  {
   "cell_type": "code",
   "execution_count": 14,
   "id": "02fe6b8e",
   "metadata": {},
   "outputs": [
    {
     "name": "stdout",
     "output_type": "stream",
     "text": [
      "Enter a number: 5\n"
     ]
    },
    {
     "data": {
      "text/plain": [
       "[[1, 2, 3, 4, 5, 6, 7, 8, 9, 10],\n",
       " [2, 4, 6, 8, 10, 12, 14, 16, 18, 20],\n",
       " [3, 6, 9, 12, 15, 18, 21, 24, 27, 30],\n",
       " [4, 8, 12, 16, 20, 24, 28, 32, 36, 40],\n",
       " [5, 10, 15, 20, 25, 30, 35, 40, 45, 50]]"
      ]
     },
     "execution_count": 14,
     "metadata": {},
     "output_type": "execute_result"
    }
   ],
   "source": [
    "#tables in a list upto given input\n",
    "z=int(input(\"Enter a number: \"))\n",
    "x=[[i*n for i in range(1,11)] for n in range(1,z+1)]\n",
    "x"
   ]
  },
  {
   "cell_type": "code",
   "execution_count": 15,
   "id": "513fee4d",
   "metadata": {},
   "outputs": [],
   "source": [
    "#we completed\n",
    "#list\n",
    "#range\n",
    "#comprehension\n",
    "#loops"
   ]
  },
  {
   "cell_type": "code",
   "execution_count": 18,
   "id": "89b8ca25",
   "metadata": {},
   "outputs": [],
   "source": [
    "#break : used to break out of a loop"
   ]
  },
  {
   "cell_type": "code",
   "execution_count": 5,
   "id": "de57d876",
   "metadata": {},
   "outputs": [
    {
     "data": {
      "text/plain": [
       "[1, 2, 3, 4, 5, 6, 7, 8, 9, 10]"
      ]
     },
     "execution_count": 5,
     "metadata": {},
     "output_type": "execute_result"
    }
   ],
   "source": [
    "a=list(range(1,11))\n",
    "a"
   ]
  },
  {
   "cell_type": "code",
   "execution_count": 37,
   "id": "2d6cfc93",
   "metadata": {},
   "outputs": [
    {
     "name": "stdout",
     "output_type": "stream",
     "text": [
      "1 2 3 4 5 "
     ]
    }
   ],
   "source": [
    "for i in a:\n",
    "    print(i,end=\" \")\n",
    "    if i ==5:\n",
    "        break"
   ]
  },
  {
   "cell_type": "code",
   "execution_count": 6,
   "id": "72bbdf71",
   "metadata": {},
   "outputs": [
    {
     "name": "stdout",
     "output_type": "stream",
     "text": [
      "1 2 3 4 6 7 8 9 10 "
     ]
    }
   ],
   "source": [
    "#contine\n",
    "for i in a:\n",
    "    if i==5:\n",
    "        continue\n",
    "    print(i,end=' ')"
   ]
  },
  {
   "cell_type": "code",
   "execution_count": 14,
   "id": "7fcc3da2",
   "metadata": {},
   "outputs": [
    {
     "name": "stdout",
     "output_type": "stream",
     "text": [
      "1 2 3 4 5 6 "
     ]
    }
   ],
   "source": [
    "for i in a:\n",
    "    print(i,end=\" \")\n",
    "    if i==6:\n",
    "        break\n",
    "else:\n",
    "    print(\"\\nelse statement  printed\")"
   ]
  },
  {
   "cell_type": "code",
   "execution_count": null,
   "id": "5eb753f8",
   "metadata": {},
   "outputs": [],
   "source": []
  }
 ],
 "metadata": {
  "kernelspec": {
   "display_name": "Python 3 (ipykernel)",
   "language": "python",
   "name": "python3"
  },
  "language_info": {
   "codemirror_mode": {
    "name": "ipython",
    "version": 3
   },
   "file_extension": ".py",
   "mimetype": "text/x-python",
   "name": "python",
   "nbconvert_exporter": "python",
   "pygments_lexer": "ipython3",
   "version": "3.9.12"
  }
 },
 "nbformat": 4,
 "nbformat_minor": 5
}
