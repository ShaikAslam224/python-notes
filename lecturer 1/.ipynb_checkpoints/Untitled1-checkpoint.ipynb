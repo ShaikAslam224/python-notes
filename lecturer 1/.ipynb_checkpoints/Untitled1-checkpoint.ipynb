{
 "cells": [
  {
   "cell_type": "code",
   "execution_count": 1,
   "id": "6b4bd3d9",
   "metadata": {},
   "outputs": [],
   "source": [
    "a=30.3"
   ]
  },
  {
   "cell_type": "code",
   "execution_count": 2,
   "id": "66cb1e47",
   "metadata": {},
   "outputs": [
    {
     "data": {
      "text/plain": [
       "float"
      ]
     },
     "execution_count": 2,
     "metadata": {},
     "output_type": "execute_result"
    }
   ],
   "source": [
    "type(a)"
   ]
  },
  {
   "cell_type": "code",
   "execution_count": 5,
   "id": "f5ff6b85",
   "metadata": {},
   "outputs": [],
   "source": [
    "a=9459847598743592340958734895"
   ]
  },
  {
   "cell_type": "code",
   "execution_count": 6,
   "id": "a8e00bbe",
   "metadata": {},
   "outputs": [
    {
     "data": {
      "text/plain": [
       "int"
      ]
     },
     "execution_count": 6,
     "metadata": {},
     "output_type": "execute_result"
    }
   ],
   "source": [
    "type(a)"
   ]
  },
  {
   "cell_type": "code",
   "execution_count": 7,
   "id": "74494049",
   "metadata": {},
   "outputs": [
    {
     "data": {
      "text/plain": [
       "32936905717283584210071973618744617548277945687488241280558647964792306368960713551529433640381220783462605355513395022153157471553117172379068138209643903083286487092327818626093150888633094267200911210812262340862021749375565822300741225337891167209482532138211193954037427291675860768429113622056055476174614916631892167230049477205973580050222912727295585020113731419099643532647952184241375467387717525592386424429870206734876056571144775043478207819985691626577643033059355734362398755307100816950188894921547434186929718869733318105607643222808837890625"
      ]
     },
     "execution_count": 7,
     "metadata": {},
     "output_type": "execute_result"
    }
   ],
   "source": [
    "a**20"
   ]
  },
  {
   "cell_type": "code",
   "execution_count": 15,
   "id": "fe9c6ab2",
   "metadata": {},
   "outputs": [
    {
     "data": {
      "text/plain": [
       "515377520732011331036461129765621272702107522001"
      ]
     },
     "execution_count": 15,
     "metadata": {},
     "output_type": "execute_result"
    }
   ],
   "source": []
  },
  {
   "cell_type": "code",
   "execution_count": 13,
   "id": "480de91e",
   "metadata": {},
   "outputs": [],
   "source": [
    "a=3"
   ]
  },
  {
   "cell_type": "code",
   "execution_count": 14,
   "id": "38f5da60",
   "metadata": {},
   "outputs": [],
   "source": [
    "b=4"
   ]
  },
  {
   "cell_type": "code",
   "execution_count": null,
   "id": "8b410189",
   "metadata": {},
   "outputs": [],
   "source": []
  },
  {
   "cell_type": "code",
   "execution_count": null,
   "id": "527b6a8e",
   "metadata": {},
   "outputs": [],
   "source": []
  }
 ],
 "metadata": {
  "kernelspec": {
   "display_name": "Python 3 (ipykernel)",
   "language": "python",
   "name": "python3"
  },
  "language_info": {
   "codemirror_mode": {
    "name": "ipython",
    "version": 3
   },
   "file_extension": ".py",
   "mimetype": "text/x-python",
   "name": "python",
   "nbconvert_exporter": "python",
   "pygments_lexer": "ipython3",
   "version": "3.9.12"
  }
 },
 "nbformat": 4,
 "nbformat_minor": 5
}
