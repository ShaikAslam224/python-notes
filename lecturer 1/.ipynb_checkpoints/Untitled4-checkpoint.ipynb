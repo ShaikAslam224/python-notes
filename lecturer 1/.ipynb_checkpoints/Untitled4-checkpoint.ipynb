{
 "cells": [
  {
   "cell_type": "code",
   "execution_count": null,
   "id": "f3190c0e",
   "metadata": {},
   "outputs": [],
   "source": [
    "ravi=[43,24,65]\n",
    "shekar=ravi"
   ]
  },
  {
   "cell_type": "code",
   "execution_count": 15,
   "id": "0a9fea5c",
   "metadata": {},
   "outputs": [
    {
     "data": {
      "text/plain": [
       "65"
      ]
     },
     "execution_count": 15,
     "metadata": {},
     "output_type": "execute_result"
    }
   ],
   "source": [
    "shekar[2]"
   ]
  },
  {
   "cell_type": "code",
   "execution_count": 16,
   "id": "542db59b",
   "metadata": {},
   "outputs": [
    {
     "data": {
      "text/plain": [
       "[43, 24, 65]"
      ]
     },
     "execution_count": 16,
     "metadata": {},
     "output_type": "execute_result"
    }
   ],
   "source": [
    "shekar"
   ]
  },
  {
   "cell_type": "code",
   "execution_count": 17,
   "id": "169cf319",
   "metadata": {},
   "outputs": [],
   "source": [
    "shekar[0]=100"
   ]
  },
  {
   "cell_type": "code",
   "execution_count": 5,
   "id": "fd6e820d",
   "metadata": {},
   "outputs": [
    {
     "data": {
      "text/plain": [
       "[100, 24, 65]"
      ]
     },
     "execution_count": 5,
     "metadata": {},
     "output_type": "execute_result"
    }
   ],
   "source": [
    "shekar"
   ]
  },
  {
   "cell_type": "code",
   "execution_count": 6,
   "id": "67af63aa",
   "metadata": {},
   "outputs": [
    {
     "data": {
      "text/plain": [
       "[100, 24, 65]"
      ]
     },
     "execution_count": 6,
     "metadata": {},
     "output_type": "execute_result"
    }
   ],
   "source": [
    "ravi"
   ]
  },
  {
   "cell_type": "code",
   "execution_count": 7,
   "id": "741a5282",
   "metadata": {},
   "outputs": [],
   "source": [
    "rahul=[45,54]"
   ]
  },
  {
   "cell_type": "code",
   "execution_count": 8,
   "id": "3b91fa80",
   "metadata": {},
   "outputs": [],
   "source": [
    "shekar=rahul"
   ]
  },
  {
   "cell_type": "code",
   "execution_count": 10,
   "id": "a0aca81a",
   "metadata": {},
   "outputs": [],
   "source": [
    "ravi=None"
   ]
  },
  {
   "cell_type": "code",
   "execution_count": 13,
   "id": "dde7f51b",
   "metadata": {},
   "outputs": [
    {
     "data": {
      "text/plain": [
       "[45, 54]"
      ]
     },
     "execution_count": 13,
     "metadata": {},
     "output_type": "execute_result"
    }
   ],
   "source": [
    "shekar"
   ]
  },
  {
   "cell_type": "code",
   "execution_count": null,
   "id": "fa2c8bd8",
   "metadata": {},
   "outputs": [],
   "source": []
  }
 ],
 "metadata": {
  "kernelspec": {
   "display_name": "Python 3 (ipykernel)",
   "language": "python",
   "name": "python3"
  },
  "language_info": {
   "codemirror_mode": {
    "name": "ipython",
    "version": 3
   },
   "file_extension": ".py",
   "mimetype": "text/x-python",
   "name": "python",
   "nbconvert_exporter": "python",
   "pygments_lexer": "ipython3",
   "version": "3.9.12"
  }
 },
 "nbformat": 4,
 "nbformat_minor": 5
}
