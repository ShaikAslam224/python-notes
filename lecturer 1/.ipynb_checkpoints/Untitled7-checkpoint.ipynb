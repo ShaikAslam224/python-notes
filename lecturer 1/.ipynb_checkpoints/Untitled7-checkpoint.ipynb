{
 "cells": [
  {
   "cell_type": "code",
   "execution_count": 1,
   "id": "d6db8482",
   "metadata": {},
   "outputs": [],
   "source": [
    "#functions"
   ]
  },
  {
   "cell_type": "code",
   "execution_count": 5,
   "id": "51515e1d",
   "metadata": {},
   "outputs": [],
   "source": [
    "def fun():\n",
    "    print(\"Hello World!\")\n",
    "    "
   ]
  },
  {
   "cell_type": "code",
   "execution_count": 6,
   "id": "5cd42a1f",
   "metadata": {},
   "outputs": [
    {
     "name": "stdout",
     "output_type": "stream",
     "text": [
      "Hello World!\n"
     ]
    }
   ],
   "source": [
    "fun()"
   ]
  },
  {
   "cell_type": "code",
   "execution_count": 7,
   "id": "e3a88399",
   "metadata": {},
   "outputs": [],
   "source": [
    "# if there are no return funtion , fun returns none"
   ]
  },
  {
   "cell_type": "code",
   "execution_count": 8,
   "id": "81d0760c",
   "metadata": {},
   "outputs": [
    {
     "name": "stdout",
     "output_type": "stream",
     "text": [
      "Hello World!\n"
     ]
    }
   ],
   "source": [
    "a=fun()"
   ]
  },
  {
   "cell_type": "code",
   "execution_count": 9,
   "id": "a94a8900",
   "metadata": {},
   "outputs": [
    {
     "name": "stdout",
     "output_type": "stream",
     "text": [
      "None\n"
     ]
    }
   ],
   "source": [
    "print(a) #like this"
   ]
  },
  {
   "cell_type": "code",
   "execution_count": 10,
   "id": "3b99e8a6",
   "metadata": {},
   "outputs": [],
   "source": [
    "def z():\n",
    "    return 5"
   ]
  },
  {
   "cell_type": "code",
   "execution_count": 11,
   "id": "39ce9562",
   "metadata": {},
   "outputs": [
    {
     "data": {
      "text/plain": [
       "5"
      ]
     },
     "execution_count": 11,
     "metadata": {},
     "output_type": "execute_result"
    }
   ],
   "source": [
    "z()"
   ]
  },
  {
   "cell_type": "code",
   "execution_count": 12,
   "id": "6d52848b",
   "metadata": {},
   "outputs": [],
   "source": [
    "a=z()"
   ]
  },
  {
   "cell_type": "code",
   "execution_count": 13,
   "id": "3cae2360",
   "metadata": {},
   "outputs": [
    {
     "data": {
      "text/plain": [
       "5"
      ]
     },
     "execution_count": 13,
     "metadata": {},
     "output_type": "execute_result"
    }
   ],
   "source": [
    "a"
   ]
  },
  {
   "cell_type": "code",
   "execution_count": 14,
   "id": "8993c051",
   "metadata": {},
   "outputs": [],
   "source": [
    "# add two numbers"
   ]
  },
  {
   "cell_type": "code",
   "execution_count": 15,
   "id": "c9b74732",
   "metadata": {},
   "outputs": [],
   "source": [
    "def add(a,b):\n",
    "    sum=a+b\n",
    "    return sum    "
   ]
  },
  {
   "cell_type": "code",
   "execution_count": 18,
   "id": "75d09c87",
   "metadata": {},
   "outputs": [],
   "source": [
    "a=add(5,5)"
   ]
  },
  {
   "cell_type": "code",
   "execution_count": 19,
   "id": "5877bb6c",
   "metadata": {},
   "outputs": [
    {
     "data": {
      "text/plain": [
       "10"
      ]
     },
     "execution_count": 19,
     "metadata": {},
     "output_type": "execute_result"
    }
   ],
   "source": [
    "a"
   ]
  },
  {
   "cell_type": "code",
   "execution_count": 2,
   "id": "8cb67cfe",
   "metadata": {},
   "outputs": [],
   "source": [
    "def fun():\n",
    "    print(\"Hello world\")"
   ]
  },
  {
   "cell_type": "code",
   "execution_count": 3,
   "id": "f50c4d6b",
   "metadata": {},
   "outputs": [],
   "source": [
    "a=fun"
   ]
  },
  {
   "cell_type": "code",
   "execution_count": 4,
   "id": "cc48ea4b",
   "metadata": {},
   "outputs": [
    {
     "name": "stdout",
     "output_type": "stream",
     "text": [
      "Hello world\n"
     ]
    }
   ],
   "source": [
    "a()"
   ]
  },
  {
   "cell_type": "code",
   "execution_count": 5,
   "id": "520382ff",
   "metadata": {},
   "outputs": [
    {
     "name": "stdout",
     "output_type": "stream",
     "text": [
      "Hello world\n"
     ]
    }
   ],
   "source": [
    "fun()"
   ]
  },
  {
   "cell_type": "code",
   "execution_count": 7,
   "id": "b0d1467b",
   "metadata": {},
   "outputs": [],
   "source": [
    "def multiply(a,b):\n",
    "    return a*b"
   ]
  },
  {
   "cell_type": "code",
   "execution_count": 8,
   "id": "d45ef6fa",
   "metadata": {},
   "outputs": [
    {
     "data": {
      "text/plain": [
       "86"
      ]
     },
     "execution_count": 8,
     "metadata": {},
     "output_type": "execute_result"
    }
   ],
   "source": [
    "multiply(43,2)"
   ]
  },
  {
   "cell_type": "code",
   "execution_count": 9,
   "id": "9844c1a0",
   "metadata": {},
   "outputs": [],
   "source": [
    "def add(a,b):\n",
    "    return a+b"
   ]
  },
  {
   "cell_type": "code",
   "execution_count": 10,
   "id": "282c2026",
   "metadata": {},
   "outputs": [],
   "source": [
    "#if your function body is small, then use inline/lambda functions"
   ]
  },
  {
   "cell_type": "code",
   "execution_count": 11,
   "id": "3a693000",
   "metadata": {},
   "outputs": [],
   "source": [
    "def fun(a):\n",
    "    print(a)"
   ]
  },
  {
   "cell_type": "code",
   "execution_count": 13,
   "id": "bf87d58c",
   "metadata": {},
   "outputs": [
    {
     "name": "stdout",
     "output_type": "stream",
     "text": [
      "Aslam\n"
     ]
    }
   ],
   "source": [
    "\n",
    "fun(\"Aslam\")"
   ]
  },
  {
   "cell_type": "code",
   "execution_count": 17,
   "id": "503f11ad",
   "metadata": {},
   "outputs": [],
   "source": [
    "fun=lambda a:print(a)  #similar to same a In line 11"
   ]
  },
  {
   "cell_type": "code",
   "execution_count": 18,
   "id": "1c0f8cca",
   "metadata": {},
   "outputs": [
    {
     "name": "stdout",
     "output_type": "stream",
     "text": [
      "aslam\n"
     ]
    }
   ],
   "source": [
    "fun(\"aslam\")"
   ]
  },
  {
   "cell_type": "code",
   "execution_count": 21,
   "id": "0e3f4eb6",
   "metadata": {},
   "outputs": [],
   "source": [
    "add=lambda a,b:a+b"
   ]
  },
  {
   "cell_type": "code",
   "execution_count": 22,
   "id": "15b0e48f",
   "metadata": {},
   "outputs": [
    {
     "data": {
      "text/plain": [
       "6"
      ]
     },
     "execution_count": 22,
     "metadata": {},
     "output_type": "execute_result"
    }
   ],
   "source": [
    "add(4,2)"
   ]
  },
  {
   "cell_type": "code",
   "execution_count": 23,
   "id": "ed35c4a5",
   "metadata": {},
   "outputs": [
    {
     "data": {
      "text/plain": [
       "686"
      ]
     },
     "execution_count": 23,
     "metadata": {},
     "output_type": "execute_result"
    }
   ],
   "source": [
    "add(343,343)"
   ]
  },
  {
   "cell_type": "code",
   "execution_count": null,
   "id": "cdd0cbea",
   "metadata": {},
   "outputs": [],
   "source": []
  },
  {
   "cell_type": "code",
   "execution_count": null,
   "id": "c9ab8a2a",
   "metadata": {},
   "outputs": [],
   "source": [
    "# map functions: applies a given function to each element of iterable"
   ]
  },
  {
   "cell_type": "code",
   "execution_count": 1,
   "id": "b3ba590c",
   "metadata": {},
   "outputs": [],
   "source": [
    "#multiplying a list with a number using map"
   ]
  },
  {
   "cell_type": "code",
   "execution_count": 2,
   "id": "454a3337",
   "metadata": {},
   "outputs": [],
   "source": [
    "a=[1,2,3,4,5]"
   ]
  },
  {
   "cell_type": "code",
   "execution_count": 8,
   "id": "6e1f1e06",
   "metadata": {},
   "outputs": [],
   "source": [
    "def multiply(x): # here x is a each element of 'a'. Not a whole 'a'!\n",
    "    return x*2"
   ]
  },
  {
   "cell_type": "code",
   "execution_count": 9,
   "id": "0e7e5e56",
   "metadata": {},
   "outputs": [
    {
     "data": {
      "text/plain": [
       "[2, 4, 6, 8, 10]"
      ]
     },
     "execution_count": 9,
     "metadata": {},
     "output_type": "execute_result"
    }
   ],
   "source": [
    "list(map(multiply,a))"
   ]
  },
  {
   "cell_type": "code",
   "execution_count": 13,
   "id": "95a83e36",
   "metadata": {},
   "outputs": [
    {
     "data": {
      "text/plain": [
       "[2, 4, 6, 8, 10]"
      ]
     },
     "execution_count": 13,
     "metadata": {},
     "output_type": "execute_result"
    }
   ],
   "source": [
    "list(map(lambda x: x*2,a))"
   ]
  },
  {
   "cell_type": "code",
   "execution_count": 14,
   "id": "a2c83968",
   "metadata": {},
   "outputs": [],
   "source": [
    "# make every element  power that of element"
   ]
  },
  {
   "cell_type": "code",
   "execution_count": 18,
   "id": "bf8c549a",
   "metadata": {},
   "outputs": [
    {
     "data": {
      "text/plain": [
       "[4, 16, 25, 36, 49, 64]"
      ]
     },
     "execution_count": 18,
     "metadata": {},
     "output_type": "execute_result"
    }
   ],
   "source": [
    "b=[2,4,5,6,7,8]\n",
    "list(map(lambda x: x**2,b))"
   ]
  },
  {
   "cell_type": "code",
   "execution_count": 19,
   "id": "5e909eaf",
   "metadata": {},
   "outputs": [],
   "source": [
    "# I only want even numbers"
   ]
  },
  {
   "cell_type": "code",
   "execution_count": 24,
   "id": "b80612c5",
   "metadata": {},
   "outputs": [],
   "source": [
    "c=[1,2,3,4,5,6,7,8,9,10]\n",
    "def isEven(x):\n",
    "    if x%2==0:\n",
    "        return True\n",
    "    else:\n",
    "        return False"
   ]
  },
  {
   "cell_type": "code",
   "execution_count": 27,
   "id": "f0fc0647",
   "metadata": {},
   "outputs": [
    {
     "data": {
      "text/plain": [
       "[2, 4, 6, 8, 10]"
      ]
     },
     "execution_count": 27,
     "metadata": {},
     "output_type": "execute_result"
    }
   ],
   "source": [
    "list(filter(isEven,c))"
   ]
  },
  {
   "cell_type": "code",
   "execution_count": 23,
   "id": "995e072a",
   "metadata": {},
   "outputs": [
    {
     "data": {
      "text/plain": [
       "[2, 4, 6, 8, 10]"
      ]
     },
     "execution_count": 23,
     "metadata": {},
     "output_type": "execute_result"
    }
   ],
   "source": [
    "c=[1,2,3,4,5,6,7,8,9,10]\n",
    "list(filter(lambda x: x%2==0,c))"
   ]
  },
  {
   "cell_type": "code",
   "execution_count": 21,
   "id": "982b3945",
   "metadata": {},
   "outputs": [],
   "source": [
    "filter?"
   ]
  },
  {
   "cell_type": "code",
   "execution_count": 31,
   "id": "2f6783d8",
   "metadata": {},
   "outputs": [
    {
     "data": {
      "text/plain": [
       "False"
      ]
     },
     "execution_count": 31,
     "metadata": {},
     "output_type": "execute_result"
    }
   ],
   "source": [
    "7%2==0"
   ]
  },
  {
   "cell_type": "code",
   "execution_count": 32,
   "id": "64a30f76",
   "metadata": {},
   "outputs": [],
   "source": [
    "#comments"
   ]
  },
  {
   "cell_type": "code",
   "execution_count": 33,
   "id": "b905f666",
   "metadata": {},
   "outputs": [],
   "source": [
    "#djfaj;fj;asldfjlsdjflasf"
   ]
  },
  {
   "cell_type": "code",
   "execution_count": 34,
   "id": "e4239e3c",
   "metadata": {},
   "outputs": [
    {
     "data": {
      "text/plain": [
       "'dfjajfklejr;lejr;lejrejr'"
      ]
     },
     "execution_count": 34,
     "metadata": {},
     "output_type": "execute_result"
    }
   ],
   "source": [
    "'''dfjajfklejr;lejr;lejrejr''' #it will print so it is not a comments"
   ]
  },
  {
   "cell_type": "code",
   "execution_count": 1,
   "id": "4090df5c",
   "metadata": {},
   "outputs": [],
   "source": [
    "def fun():\n",
    "    pass # it will not exicute"
   ]
  },
  {
   "cell_type": "code",
   "execution_count": 2,
   "id": "bf61cdbe",
   "metadata": {},
   "outputs": [],
   "source": [
    "fun()"
   ]
  },
  {
   "cell_type": "code",
   "execution_count": 4,
   "id": "17d1766e",
   "metadata": {},
   "outputs": [],
   "source": [
    "def gun():\n",
    "    '''fldjfkj;f\n",
    "    dfldfjsldkjfds;l'''"
   ]
  },
  {
   "cell_type": "code",
   "execution_count": 5,
   "id": "f43e7699",
   "metadata": {},
   "outputs": [],
   "source": [
    "gun()"
   ]
  },
  {
   "cell_type": "code",
   "execution_count": 6,
   "id": "b6298c59",
   "metadata": {},
   "outputs": [
    {
     "ename": "IndentationError",
     "evalue": "expected an indented block (475260239.py, line 2)",
     "output_type": "error",
     "traceback": [
      "\u001b[1;36m  Input \u001b[1;32mIn [6]\u001b[1;36m\u001b[0m\n\u001b[1;33m    # this is an actual comment\u001b[0m\n\u001b[1;37m                               ^\u001b[0m\n\u001b[1;31mIndentationError\u001b[0m\u001b[1;31m:\u001b[0m expected an indented block\n"
     ]
    }
   ],
   "source": [
    "def bun():\n",
    "    # this is an actual comment"
   ]
  },
  {
   "cell_type": "code",
   "execution_count": 9,
   "id": "875db2dc",
   "metadata": {},
   "outputs": [],
   "source": [
    "# in python : there is only 1 way to give a comments i.e, #"
   ]
  },
  {
   "cell_type": "code",
   "execution_count": 10,
   "id": "0e3c98fb",
   "metadata": {},
   "outputs": [],
   "source": [
    "# multiline strings : ''' ''' or \"\"\" \"\"\""
   ]
  },
  {
   "cell_type": "code",
   "execution_count": 11,
   "id": "a5890a90",
   "metadata": {},
   "outputs": [],
   "source": [
    "#everything in python object"
   ]
  },
  {
   "cell_type": "code",
   "execution_count": 12,
   "id": "586d0e11",
   "metadata": {},
   "outputs": [],
   "source": [
    "#functions are also object"
   ]
  },
  {
   "cell_type": "code",
   "execution_count": 13,
   "id": "562d6705",
   "metadata": {},
   "outputs": [],
   "source": [
    "#classes are also  object"
   ]
  },
  {
   "cell_type": "code",
   "execution_count": 14,
   "id": "cfffcc2c",
   "metadata": {},
   "outputs": [
    {
     "data": {
      "text/plain": [
       "True"
      ]
     },
     "execution_count": 14,
     "metadata": {},
     "output_type": "execute_result"
    }
   ],
   "source": [
    "a=3\n",
    "isinstance(a,object)"
   ]
  },
  {
   "cell_type": "code",
   "execution_count": 15,
   "id": "701abe27",
   "metadata": {},
   "outputs": [],
   "source": [
    "isinstance?"
   ]
  },
  {
   "cell_type": "code",
   "execution_count": 18,
   "id": "93c756f4",
   "metadata": {},
   "outputs": [],
   "source": [
    "def multiply(x): # here functions are also object\n",
    "    return x*2"
   ]
  },
  {
   "cell_type": "code",
   "execution_count": 19,
   "id": "12779d0a",
   "metadata": {},
   "outputs": [
    {
     "data": {
      "text/plain": [
       "True"
      ]
     },
     "execution_count": 19,
     "metadata": {},
     "output_type": "execute_result"
    }
   ],
   "source": [
    "isinstance(multiply,object)"
   ]
  },
  {
   "cell_type": "code",
   "execution_count": null,
   "id": "6dd8b241",
   "metadata": {},
   "outputs": [],
   "source": [
    "# w       # here first select all and then click ctrl+/ all are undergoes to comment sections\n",
    "# w\n",
    "# w\n",
    "# w\n",
    "# w\n",
    "# w\n",
    "# w\n",
    "# w\n",
    "# w\n",
    "# w\n",
    "# w\n",
    "# w"
   ]
  }
 ],
 "metadata": {
  "kernelspec": {
   "display_name": "Python 3 (ipykernel)",
   "language": "python",
   "name": "python3"
  },
  "language_info": {
   "codemirror_mode": {
    "name": "ipython",
    "version": 3
   },
   "file_extension": ".py",
   "mimetype": "text/x-python",
   "name": "python",
   "nbconvert_exporter": "python",
   "pygments_lexer": "ipython3",
   "version": "3.9.12"
  }
 },
 "nbformat": 4,
 "nbformat_minor": 5
}
