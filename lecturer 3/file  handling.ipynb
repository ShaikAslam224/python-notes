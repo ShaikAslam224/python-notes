{
 "cells": [
  {
   "cell_type": "code",
   "execution_count": 1,
   "id": "283a0988",
   "metadata": {},
   "outputs": [],
   "source": [
    "#file handling"
   ]
  },
  {
   "cell_type": "code",
   "execution_count": 2,
   "id": "7206aa7c",
   "metadata": {},
   "outputs": [],
   "source": [
    "# context managers"
   ]
  },
  {
   "cell_type": "code",
   "execution_count": 3,
   "id": "6e15c6d6",
   "metadata": {},
   "outputs": [],
   "source": [
    "#reading a file in python"
   ]
  },
  {
   "cell_type": "code",
   "execution_count": 1,
   "id": "092a1467",
   "metadata": {},
   "outputs": [
    {
     "name": "stdout",
     "output_type": "stream",
     "text": [
      "Hello! My name is shaik Aslam\n",
      "I am form proddatur\n"
     ]
    }
   ],
   "source": [
    "with open(\"demo.txt\",\"r\") as file:  # \"r\" for read  and \"w\" for write \n",
    "    print(file.read())"
   ]
  },
  {
   "cell_type": "code",
   "execution_count": 3,
   "id": "1ec85d1c",
   "metadata": {},
   "outputs": [],
   "source": [
    "with open (\"writing.txt\",\"w\") as file:  # here \"w\" is used to write and it create a new txt file to write \n",
    "    file.write(\"Hi hello everyone Iam shaik Aslam \\nhow are you?\")"
   ]
  },
  {
   "cell_type": "code",
   "execution_count": null,
   "id": "9c6a31bb",
   "metadata": {},
   "outputs": [],
   "source": []
  }
 ],
 "metadata": {
  "kernelspec": {
   "display_name": "Python 3 (ipykernel)",
   "language": "python",
   "name": "python3"
  },
  "language_info": {
   "codemirror_mode": {
    "name": "ipython",
    "version": 3
   },
   "file_extension": ".py",
   "mimetype": "text/x-python",
   "name": "python",
   "nbconvert_exporter": "python",
   "pygments_lexer": "ipython3",
   "version": "3.9.12"
  }
 },
 "nbformat": 4,
 "nbformat_minor": 5
}
