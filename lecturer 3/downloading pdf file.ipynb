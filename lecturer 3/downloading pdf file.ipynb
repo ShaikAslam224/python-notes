{
 "cells": [
  {
   "cell_type": "code",
   "execution_count": 1,
   "id": "160bfaf0",
   "metadata": {},
   "outputs": [],
   "source": [
    "url=\"https://www.africau.edu/images/default/sample.pdf\""
   ]
  },
  {
   "cell_type": "code",
   "execution_count": 2,
   "id": "28377437",
   "metadata": {},
   "outputs": [],
   "source": [
    "import requests\n",
    "import math\n",
    "from tqdm import tqdm\n",
    "import time"
   ]
  },
  {
   "cell_type": "code",
   "execution_count": 3,
   "id": "5864e623",
   "metadata": {},
   "outputs": [],
   "source": [
    "# at one time i want to download 17645 byes\n",
    "chunk_size=256"
   ]
  },
  {
   "cell_type": "code",
   "execution_count": 4,
   "id": "976bc3c1",
   "metadata": {},
   "outputs": [],
   "source": [
    "n=5"
   ]
  },
  {
   "cell_type": "code",
   "execution_count": 5,
   "id": "85d7a1bb",
   "metadata": {},
   "outputs": [
    {
     "ename": "NameError",
     "evalue": "name 'r' is not defined",
     "output_type": "error",
     "traceback": [
      "\u001b[1;31m---------------------------------------------------------------------------\u001b[0m",
      "\u001b[1;31mNameError\u001b[0m                                 Traceback (most recent call last)",
      "Input \u001b[1;32mIn [5]\u001b[0m, in \u001b[0;36m<cell line: 1>\u001b[1;34m()\u001b[0m\n\u001b[1;32m----> 1\u001b[0m r\u001b[38;5;241m=\u001b[39m\u001b[38;5;28mint\u001b[39m(\u001b[43mr\u001b[49m\u001b[38;5;241m.\u001b[39mheaders[\u001b[38;5;124m'\u001b[39m\u001b[38;5;124mContent-Length\u001b[39m\u001b[38;5;124m'\u001b[39m])\n\u001b[0;32m      2\u001b[0m r\n",
      "\u001b[1;31mNameError\u001b[0m: name 'r' is not defined"
     ]
    }
   ],
   "source": [
    "r=int(r.headers['Content-Length'])\n",
    "r"
   ]
  },
  {
   "cell_type": "code",
   "execution_count": null,
   "id": "1423476b",
   "metadata": {},
   "outputs": [],
   "source": [
    "r=requests.get(url,stream=True)"
   ]
  },
  {
   "cell_type": "code",
   "execution_count": null,
   "id": "bccb10a2",
   "metadata": {},
   "outputs": [],
   "source": [
    "with open(\"file.pdf\",\"wb\") as file:\n",
    "    for chunk in tqdm(r.iter_content(chunk_size=chunk_size),total=n):\n",
    "        time.sleep(1)\n",
    "        file.write(chunk)"
   ]
  },
  {
   "cell_type": "code",
   "execution_count": 9,
   "id": "7c9e82ac",
   "metadata": {},
   "outputs": [],
   "source": [
    "import requests"
   ]
  },
  {
   "cell_type": "code",
   "execution_count": 65,
   "id": "6c65c672",
   "metadata": {},
   "outputs": [],
   "source": [
    "url=\"https://www.adobe.com/support/products/enterprise/knowledgecenter/media/c4611_sample_explain.pdf\""
   ]
  },
  {
   "cell_type": "code",
   "execution_count": 66,
   "id": "d9b0b050",
   "metadata": {},
   "outputs": [],
   "source": [
    "s=requests.get(url,stream=True)"
   ]
  },
  {
   "cell_type": "code",
   "execution_count": 67,
   "id": "0cb79668",
   "metadata": {},
   "outputs": [],
   "source": [
    "chunk_size=17745"
   ]
  },
  {
   "cell_type": "code",
   "execution_count": 68,
   "id": "12f9b358",
   "metadata": {},
   "outputs": [
    {
     "data": {
      "text/plain": [
       "88226"
      ]
     },
     "execution_count": 68,
     "metadata": {},
     "output_type": "execute_result"
    }
   ],
   "source": [
    "s=int(s.headers['Content-Length'])\n",
    "s"
   ]
  },
  {
   "cell_type": "code",
   "execution_count": 69,
   "id": "a56176f5",
   "metadata": {},
   "outputs": [
    {
     "data": {
      "text/plain": [
       "5"
      ]
     },
     "execution_count": 69,
     "metadata": {},
     "output_type": "execute_result"
    }
   ],
   "source": [
    "n=5\n",
    "n"
   ]
  },
  {
   "cell_type": "code",
   "execution_count": 70,
   "id": "a23f7353",
   "metadata": {},
   "outputs": [
    {
     "ename": "AttributeError",
     "evalue": "'int' object has no attribute 'iter_content'",
     "output_type": "error",
     "traceback": [
      "\u001b[1;31m---------------------------------------------------------------------------\u001b[0m",
      "\u001b[1;31mAttributeError\u001b[0m                            Traceback (most recent call last)",
      "Input \u001b[1;32mIn [70]\u001b[0m, in \u001b[0;36m<cell line: 1>\u001b[1;34m()\u001b[0m\n\u001b[0;32m      1\u001b[0m \u001b[38;5;28;01mwith\u001b[39;00m \u001b[38;5;28mopen\u001b[39m(\u001b[38;5;124m\"\u001b[39m\u001b[38;5;124msecond.pdf\u001b[39m\u001b[38;5;124m\"\u001b[39m,\u001b[38;5;124m\"\u001b[39m\u001b[38;5;124mwb\u001b[39m\u001b[38;5;124m\"\u001b[39m) \u001b[38;5;28;01mas\u001b[39;00m second:\n\u001b[1;32m----> 2\u001b[0m     \u001b[38;5;28;01mfor\u001b[39;00m chunk \u001b[38;5;129;01min\u001b[39;00m tqdm(\u001b[43ms\u001b[49m\u001b[38;5;241;43m.\u001b[39;49m\u001b[43miter_content\u001b[49m(chunk_size\u001b[38;5;241m=\u001b[39mchunk_size),total\u001b[38;5;241m=\u001b[39mn):\n\u001b[0;32m      3\u001b[0m         time\u001b[38;5;241m.\u001b[39msleep(\u001b[38;5;241m1\u001b[39m)\n\u001b[0;32m      4\u001b[0m         second\u001b[38;5;241m.\u001b[39mwrite(chunk)\n",
      "\u001b[1;31mAttributeError\u001b[0m: 'int' object has no attribute 'iter_content'"
     ]
    }
   ],
   "source": [
    "with open(\"second.pdf\",\"wb\") as second:\n",
    "    for chunk in tqdm(s.iter_content(chunk_size=chunk_size),total=n):\n",
    "        time.sleep(1)\n",
    "        second.write(chunk)"
   ]
  },
  {
   "cell_type": "code",
   "execution_count": null,
   "id": "6f96c63b",
   "metadata": {},
   "outputs": [],
   "source": []
  }
 ],
 "metadata": {
  "kernelspec": {
   "display_name": "Python 3 (ipykernel)",
   "language": "python",
   "name": "python3"
  },
  "language_info": {
   "codemirror_mode": {
    "name": "ipython",
    "version": 3
   },
   "file_extension": ".py",
   "mimetype": "text/x-python",
   "name": "python",
   "nbconvert_exporter": "python",
   "pygments_lexer": "ipython3",
   "version": "3.9.12"
  }
 },
 "nbformat": 4,
 "nbformat_minor": 5
}
