{
 "cells": [
  {
   "cell_type": "markdown",
   "id": "13748137",
   "metadata": {},
   "source": [
    "# #animation"
   ]
  },
  {
   "cell_type": "code",
   "execution_count": 1,
   "id": "a49c60fa",
   "metadata": {},
   "outputs": [],
   "source": [
    "#animation on for loop"
   ]
  },
  {
   "cell_type": "code",
   "execution_count": 3,
   "id": "b7710c41",
   "metadata": {},
   "outputs": [],
   "source": [
    "from tqdm import tqdm\n",
    "import time"
   ]
  },
  {
   "cell_type": "code",
   "execution_count": 4,
   "id": "40b3c92b",
   "metadata": {},
   "outputs": [],
   "source": [
    "a=[1,2,3,4,5,65,67,4,5,6]"
   ]
  },
  {
   "cell_type": "code",
   "execution_count": 9,
   "id": "797ddd1f",
   "metadata": {},
   "outputs": [
    {
     "name": "stderr",
     "output_type": "stream",
     "text": [
      "100%|██████████████████████████████████████████████████████████████████████████████████| 10/10 [00:10<00:00,  1.01s/it]"
     ]
    },
    {
     "name": "stdout",
     "output_type": "stream",
     "text": [
      "download finished!\n"
     ]
    },
    {
     "name": "stderr",
     "output_type": "stream",
     "text": [
      "\n"
     ]
    }
   ],
   "source": [
    "for i in tqdm(a):\n",
    "    time.sleep(1)\n",
    "    #print(i)\n",
    "print(\"download finished!\")"
   ]
  },
  {
   "cell_type": "code",
   "execution_count": null,
   "id": "f3045411",
   "metadata": {},
   "outputs": [],
   "source": []
  },
  {
   "cell_type": "code",
   "execution_count": null,
   "id": "b6ff809f",
   "metadata": {},
   "outputs": [],
   "source": []
  }
 ],
 "metadata": {
  "kernelspec": {
   "display_name": "Python 3 (ipykernel)",
   "language": "python",
   "name": "python3"
  },
  "language_info": {
   "codemirror_mode": {
    "name": "ipython",
    "version": 3
   },
   "file_extension": ".py",
   "mimetype": "text/x-python",
   "name": "python",
   "nbconvert_exporter": "python",
   "pygments_lexer": "ipython3",
   "version": "3.9.12"
  }
 },
 "nbformat": 4,
 "nbformat_minor": 5
}
