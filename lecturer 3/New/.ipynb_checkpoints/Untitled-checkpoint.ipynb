{
 "cells": [
  {
   "cell_type": "code",
   "execution_count": 1,
   "id": "83776299",
   "metadata": {},
   "outputs": [],
   "source": [
    "def sum(n):\n",
    "    final_sum=0\n",
    "    for x in range(n+1):\n",
    "        final_sum+=x\n",
    "    return final_sum"
   ]
  },
  {
   "cell_type": "code",
   "execution_count": null,
   "id": "e0c9b39c",
   "metadata": {},
   "outputs": [],
   "source": [
    "sum(1004524950965)"
   ]
  },
  {
   "cell_type": "code",
   "execution_count": 2,
   "id": "a0a5d9b6",
   "metadata": {},
   "outputs": [
    {
     "data": {
      "text/plain": [
       "15"
      ]
     },
     "execution_count": 2,
     "metadata": {},
     "output_type": "execute_result"
    }
   ],
   "source": [
    "sum(5)"
   ]
  },
  {
   "cell_type": "code",
   "execution_count": 3,
   "id": "a3592222",
   "metadata": {},
   "outputs": [],
   "source": [
    "def sum1(n):\n",
    "    return (n*(n+1))/2"
   ]
  },
  {
   "cell_type": "code",
   "execution_count": null,
   "id": "cf0fc432",
   "metadata": {},
   "outputs": [],
   "source": []
  }
 ],
 "metadata": {
  "kernelspec": {
   "display_name": "Python 3 (ipykernel)",
   "language": "python",
   "name": "python3"
  },
  "language_info": {
   "codemirror_mode": {
    "name": "ipython",
    "version": 3
   },
   "file_extension": ".py",
   "mimetype": "text/x-python",
   "name": "python",
   "nbconvert_exporter": "python",
   "pygments_lexer": "ipython3",
   "version": "3.9.12"
  }
 },
 "nbformat": 4,
 "nbformat_minor": 5
}
