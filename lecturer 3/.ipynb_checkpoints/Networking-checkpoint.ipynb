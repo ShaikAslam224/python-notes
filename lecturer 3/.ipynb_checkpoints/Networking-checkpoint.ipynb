{
 "cells": [
  {
   "cell_type": "code",
   "execution_count": 1,
   "id": "7619ec86",
   "metadata": {},
   "outputs": [],
   "source": [
    "#modules"
   ]
  },
  {
   "cell_type": "code",
   "execution_count": 2,
   "id": "964077ed",
   "metadata": {},
   "outputs": [],
   "source": [
    "import random"
   ]
  },
  {
   "cell_type": "code",
   "execution_count": 6,
   "id": "73d1d602",
   "metadata": {},
   "outputs": [
    {
     "data": {
      "text/plain": [
       "54"
      ]
     },
     "execution_count": 6,
     "metadata": {},
     "output_type": "execute_result"
    }
   ],
   "source": [
    "random.randint(1,100)"
   ]
  },
  {
   "cell_type": "code",
   "execution_count": 17,
   "id": "4b055821",
   "metadata": {},
   "outputs": [],
   "source": [
    "b=[1,2,3,4,5,6,7,8,9,0]"
   ]
  },
  {
   "cell_type": "code",
   "execution_count": 26,
   "id": "6a10d754",
   "metadata": {},
   "outputs": [
    {
     "data": {
      "text/plain": [
       "3"
      ]
     },
     "execution_count": 26,
     "metadata": {},
     "output_type": "execute_result"
    }
   ],
   "source": [
    "random.choice(b)"
   ]
  },
  {
   "cell_type": "code",
   "execution_count": 4,
   "id": "0fe5461c",
   "metadata": {},
   "outputs": [],
   "source": [
    "import os"
   ]
  },
  {
   "cell_type": "code",
   "execution_count": 30,
   "id": "25bf2d4d",
   "metadata": {},
   "outputs": [
    {
     "data": {
      "text/plain": [
       "'C:\\\\Users\\\\SRIT\\\\anaconda3\\\\lib\\\\os.py'"
      ]
     },
     "execution_count": 30,
     "metadata": {},
     "output_type": "execute_result"
    }
   ],
   "source": [
    "os.__file__"
   ]
  },
  {
   "cell_type": "code",
   "execution_count": 35,
   "id": "a4bb1389",
   "metadata": {},
   "outputs": [
    {
     "data": {
      "text/plain": [
       "['.ipynb_checkpoints', 'Untitled.ipynb']"
      ]
     },
     "execution_count": 35,
     "metadata": {},
     "output_type": "execute_result"
    }
   ],
   "source": [
    "os.listdir()"
   ]
  },
  {
   "cell_type": "code",
   "execution_count": 36,
   "id": "9b2aac7a",
   "metadata": {},
   "outputs": [
    {
     "data": {
      "text/plain": [
       "'C:\\\\Users\\\\SRIT\\\\Desktop\\\\python\\\\lecturer 3'"
      ]
     },
     "execution_count": 36,
     "metadata": {},
     "output_type": "execute_result"
    }
   ],
   "source": [
    "os.getcwd()"
   ]
  },
  {
   "cell_type": "code",
   "execution_count": 37,
   "id": "e4284ce1",
   "metadata": {},
   "outputs": [],
   "source": [
    "os.mkdir(\"New\")"
   ]
  },
  {
   "cell_type": "code",
   "execution_count": 12,
   "id": "1ca8f9fa",
   "metadata": {},
   "outputs": [
    {
     "ename": "FileNotFoundError",
     "evalue": "[WinError 2] The system cannot find the file specified: 'Untitled.ipby' -> 'Network.ipby'",
     "output_type": "error",
     "traceback": [
      "\u001b[1;31m---------------------------------------------------------------------------\u001b[0m",
      "\u001b[1;31mFileNotFoundError\u001b[0m                         Traceback (most recent call last)",
      "Input \u001b[1;32mIn [12]\u001b[0m, in \u001b[0;36m<cell line: 1>\u001b[1;34m()\u001b[0m\n\u001b[1;32m----> 1\u001b[0m \u001b[43mos\u001b[49m\u001b[38;5;241;43m.\u001b[39;49m\u001b[43mrename\u001b[49m\u001b[43m(\u001b[49m\u001b[38;5;124;43m\"\u001b[39;49m\u001b[38;5;124;43mUntitled.ipby\u001b[39;49m\u001b[38;5;124;43m\"\u001b[39;49m\u001b[43m,\u001b[49m\u001b[38;5;124;43m\"\u001b[39;49m\u001b[38;5;124;43mNetwork.ipby\u001b[39;49m\u001b[38;5;124;43m\"\u001b[39;49m\u001b[43m)\u001b[49m\n",
      "\u001b[1;31mFileNotFoundError\u001b[0m: [WinError 2] The system cannot find the file specified: 'Untitled.ipby' -> 'Network.ipby'"
     ]
    }
   ],
   "source": [
    "os.rename(\"Untitled.ipby\",\"Network.ipby\")"
   ]
  },
  {
   "cell_type": "code",
   "execution_count": 14,
   "id": "d2ffdc05",
   "metadata": {
    "scrolled": true
   },
   "outputs": [
    {
     "ename": "SyntaxError",
     "evalue": "(unicode error) 'unicodeescape' codec can't decode bytes in position 2-3: truncated \\UXXXXXXXX escape (1174054361.py, line 3)",
     "output_type": "error",
     "traceback": [
      "\u001b[1;36m  Input \u001b[1;32mIn [14]\u001b[1;36m\u001b[0m\n\u001b[1;33m    p=\"C:\\Users\\SRIT\\Desktop\\music\"\u001b[0m\n\u001b[1;37m                                   ^\u001b[0m\n\u001b[1;31mSyntaxError\u001b[0m\u001b[1;31m:\u001b[0m (unicode error) 'unicodeescape' codec can't decode bytes in position 2-3: truncated \\UXXXXXXXX escape\n"
     ]
    }
   ],
   "source": [
    "import random\n",
    "import os\n",
    "p=\"C:\\Users\\SRIT\\Desktop\\music\"\n",
    "os.chdir(p)\n",
    "folder_name=random.choice(os.listdir(p))\n",
    "folder_path=str(os.path.realpath(folder_name))\n",
    "os.chdir(folder_path)\n",
    "file_name=random.choice(os.listdir(folder_name))\n",
    "print(\"enjoy\")\n",
    "os.system(\"start \"+ file_name)"
   ]
  },
  {
   "cell_type": "code",
   "execution_count": 5,
   "id": "889b9e97",
   "metadata": {},
   "outputs": [
    {
     "data": {
      "text/plain": [
       "'C:\\\\Users\\\\SRIT\\\\anaconda3\\\\lib\\\\os.py'"
      ]
     },
     "execution_count": 5,
     "metadata": {},
     "output_type": "execute_result"
    }
   ],
   "source": [
    "os.__file__"
   ]
  },
  {
   "cell_type": "code",
   "execution_count": 6,
   "id": "f2c3ef55",
   "metadata": {},
   "outputs": [
    {
     "name": "stdout",
     "output_type": "stream",
     "text": [
      "Object `import` not found.\n"
     ]
    }
   ],
   "source": [
    "import?"
   ]
  },
  {
   "cell_type": "code",
   "execution_count": 7,
   "id": "cb28d7a4",
   "metadata": {},
   "outputs": [
    {
     "data": {
      "text/plain": [
       "['.ipynb_checkpoints', 'Networking.ipynb', 'New']"
      ]
     },
     "execution_count": 7,
     "metadata": {},
     "output_type": "execute_result"
    }
   ],
   "source": [
    "os.listdir()"
   ]
  },
  {
   "cell_type": "code",
   "execution_count": 9,
   "id": "af058971",
   "metadata": {},
   "outputs": [
    {
     "data": {
      "text/plain": [
       "'C:\\\\Users\\\\SRIT\\\\Desktop\\\\python\\\\lecturer 3'"
      ]
     },
     "execution_count": 9,
     "metadata": {},
     "output_type": "execute_result"
    }
   ],
   "source": [
    "os.getcwd()"
   ]
  },
  {
   "cell_type": "code",
   "execution_count": null,
   "id": "b230f985",
   "metadata": {},
   "outputs": [],
   "source": [
    "import random\n",
    "import os\n",
    "p=r\"C:\\Users\\SRIT\\Desktop\\music\"\n",
    "os.chdir(p)\n",
    "#print(os.listdir(p))\n",
    "folder_name=random.choice(os.listdir(p))\n",
    "\n",
    "folder_path=str(os.path.realpath(folder_name))\n",
    "#os.chdir(folder_path)\n",
    "#print(folder_path)\n",
    "#file_name=random.choice(os.listdir(folder_path))\n",
    "\n",
    "print(\"enjoy!\")\n",
    "#print(file_name)\n",
    "\n",
    "  # play to file\n",
    "os.system(\"start \"+folder_path)\n",
    "\n"
   ]
  }
 ],
 "metadata": {
  "kernelspec": {
   "display_name": "Python 3 (ipykernel)",
   "language": "python",
   "name": "python3"
  },
  "language_info": {
   "codemirror_mode": {
    "name": "ipython",
    "version": 3
   },
   "file_extension": ".py",
   "mimetype": "text/x-python",
   "name": "python",
   "nbconvert_exporter": "python",
   "pygments_lexer": "ipython3",
   "version": "3.9.12"
  }
 },
 "nbformat": 4,
 "nbformat_minor": 5
}
