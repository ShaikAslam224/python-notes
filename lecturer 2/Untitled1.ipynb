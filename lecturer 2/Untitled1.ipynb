{
 "cells": [
  {
   "cell_type": "code",
   "execution_count": 1,
   "id": "fcc4d5e8",
   "metadata": {},
   "outputs": [],
   "source": [
    "# split , strip and join"
   ]
  },
  {
   "cell_type": "code",
   "execution_count": 2,
   "id": "8f29c0c2",
   "metadata": {},
   "outputs": [],
   "source": [
    "# strip"
   ]
  },
  {
   "cell_type": "code",
   "execution_count": 2,
   "id": "6b56817f",
   "metadata": {},
   "outputs": [],
   "source": [
    "a=\"    2 3 4 5 5 6 76 5    \""
   ]
  },
  {
   "cell_type": "code",
   "execution_count": 3,
   "id": "8122b54d",
   "metadata": {},
   "outputs": [
    {
     "data": {
      "text/plain": [
       "'2 3 4 5 5 6 76 5'"
      ]
     },
     "execution_count": 3,
     "metadata": {},
     "output_type": "execute_result"
    }
   ],
   "source": [
    "b=a.strip()  # here strip is used to remove the extra spaces in input like as shown below\n",
    "b"
   ]
  },
  {
   "cell_type": "code",
   "execution_count": 4,
   "id": "47a1a17e",
   "metadata": {},
   "outputs": [
    {
     "data": {
      "text/plain": [
       "['2', '3', '4', '5', '5', '6', '76', '5']"
      ]
     },
     "execution_count": 4,
     "metadata": {},
     "output_type": "execute_result"
    }
   ],
   "source": [
    "v=b.split(\" \")\n",
    "v"
   ]
  },
  {
   "cell_type": "code",
   "execution_count": 5,
   "id": "46dc077e",
   "metadata": {},
   "outputs": [],
   "source": [
    "# now apply the int function to every  element of the list"
   ]
  },
  {
   "cell_type": "code",
   "execution_count": 6,
   "id": "7639af03",
   "metadata": {},
   "outputs": [
    {
     "data": {
      "text/plain": [
       "[2, 3, 4, 5, 5, 6, 76, 5]"
      ]
     },
     "execution_count": 6,
     "metadata": {},
     "output_type": "execute_result"
    }
   ],
   "source": [
    "li=list(map(int,v))\n",
    "li"
   ]
  },
  {
   "cell_type": "code",
   "execution_count": 7,
   "id": "35313f35",
   "metadata": {},
   "outputs": [],
   "source": [
    "# if we want to add the all elements in a list we have a inbuild function i.e, sum()"
   ]
  },
  {
   "cell_type": "code",
   "execution_count": 8,
   "id": "f8dec78f",
   "metadata": {},
   "outputs": [
    {
     "data": {
      "text/plain": [
       "106"
      ]
     },
     "execution_count": 8,
     "metadata": {},
     "output_type": "execute_result"
    }
   ],
   "source": [
    "sum(li)"
   ]
  },
  {
   "cell_type": "code",
   "execution_count": 9,
   "id": "a148ca7f",
   "metadata": {},
   "outputs": [],
   "source": [
    "# 1 2 3 4\n",
    "# 5 6\n",
    "# # this is not same as \n",
    "# 1\n",
    "# 2\n",
    "# 3\n",
    "# 4\n",
    "# 5\n",
    "# 6\n",
    "# # in python"
   ]
  },
  {
   "cell_type": "code",
   "execution_count": 10,
   "id": "3e6561e2",
   "metadata": {},
   "outputs": [
    {
     "name": "stdout",
     "output_type": "stream",
     "text": [
      "23\n"
     ]
    }
   ],
   "source": [
    "li=input()"
   ]
  },
  {
   "cell_type": "code",
   "execution_count": 37,
   "id": "1f959b76",
   "metadata": {},
   "outputs": [
    {
     "name": "stdout",
     "output_type": "stream",
     "text": [
      "2 3 4 6 7\n"
     ]
    }
   ],
   "source": [
    "q=input()\n"
   ]
  },
  {
   "cell_type": "code",
   "execution_count": 40,
   "id": "24278dd0",
   "metadata": {},
   "outputs": [
    {
     "data": {
      "text/plain": [
       "['2', '3', '4', '6', '7']"
      ]
     },
     "execution_count": 40,
     "metadata": {},
     "output_type": "execute_result"
    }
   ],
   "source": [
    "q"
   ]
  },
  {
   "cell_type": "code",
   "execution_count": 27,
   "id": "f137a8c6",
   "metadata": {},
   "outputs": [],
   "source": [
    "# by using split function we are changing this input into list"
   ]
  },
  {
   "cell_type": "code",
   "execution_count": 39,
   "id": "5e575389",
   "metadata": {},
   "outputs": [],
   "source": [
    "q=q.split(\" \")\n"
   ]
  },
  {
   "cell_type": "code",
   "execution_count": 44,
   "id": "42d11e13",
   "metadata": {},
   "outputs": [
    {
     "name": "stdout",
     "output_type": "stream",
     "text": [
      "1,2,3,4,5\n",
      "[1, 2, 3, 4, 5]\n"
     ]
    }
   ],
   "source": [
    "z=input()\n",
    "li=z.split(\",\")\n",
    "z=list(map(int,li))\n",
    "print(z)"
   ]
  },
  {
   "cell_type": "code",
   "execution_count": 41,
   "id": "4090de36",
   "metadata": {},
   "outputs": [],
   "source": [
    "a=list(map(int,q))"
   ]
  },
  {
   "cell_type": "code",
   "execution_count": 42,
   "id": "dbd2a041",
   "metadata": {},
   "outputs": [
    {
     "data": {
      "text/plain": [
       "[2, 3, 4, 6, 7]"
      ]
     },
     "execution_count": 42,
     "metadata": {},
     "output_type": "execute_result"
    }
   ],
   "source": [
    "a"
   ]
  },
  {
   "cell_type": "code",
   "execution_count": 45,
   "id": "fd96cd63",
   "metadata": {},
   "outputs": [],
   "source": [
    "#swaping "
   ]
  },
  {
   "cell_type": "code",
   "execution_count": 46,
   "id": "cccbff6e",
   "metadata": {},
   "outputs": [],
   "source": [
    "s=4"
   ]
  },
  {
   "cell_type": "code",
   "execution_count": 47,
   "id": "294cd4d5",
   "metadata": {},
   "outputs": [],
   "source": [
    "f=5"
   ]
  },
  {
   "cell_type": "code",
   "execution_count": 48,
   "id": "8d721f07",
   "metadata": {},
   "outputs": [],
   "source": [
    "s,f=f,s"
   ]
  },
  {
   "cell_type": "code",
   "execution_count": 49,
   "id": "0a8b37c6",
   "metadata": {},
   "outputs": [
    {
     "data": {
      "text/plain": [
       "5"
      ]
     },
     "execution_count": 49,
     "metadata": {},
     "output_type": "execute_result"
    }
   ],
   "source": [
    "s"
   ]
  },
  {
   "cell_type": "code",
   "execution_count": 50,
   "id": "1aa56f48",
   "metadata": {},
   "outputs": [
    {
     "data": {
      "text/plain": [
       "4"
      ]
     },
     "execution_count": 50,
     "metadata": {},
     "output_type": "execute_result"
    }
   ],
   "source": [
    "f"
   ]
  },
  {
   "cell_type": "code",
   "execution_count": 52,
   "id": "9e49b3d6",
   "metadata": {},
   "outputs": [],
   "source": [
    "a=[1,5]"
   ]
  },
  {
   "cell_type": "code",
   "execution_count": 53,
   "id": "5e7574e1",
   "metadata": {},
   "outputs": [],
   "source": [
    "num1,num2=a"
   ]
  },
  {
   "cell_type": "code",
   "execution_count": 54,
   "id": "425a99c1",
   "metadata": {},
   "outputs": [
    {
     "data": {
      "text/plain": [
       "1"
      ]
     },
     "execution_count": 54,
     "metadata": {},
     "output_type": "execute_result"
    }
   ],
   "source": [
    "num1"
   ]
  },
  {
   "cell_type": "code",
   "execution_count": 55,
   "id": "dd21a2a8",
   "metadata": {},
   "outputs": [
    {
     "data": {
      "text/plain": [
       "5"
      ]
     },
     "execution_count": 55,
     "metadata": {},
     "output_type": "execute_result"
    }
   ],
   "source": [
    "num2"
   ]
  },
  {
   "cell_type": "code",
   "execution_count": 67,
   "id": "ba1bf9a6",
   "metadata": {},
   "outputs": [],
   "source": [
    "num1,num2,num3=1,2,4"
   ]
  },
  {
   "cell_type": "code",
   "execution_count": 63,
   "id": "71bd6152",
   "metadata": {},
   "outputs": [],
   "source": [
    "num1,num2,num3=[5,2,4] "
   ]
  },
  {
   "cell_type": "code",
   "execution_count": 68,
   "id": "201e2c4a",
   "metadata": {},
   "outputs": [
    {
     "data": {
      "text/plain": [
       "1"
      ]
     },
     "execution_count": 68,
     "metadata": {},
     "output_type": "execute_result"
    }
   ],
   "source": [
    "num1"
   ]
  },
  {
   "cell_type": "code",
   "execution_count": 65,
   "id": "59c4ceb8",
   "metadata": {},
   "outputs": [
    {
     "data": {
      "text/plain": [
       "2"
      ]
     },
     "execution_count": 65,
     "metadata": {},
     "output_type": "execute_result"
    }
   ],
   "source": [
    "num2"
   ]
  },
  {
   "cell_type": "code",
   "execution_count": 66,
   "id": "c8e31d24",
   "metadata": {},
   "outputs": [
    {
     "data": {
      "text/plain": [
       "4"
      ]
     },
     "execution_count": 66,
     "metadata": {},
     "output_type": "execute_result"
    }
   ],
   "source": [
    "num3"
   ]
  },
  {
   "cell_type": "code",
   "execution_count": 69,
   "id": "9bab29fb",
   "metadata": {},
   "outputs": [],
   "source": [
    "#take two numbers"
   ]
  },
  {
   "cell_type": "code",
   "execution_count": 78,
   "id": "ddc67825",
   "metadata": {},
   "outputs": [
    {
     "name": "stdout",
     "output_type": "stream",
     "text": [
      "1 2 3\n"
     ]
    }
   ],
   "source": [
    "num=input()"
   ]
  },
  {
   "cell_type": "code",
   "execution_count": 79,
   "id": "1d2bcc9f",
   "metadata": {},
   "outputs": [],
   "source": [
    "a,b,c=map(int,num.split(\" \"))"
   ]
  },
  {
   "cell_type": "code",
   "execution_count": 80,
   "id": "55260e1c",
   "metadata": {},
   "outputs": [
    {
     "data": {
      "text/plain": [
       "1"
      ]
     },
     "execution_count": 80,
     "metadata": {},
     "output_type": "execute_result"
    }
   ],
   "source": [
    "a"
   ]
  },
  {
   "cell_type": "code",
   "execution_count": 81,
   "id": "cbfa7987",
   "metadata": {},
   "outputs": [
    {
     "data": {
      "text/plain": [
       "2"
      ]
     },
     "execution_count": 81,
     "metadata": {},
     "output_type": "execute_result"
    }
   ],
   "source": [
    "b"
   ]
  },
  {
   "cell_type": "code",
   "execution_count": 82,
   "id": "3bb40fc4",
   "metadata": {},
   "outputs": [
    {
     "data": {
      "text/plain": [
       "3"
      ]
     },
     "execution_count": 82,
     "metadata": {},
     "output_type": "execute_result"
    }
   ],
   "source": [
    "c"
   ]
  },
  {
   "cell_type": "code",
   "execution_count": 1,
   "id": "5fbdc7fc",
   "metadata": {},
   "outputs": [],
   "source": [
    "#joins only for strings"
   ]
  },
  {
   "cell_type": "code",
   "execution_count": 5,
   "id": "f2e7ade5",
   "metadata": {},
   "outputs": [
    {
     "name": "stdout",
     "output_type": "stream",
     "text": [
      "3 4 5 78 45\n"
     ]
    }
   ],
   "source": [
    "q=input()"
   ]
  },
  {
   "cell_type": "code",
   "execution_count": 16,
   "id": "762367b2",
   "metadata": {},
   "outputs": [
    {
     "data": {
      "text/plain": [
       "['3', '4', '5', '78', '45']"
      ]
     },
     "execution_count": 16,
     "metadata": {},
     "output_type": "execute_result"
    }
   ],
   "source": [
    "a=q.split(\" \")\n",
    "a"
   ]
  },
  {
   "cell_type": "code",
   "execution_count": 18,
   "id": "2fc5d713",
   "metadata": {},
   "outputs": [
    {
     "data": {
      "text/plain": [
       "'3-4-5-78-45'"
      ]
     },
     "execution_count": 18,
     "metadata": {},
     "output_type": "execute_result"
    }
   ],
   "source": [
    "\"-\".join(a)"
   ]
  },
  {
   "cell_type": "code",
   "execution_count": 23,
   "id": "2f0d8afb",
   "metadata": {},
   "outputs": [
    {
     "data": {
      "text/plain": [
       "['3', '4', '45', '5', '78']"
      ]
     },
     "execution_count": 23,
     "metadata": {},
     "output_type": "execute_result"
    }
   ],
   "source": [
    "a"
   ]
  },
  {
   "cell_type": "code",
   "execution_count": 25,
   "id": "4db16bf4",
   "metadata": {},
   "outputs": [
    {
     "data": {
      "text/plain": [
       "[3, 4, 45, 5, 78]"
      ]
     },
     "execution_count": 25,
     "metadata": {},
     "output_type": "execute_result"
    }
   ],
   "source": [
    "b=list(map(int,a))\n",
    "b"
   ]
  },
  {
   "cell_type": "code",
   "execution_count": null,
   "id": "e5b80f21",
   "metadata": {},
   "outputs": [],
   "source": []
  }
 ],
 "metadata": {
  "kernelspec": {
   "display_name": "Python 3 (ipykernel)",
   "language": "python",
   "name": "python3"
  },
  "language_info": {
   "codemirror_mode": {
    "name": "ipython",
    "version": 3
   },
   "file_extension": ".py",
   "mimetype": "text/x-python",
   "name": "python",
   "nbconvert_exporter": "python",
   "pygments_lexer": "ipython3",
   "version": "3.9.12"
  }
 },
 "nbformat": 4,
 "nbformat_minor": 5
}
