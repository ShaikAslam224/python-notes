{
 "cells": [
  {
   "cell_type": "code",
   "execution_count": null,
   "id": "aeef6e47",
   "metadata": {},
   "outputs": [],
   "source": [
    "# Inheritance"
   ]
  },
  {
   "cell_type": "code",
   "execution_count": 3,
   "id": "48ae358b",
   "metadata": {},
   "outputs": [],
   "source": [
    "class Parent():\n",
    "    f=50\n",
    "    def __init__(self,value):\n",
    "        self.value=value"
   ]
  },
  {
   "cell_type": "code",
   "execution_count": 98,
   "id": "f931ffbc",
   "metadata": {},
   "outputs": [],
   "source": [
    "class Child(Parent):\n",
    "    def __init__(self,value,name):\n",
    "        super().__init__(value)\n",
    "        self.name=name"
   ]
  },
  {
   "cell_type": "code",
   "execution_count": 99,
   "id": "5dede94a",
   "metadata": {},
   "outputs": [],
   "source": [
    "obj=Child(45,\"aslam\")"
   ]
  },
  {
   "cell_type": "code",
   "execution_count": 102,
   "id": "55daba0a",
   "metadata": {},
   "outputs": [
    {
     "data": {
      "text/plain": [
       "(50, 45, 'aslam')"
      ]
     },
     "execution_count": 102,
     "metadata": {},
     "output_type": "execute_result"
    }
   ],
   "source": [
    "obj.f,obj.value,obj.name"
   ]
  },
  {
   "cell_type": "code",
   "execution_count": 66,
   "id": "2c216537",
   "metadata": {},
   "outputs": [],
   "source": [
    "class A:\n",
    "    f=40\n",
    "    def __init__(self,value):\n",
    "        self.value=value"
   ]
  },
  {
   "cell_type": "code",
   "execution_count": 67,
   "id": "02bf4744",
   "metadata": {},
   "outputs": [],
   "source": [
    "class B(A):\n",
    "    def __init__(self,value):\n",
    "        super().__init__(value)"
   ]
  },
  {
   "cell_type": "code",
   "execution_count": 77,
   "id": "f478a0d6",
   "metadata": {},
   "outputs": [],
   "source": [
    "obj=B(435)"
   ]
  },
  {
   "cell_type": "code",
   "execution_count": 78,
   "id": "fcf3b9ed",
   "metadata": {},
   "outputs": [
    {
     "data": {
      "text/plain": [
       "435"
      ]
     },
     "execution_count": 78,
     "metadata": {},
     "output_type": "execute_result"
    }
   ],
   "source": [
    "obj.value"
   ]
  },
  {
   "cell_type": "code",
   "execution_count": 96,
   "id": "14e7d843",
   "metadata": {},
   "outputs": [],
   "source": [
    "obj=A(25)"
   ]
  },
  {
   "cell_type": "code",
   "execution_count": 82,
   "id": "fd64b06d",
   "metadata": {},
   "outputs": [
    {
     "data": {
      "text/plain": [
       "25"
      ]
     },
     "execution_count": 82,
     "metadata": {},
     "output_type": "execute_result"
    }
   ],
   "source": [
    "obj.value"
   ]
  },
  {
   "cell_type": "code",
   "execution_count": 83,
   "id": "fc5a7e45",
   "metadata": {},
   "outputs": [
    {
     "data": {
      "text/plain": [
       "40"
      ]
     },
     "execution_count": 83,
     "metadata": {},
     "output_type": "execute_result"
    }
   ],
   "source": [
    "obj.f"
   ]
  },
  {
   "cell_type": "code",
   "execution_count": 91,
   "id": "eedcf406",
   "metadata": {},
   "outputs": [],
   "source": [
    "obj2=A(22)"
   ]
  },
  {
   "cell_type": "code",
   "execution_count": 97,
   "id": "02106178",
   "metadata": {},
   "outputs": [
    {
     "data": {
      "text/plain": [
       "22"
      ]
     },
     "execution_count": 97,
     "metadata": {},
     "output_type": "execute_result"
    }
   ],
   "source": [
    "obj2.value"
   ]
  },
  {
   "cell_type": "code",
   "execution_count": null,
   "id": "3f1f3f88",
   "metadata": {},
   "outputs": [],
   "source": []
  },
  {
   "cell_type": "code",
   "execution_count": 103,
   "id": "ceb68028",
   "metadata": {},
   "outputs": [],
   "source": [
    "# I want to hide some variables\n",
    "# makeshifters for private variables in python"
   ]
  },
  {
   "cell_type": "code",
   "execution_count": 104,
   "id": "12c4180c",
   "metadata": {},
   "outputs": [],
   "source": [
    "class A:\n",
    "    def __init__(self,value):\n",
    "        self.__value=value   # double underscore it means it is a private variable\n",
    "        # pyhton changes __value into _A__value"
   ]
  },
  {
   "cell_type": "code",
   "execution_count": 105,
   "id": "ab6815c4",
   "metadata": {},
   "outputs": [],
   "source": [
    "obj=A(43)"
   ]
  },
  {
   "cell_type": "code",
   "execution_count": 109,
   "id": "0953247f",
   "metadata": {},
   "outputs": [
    {
     "ename": "AttributeError",
     "evalue": "'A' object has no attribute '__value'",
     "output_type": "error",
     "traceback": [
      "\u001b[1;31m---------------------------------------------------------------------------\u001b[0m",
      "\u001b[1;31mAttributeError\u001b[0m                            Traceback (most recent call last)",
      "Input \u001b[1;32mIn [109]\u001b[0m, in \u001b[0;36m<cell line: 1>\u001b[1;34m()\u001b[0m\n\u001b[1;32m----> 1\u001b[0m \u001b[43mobj\u001b[49m\u001b[38;5;241;43m.\u001b[39;49m\u001b[43m__value\u001b[49m\n",
      "\u001b[1;31mAttributeError\u001b[0m: 'A' object has no attribute '__value'"
     ]
    }
   ],
   "source": [
    "obj.__value"
   ]
  },
  {
   "cell_type": "code",
   "execution_count": 110,
   "id": "86c296c4",
   "metadata": {},
   "outputs": [
    {
     "data": {
      "text/plain": [
       "43"
      ]
     },
     "execution_count": 110,
     "metadata": {},
     "output_type": "execute_result"
    }
   ],
   "source": [
    "obj._A__value"
   ]
  },
  {
   "cell_type": "code",
   "execution_count": null,
   "id": "a16aaeb8",
   "metadata": {},
   "outputs": [],
   "source": []
  },
  {
   "cell_type": "code",
   "execution_count": null,
   "id": "d40da182",
   "metadata": {},
   "outputs": [],
   "source": []
  }
 ],
 "metadata": {
  "kernelspec": {
   "display_name": "Python 3 (ipykernel)",
   "language": "python",
   "name": "python3"
  },
  "language_info": {
   "codemirror_mode": {
    "name": "ipython",
    "version": 3
   },
   "file_extension": ".py",
   "mimetype": "text/x-python",
   "name": "python",
   "nbconvert_exporter": "python",
   "pygments_lexer": "ipython3",
   "version": "3.9.12"
  }
 },
 "nbformat": 4,
 "nbformat_minor": 5
}
