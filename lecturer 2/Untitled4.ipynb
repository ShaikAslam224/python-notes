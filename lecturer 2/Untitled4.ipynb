{
 "cells": [
  {
   "cell_type": "code",
   "execution_count": 47,
   "id": "060b7a11",
   "metadata": {},
   "outputs": [],
   "source": [
    "class Human():\n",
    "    # static variable : common for all objects of that class\n",
    "    population=0\n",
    "    def __init__(self,name,age):\n",
    "        self.name=name\n",
    "        self.age=age\n",
    "        \n",
    "        # when a new human comes, increse the population\n",
    "        Human.population+=1"
   ]
  },
  {
   "cell_type": "code",
   "execution_count": 48,
   "id": "6202fcd0",
   "metadata": {},
   "outputs": [
    {
     "data": {
      "text/plain": [
       "0"
      ]
     },
     "execution_count": 48,
     "metadata": {},
     "output_type": "execute_result"
    }
   ],
   "source": [
    "Human.population"
   ]
  },
  {
   "cell_type": "code",
   "execution_count": 49,
   "id": "4e1e817d",
   "metadata": {},
   "outputs": [],
   "source": [
    "kumar=Human(\"Ashok kumar\",20)"
   ]
  },
  {
   "cell_type": "code",
   "execution_count": 50,
   "id": "3390c47e",
   "metadata": {},
   "outputs": [
    {
     "data": {
      "text/plain": [
       "1"
      ]
     },
     "execution_count": 50,
     "metadata": {},
     "output_type": "execute_result"
    }
   ],
   "source": [
    "Human.population"
   ]
  },
  {
   "cell_type": "code",
   "execution_count": 51,
   "id": "7698f611",
   "metadata": {},
   "outputs": [
    {
     "data": {
      "text/plain": [
       "1"
      ]
     },
     "execution_count": 51,
     "metadata": {},
     "output_type": "execute_result"
    }
   ],
   "source": [
    "kumar.population"
   ]
  },
  {
   "cell_type": "code",
   "execution_count": 52,
   "id": "b72748c8",
   "metadata": {},
   "outputs": [],
   "source": [
    "suresh=Human(\"suresh\",45)"
   ]
  },
  {
   "cell_type": "code",
   "execution_count": 99,
   "id": "19fefd47",
   "metadata": {},
   "outputs": [
    {
     "data": {
      "text/plain": [
       "2"
      ]
     },
     "execution_count": 99,
     "metadata": {},
     "output_type": "execute_result"
    }
   ],
   "source": [
    "suresh.population"
   ]
  },
  {
   "cell_type": "code",
   "execution_count": 54,
   "id": "d67b4db6",
   "metadata": {},
   "outputs": [],
   "source": [
    "#static methods"
   ]
  },
  {
   "cell_type": "code",
   "execution_count": 92,
   "id": "ab1e4afc",
   "metadata": {},
   "outputs": [],
   "source": [
    "class Human():\n",
    "    population=0\n",
    "    def __init__(self,name,age):\n",
    "        self.name=name\n",
    "        self.age=age\n",
    "        \n",
    "        Human.population+=1\n",
    "    @staticmethod  # this is called a Decorator\n",
    "    # used to modify behavior of the functions\n",
    "    def fun():\n",
    "        print(Human.population)\n",
    "        "
   ]
  },
  {
   "cell_type": "code",
   "execution_count": 93,
   "id": "a4ae3f1a",
   "metadata": {},
   "outputs": [],
   "source": [
    "kumar=Human(\"Kumar\",45)"
   ]
  },
  {
   "cell_type": "code",
   "execution_count": 94,
   "id": "c3ee10a2",
   "metadata": {},
   "outputs": [
    {
     "data": {
      "text/plain": [
       "45"
      ]
     },
     "execution_count": 94,
     "metadata": {},
     "output_type": "execute_result"
    }
   ],
   "source": [
    "kumar.age"
   ]
  },
  {
   "cell_type": "code",
   "execution_count": 95,
   "id": "0c4dd222",
   "metadata": {},
   "outputs": [
    {
     "data": {
      "text/plain": [
       "'Kumar'"
      ]
     },
     "execution_count": 95,
     "metadata": {},
     "output_type": "execute_result"
    }
   ],
   "source": [
    "kumar.name"
   ]
  },
  {
   "cell_type": "code",
   "execution_count": 96,
   "id": "53e6db50",
   "metadata": {},
   "outputs": [
    {
     "data": {
      "text/plain": [
       "1"
      ]
     },
     "execution_count": 96,
     "metadata": {},
     "output_type": "execute_result"
    }
   ],
   "source": [
    "kumar.population"
   ]
  },
  {
   "cell_type": "code",
   "execution_count": 97,
   "id": "9d98d930",
   "metadata": {},
   "outputs": [
    {
     "data": {
      "text/plain": [
       "1"
      ]
     },
     "execution_count": 97,
     "metadata": {},
     "output_type": "execute_result"
    }
   ],
   "source": [
    "Human.population"
   ]
  },
  {
   "cell_type": "code",
   "execution_count": 98,
   "id": "22c22d16",
   "metadata": {},
   "outputs": [
    {
     "name": "stdout",
     "output_type": "stream",
     "text": [
      "1\n"
     ]
    }
   ],
   "source": [
    "kumar.fun()"
   ]
  },
  {
   "cell_type": "code",
   "execution_count": null,
   "id": "24ce8f6a",
   "metadata": {},
   "outputs": [],
   "source": []
  }
 ],
 "metadata": {
  "kernelspec": {
   "display_name": "Python 3 (ipykernel)",
   "language": "python",
   "name": "python3"
  },
  "language_info": {
   "codemirror_mode": {
    "name": "ipython",
    "version": 3
   },
   "file_extension": ".py",
   "mimetype": "text/x-python",
   "name": "python",
   "nbconvert_exporter": "python",
   "pygments_lexer": "ipython3",
   "version": "3.9.12"
  }
 },
 "nbformat": 4,
 "nbformat_minor": 5
}
