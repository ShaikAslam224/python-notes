{
 "cells": [
  {
   "cell_type": "code",
   "execution_count": 1,
   "id": "fbd8182a",
   "metadata": {},
   "outputs": [],
   "source": [
    "# clousers"
   ]
  },
  {
   "cell_type": "code",
   "execution_count": 21,
   "id": "963049ee",
   "metadata": {},
   "outputs": [],
   "source": [
    "def Outer_fun():\n",
    "    message=\"Hello\"\n",
    "    \n",
    "    def Inner_fun():\n",
    "        print(locals())\n",
    "        print(message)  # also know as free variables\n",
    "    return Inner_fun"
   ]
  },
  {
   "cell_type": "code",
   "execution_count": 22,
   "id": "0f5f38c5",
   "metadata": {},
   "outputs": [],
   "source": [
    "Myfun=Outer_fun()   # here Myfun=Inner_fun "
   ]
  },
  {
   "cell_type": "code",
   "execution_count": 23,
   "id": "8f717b22",
   "metadata": {},
   "outputs": [
    {
     "name": "stdout",
     "output_type": "stream",
     "text": [
      "{'message': 'Hello'}\n",
      "Hello\n"
     ]
    }
   ],
   "source": [
    "Myfun()"
   ]
  },
  {
   "cell_type": "code",
   "execution_count": 24,
   "id": "da06b1a9",
   "metadata": {},
   "outputs": [],
   "source": [
    "def make_multi(x):\n",
    "    def multiplier(n):\n",
    "        return x*n\n",
    "    return multiplier"
   ]
  },
  {
   "cell_type": "code",
   "execution_count": 25,
   "id": "3ff61eb9",
   "metadata": {},
   "outputs": [],
   "source": [
    "obj=make_multi(3)"
   ]
  },
  {
   "cell_type": "code",
   "execution_count": 26,
   "id": "b8c12cd9",
   "metadata": {},
   "outputs": [
    {
     "data": {
      "text/plain": [
       "6"
      ]
     },
     "execution_count": 26,
     "metadata": {},
     "output_type": "execute_result"
    }
   ],
   "source": [
    "obj(2)   # here 3x2=6"
   ]
  },
  {
   "cell_type": "code",
   "execution_count": null,
   "id": "864a3170",
   "metadata": {},
   "outputs": [],
   "source": []
  }
 ],
 "metadata": {
  "kernelspec": {
   "display_name": "Python 3 (ipykernel)",
   "language": "python",
   "name": "python3"
  },
  "language_info": {
   "codemirror_mode": {
    "name": "ipython",
    "version": 3
   },
   "file_extension": ".py",
   "mimetype": "text/x-python",
   "name": "python",
   "nbconvert_exporter": "python",
   "pygments_lexer": "ipython3",
   "version": "3.9.12"
  }
 },
 "nbformat": 4,
 "nbformat_minor": 5
}
