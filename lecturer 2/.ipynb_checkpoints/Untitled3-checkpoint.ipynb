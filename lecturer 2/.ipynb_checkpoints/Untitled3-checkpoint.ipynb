{
 "cells": [
  {
   "cell_type": "code",
   "execution_count": 1,
   "id": "acd01105",
   "metadata": {},
   "outputs": [],
   "source": [
    "# simplest class"
   ]
  },
  {
   "cell_type": "code",
   "execution_count": 4,
   "id": "004d0d93",
   "metadata": {},
   "outputs": [],
   "source": [
    "class Human:           # here class name must be start with capital letter\n",
    "    age=18\n",
    "    name=\"Ashok\""
   ]
  },
  {
   "cell_type": "code",
   "execution_count": 8,
   "id": "0510deab",
   "metadata": {},
   "outputs": [],
   "source": [
    "kumar=Human()\n",
    "# whenever u create a object, a constructor is called\n",
    "# constructor is a function"
   ]
  },
  {
   "cell_type": "code",
   "execution_count": 11,
   "id": "0b2aac30",
   "metadata": {},
   "outputs": [],
   "source": [
    "suresh=Human()"
   ]
  },
  {
   "cell_type": "code",
   "execution_count": 23,
   "id": "71c37073",
   "metadata": {},
   "outputs": [
    {
     "data": {
      "text/plain": [
       "('Ashok', 'Ashok')"
      ]
     },
     "execution_count": 23,
     "metadata": {},
     "output_type": "execute_result"
    }
   ],
   "source": [
    "kumar.name,suresh.name"
   ]
  },
  {
   "cell_type": "code",
   "execution_count": 25,
   "id": "7fa253d7",
   "metadata": {},
   "outputs": [
    {
     "data": {
      "text/plain": [
       "(18, 18)"
      ]
     },
     "execution_count": 25,
     "metadata": {},
     "output_type": "execute_result"
    }
   ],
   "source": [
    "kumar.age,suresh.age"
   ]
  },
  {
   "cell_type": "code",
   "execution_count": 28,
   "id": "280fa390",
   "metadata": {},
   "outputs": [],
   "source": [
    "kumar.age=20\n",
    "suresh.age=25"
   ]
  },
  {
   "cell_type": "code",
   "execution_count": 29,
   "id": "ff970ead",
   "metadata": {},
   "outputs": [
    {
     "data": {
      "text/plain": [
       "20"
      ]
     },
     "execution_count": 29,
     "metadata": {},
     "output_type": "execute_result"
    }
   ],
   "source": [
    "kumar.age"
   ]
  },
  {
   "cell_type": "code",
   "execution_count": 30,
   "id": "27c6bf4c",
   "metadata": {},
   "outputs": [
    {
     "data": {
      "text/plain": [
       "25"
      ]
     },
     "execution_count": 30,
     "metadata": {},
     "output_type": "execute_result"
    }
   ],
   "source": [
    "suresh.age"
   ]
  },
  {
   "cell_type": "code",
   "execution_count": 31,
   "id": "df3a550e",
   "metadata": {},
   "outputs": [],
   "source": [
    "kumar.name=\"Ashok Kumar\"\n",
    "suresh.name=\"Suresh Babu\""
   ]
  },
  {
   "cell_type": "code",
   "execution_count": 33,
   "id": "26a243e0",
   "metadata": {},
   "outputs": [
    {
     "data": {
      "text/plain": [
       "'Ashok Kumar'"
      ]
     },
     "execution_count": 33,
     "metadata": {},
     "output_type": "execute_result"
    }
   ],
   "source": [
    "kumar.name"
   ]
  },
  {
   "cell_type": "code",
   "execution_count": 34,
   "id": "bed82f84",
   "metadata": {},
   "outputs": [
    {
     "data": {
      "text/plain": [
       "'Suresh Babu'"
      ]
     },
     "execution_count": 34,
     "metadata": {},
     "output_type": "execute_result"
    }
   ],
   "source": [
    "suresh.name"
   ]
  },
  {
   "cell_type": "code",
   "execution_count": 36,
   "id": "d638857d",
   "metadata": {},
   "outputs": [
    {
     "data": {
      "text/plain": [
       "18"
      ]
     },
     "execution_count": 36,
     "metadata": {},
     "output_type": "execute_result"
    }
   ],
   "source": [
    "Human.age"
   ]
  },
  {
   "cell_type": "code",
   "execution_count": 37,
   "id": "c2a61617",
   "metadata": {},
   "outputs": [
    {
     "data": {
      "text/plain": [
       "'Ashok'"
      ]
     },
     "execution_count": 37,
     "metadata": {},
     "output_type": "execute_result"
    }
   ],
   "source": [
    "Human.name"
   ]
  },
  {
   "cell_type": "code",
   "execution_count": 38,
   "id": "db4eef12",
   "metadata": {},
   "outputs": [],
   "source": [
    "kumar.salary=15000"
   ]
  },
  {
   "cell_type": "code",
   "execution_count": 39,
   "id": "5863cf6c",
   "metadata": {},
   "outputs": [
    {
     "data": {
      "text/plain": [
       "15000"
      ]
     },
     "execution_count": 39,
     "metadata": {},
     "output_type": "execute_result"
    }
   ],
   "source": [
    "kumar.salary"
   ]
  },
  {
   "cell_type": "code",
   "execution_count": 42,
   "id": "d452b9d5",
   "metadata": {},
   "outputs": [],
   "source": [
    "Human.salary=10000"
   ]
  },
  {
   "cell_type": "code",
   "execution_count": 43,
   "id": "4f991b62",
   "metadata": {},
   "outputs": [
    {
     "data": {
      "text/plain": [
       "10000"
      ]
     },
     "execution_count": 43,
     "metadata": {},
     "output_type": "execute_result"
    }
   ],
   "source": [
    "Human.salary"
   ]
  },
  {
   "cell_type": "code",
   "execution_count": 44,
   "id": "2e9e26e6",
   "metadata": {},
   "outputs": [
    {
     "data": {
      "text/plain": [
       "10000"
      ]
     },
     "execution_count": 44,
     "metadata": {},
     "output_type": "execute_result"
    }
   ],
   "source": [
    "suresh.salary"
   ]
  },
  {
   "cell_type": "code",
   "execution_count": 46,
   "id": "70b4985d",
   "metadata": {},
   "outputs": [],
   "source": [
    "# if i have a 1000 records?\n",
    "# solution?"
   ]
  },
  {
   "cell_type": "code",
   "execution_count": null,
   "id": "994427a7",
   "metadata": {},
   "outputs": [],
   "source": [
    "# I want to assign these values, when the object is created"
   ]
  },
  {
   "cell_type": "code",
   "execution_count": 56,
   "id": "1fe90edc",
   "metadata": {},
   "outputs": [],
   "source": [
    "class Human:\n",
    "    def fun(something):\n",
    "        print(\"Hello World!\")"
   ]
  },
  {
   "cell_type": "code",
   "execution_count": 57,
   "id": "2aa95e49",
   "metadata": {},
   "outputs": [],
   "source": [
    "kumar=Human()"
   ]
  },
  {
   "cell_type": "code",
   "execution_count": 58,
   "id": "d03aab5c",
   "metadata": {},
   "outputs": [
    {
     "name": "stdout",
     "output_type": "stream",
     "text": [
      "Hello World!\n"
     ]
    }
   ],
   "source": [
    "kumar.fun()"
   ]
  },
  {
   "cell_type": "code",
   "execution_count": 91,
   "id": "86892e8d",
   "metadata": {},
   "outputs": [],
   "source": [
    "class Human:\n",
    "    age=18\n",
    "    def fun(self):\n",
    "        print(self.age)"
   ]
  },
  {
   "cell_type": "code",
   "execution_count": 85,
   "id": "82a81407",
   "metadata": {},
   "outputs": [],
   "source": [
    "kumar=Human()"
   ]
  },
  {
   "cell_type": "code",
   "execution_count": 94,
   "id": "6ad876b7",
   "metadata": {},
   "outputs": [],
   "source": [
    "kumar.age=20"
   ]
  },
  {
   "cell_type": "code",
   "execution_count": 93,
   "id": "e68d49c4",
   "metadata": {},
   "outputs": [
    {
     "name": "stdout",
     "output_type": "stream",
     "text": [
      "20\n"
     ]
    }
   ],
   "source": [
    "kumar.fun()\n",
    "# this is same as this:"
   ]
  },
  {
   "cell_type": "code",
   "execution_count": 92,
   "id": "bc925e94",
   "metadata": {},
   "outputs": [
    {
     "name": "stdout",
     "output_type": "stream",
     "text": [
      "20\n"
     ]
    }
   ],
   "source": [
    "Human.fun(kumar)"
   ]
  },
  {
   "cell_type": "code",
   "execution_count": 95,
   "id": "db75733b",
   "metadata": {},
   "outputs": [],
   "source": [
    "suresh=Human()"
   ]
  },
  {
   "cell_type": "code",
   "execution_count": 97,
   "id": "e70b3253",
   "metadata": {},
   "outputs": [
    {
     "data": {
      "text/plain": [
       "18"
      ]
     },
     "execution_count": 97,
     "metadata": {},
     "output_type": "execute_result"
    }
   ],
   "source": [
    "suresh.age"
   ]
  },
  {
   "cell_type": "code",
   "execution_count": 98,
   "id": "7cf9592b",
   "metadata": {},
   "outputs": [],
   "source": [
    "suresh.age=45"
   ]
  },
  {
   "cell_type": "code",
   "execution_count": 99,
   "id": "408557da",
   "metadata": {},
   "outputs": [
    {
     "data": {
      "text/plain": [
       "45"
      ]
     },
     "execution_count": 99,
     "metadata": {},
     "output_type": "execute_result"
    }
   ],
   "source": [
    "suresh.age"
   ]
  },
  {
   "cell_type": "code",
   "execution_count": 8,
   "id": "e4b27cdd",
   "metadata": {},
   "outputs": [],
   "source": [
    "class Human():\n",
    "    age=10\n",
    "    def fun(self):\n",
    "        print(Human.age)"
   ]
  },
  {
   "cell_type": "code",
   "execution_count": 9,
   "id": "00439327",
   "metadata": {},
   "outputs": [],
   "source": [
    "a=Human()"
   ]
  },
  {
   "cell_type": "code",
   "execution_count": 14,
   "id": "b8d6cc75",
   "metadata": {},
   "outputs": [],
   "source": [
    "a.age=20"
   ]
  },
  {
   "cell_type": "code",
   "execution_count": 15,
   "id": "f1e621f1",
   "metadata": {},
   "outputs": [
    {
     "name": "stdout",
     "output_type": "stream",
     "text": [
      "10\n"
     ]
    }
   ],
   "source": [
    "a.fun()"
   ]
  },
  {
   "cell_type": "code",
   "execution_count": 18,
   "id": "ee4b37fe",
   "metadata": {},
   "outputs": [],
   "source": [
    "class Human():\n",
    "    age=20\n",
    "    def fun(self):\n",
    "        print(self.age)"
   ]
  },
  {
   "cell_type": "code",
   "execution_count": 19,
   "id": "98b8699d",
   "metadata": {},
   "outputs": [],
   "source": [
    "a=Human()"
   ]
  },
  {
   "cell_type": "code",
   "execution_count": 20,
   "id": "369ca3c1",
   "metadata": {},
   "outputs": [
    {
     "name": "stdout",
     "output_type": "stream",
     "text": [
      "20\n"
     ]
    }
   ],
   "source": [
    "a.fun()"
   ]
  },
  {
   "cell_type": "code",
   "execution_count": 56,
   "id": "aedf539a",
   "metadata": {},
   "outputs": [],
   "source": [
    "class Human():\n",
    "    # over riding \n",
    "    def __init__(self,name,age):\n",
    "        self.name=name\n",
    "        self.age=age"
   ]
  },
  {
   "cell_type": "code",
   "execution_count": 46,
   "id": "de723d54",
   "metadata": {},
   "outputs": [],
   "source": [
    "kumar=Human(\"Ashok Kumar\",22)"
   ]
  },
  {
   "cell_type": "code",
   "execution_count": 47,
   "id": "ef6adc72",
   "metadata": {},
   "outputs": [
    {
     "data": {
      "text/plain": [
       "'Ashok Kumar'"
      ]
     },
     "execution_count": 47,
     "metadata": {},
     "output_type": "execute_result"
    }
   ],
   "source": [
    "kumar.name"
   ]
  },
  {
   "cell_type": "code",
   "execution_count": 48,
   "id": "5a49a71a",
   "metadata": {},
   "outputs": [
    {
     "data": {
      "text/plain": [
       "22"
      ]
     },
     "execution_count": 48,
     "metadata": {},
     "output_type": "execute_result"
    }
   ],
   "source": [
    "kumar.age"
   ]
  },
  {
   "cell_type": "code",
   "execution_count": 49,
   "id": "e69cb5b4",
   "metadata": {},
   "outputs": [
    {
     "data": {
      "text/plain": [
       "('Ashok Kumar', 22)"
      ]
     },
     "execution_count": 49,
     "metadata": {},
     "output_type": "execute_result"
    }
   ],
   "source": [
    "kumar.name,kumar.age"
   ]
  },
  {
   "cell_type": "code",
   "execution_count": 50,
   "id": "3c6275ae",
   "metadata": {},
   "outputs": [],
   "source": [
    "apporv=Human(\"appporv\",43)"
   ]
  },
  {
   "cell_type": "code",
   "execution_count": 51,
   "id": "5d4594dc",
   "metadata": {},
   "outputs": [
    {
     "data": {
      "text/plain": [
       "'appporv'"
      ]
     },
     "execution_count": 51,
     "metadata": {},
     "output_type": "execute_result"
    }
   ],
   "source": [
    "apporv.name"
   ]
  }
 ],
 "metadata": {
  "kernelspec": {
   "display_name": "Python 3 (ipykernel)",
   "language": "python",
   "name": "python3"
  },
  "language_info": {
   "codemirror_mode": {
    "name": "ipython",
    "version": 3
   },
   "file_extension": ".py",
   "mimetype": "text/x-python",
   "name": "python",
   "nbconvert_exporter": "python",
   "pygments_lexer": "ipython3",
   "version": "3.9.12"
  }
 },
 "nbformat": 4,
 "nbformat_minor": 5
}
