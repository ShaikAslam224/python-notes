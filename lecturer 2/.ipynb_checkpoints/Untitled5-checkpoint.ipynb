{
 "cells": [
  {
   "cell_type": "code",
   "execution_count": 26,
   "id": "1674fb0b",
   "metadata": {},
   "outputs": [],
   "source": [
    "class Human():\n",
    "    population=0\n",
    "    def __init__(self,name,age):\n",
    "        self.name=name\n",
    "        self.age=age\n",
    "        \n",
    "        Human.population+=1\n",
    "    @staticmethod  \n",
    "    def fun():\n",
    "        print(Human.population)\n",
    "    \n",
    "    def Getname(self):\n",
    "        print(self.name)\n",
    "        \n",
    "    @classmethod\n",
    "    def AtomBomb(cls):  # in this cls place Human will be passed\n",
    "        cls.population=0\n",
    "    @classmethod\n",
    "    def fromstring(cls,name,age):\n",
    "        return cls(name,age)"
   ]
  },
  {
   "cell_type": "code",
   "execution_count": 27,
   "id": "32eb8f9d",
   "metadata": {},
   "outputs": [],
   "source": [
    "kumar=Human(\"Kumar\",45)\n",
    "ashok=Human(\"Ashok\",43)"
   ]
  },
  {
   "cell_type": "code",
   "execution_count": 28,
   "id": "ba6824ed",
   "metadata": {},
   "outputs": [
    {
     "data": {
      "text/plain": [
       "2"
      ]
     },
     "execution_count": 28,
     "metadata": {},
     "output_type": "execute_result"
    }
   ],
   "source": [
    "kumar.population"
   ]
  },
  {
   "cell_type": "code",
   "execution_count": 29,
   "id": "b9ad21ea",
   "metadata": {},
   "outputs": [
    {
     "name": "stdout",
     "output_type": "stream",
     "text": [
      "2\n"
     ]
    }
   ],
   "source": [
    "kumar.fun()"
   ]
  },
  {
   "cell_type": "code",
   "execution_count": 30,
   "id": "50f55742",
   "metadata": {},
   "outputs": [
    {
     "name": "stdout",
     "output_type": "stream",
     "text": [
      "Kumar\n"
     ]
    }
   ],
   "source": [
    "kumar.Getname()"
   ]
  },
  {
   "cell_type": "code",
   "execution_count": 31,
   "id": "1cabf062",
   "metadata": {},
   "outputs": [
    {
     "name": "stdout",
     "output_type": "stream",
     "text": [
      "Ashok\n"
     ]
    }
   ],
   "source": [
    "ashok.Getname()"
   ]
  },
  {
   "cell_type": "code",
   "execution_count": 32,
   "id": "919d0809",
   "metadata": {},
   "outputs": [],
   "source": [
    "kumar.AtomBomb()  # here this is same as ashok.AtomBomb() and Human.AtomBomb()"
   ]
  },
  {
   "cell_type": "code",
   "execution_count": 33,
   "id": "7dac82b9",
   "metadata": {},
   "outputs": [
    {
     "name": "stdout",
     "output_type": "stream",
     "text": [
      "0\n"
     ]
    }
   ],
   "source": [
    "ashok.fun()"
   ]
  },
  {
   "cell_type": "code",
   "execution_count": 34,
   "id": "c5cafbf3",
   "metadata": {},
   "outputs": [],
   "source": [
    "shaik=Human.fromstring(\"Aslam\",22)"
   ]
  },
  {
   "cell_type": "code",
   "execution_count": 35,
   "id": "9b7d4732",
   "metadata": {},
   "outputs": [
    {
     "data": {
      "text/plain": [
       "1"
      ]
     },
     "execution_count": 35,
     "metadata": {},
     "output_type": "execute_result"
    }
   ],
   "source": [
    "shaik.population"
   ]
  },
  {
   "cell_type": "code",
   "execution_count": 36,
   "id": "0a76dc55",
   "metadata": {},
   "outputs": [
    {
     "data": {
      "text/plain": [
       "'Aslam'"
      ]
     },
     "execution_count": 36,
     "metadata": {},
     "output_type": "execute_result"
    }
   ],
   "source": [
    "shaik.name"
   ]
  },
  {
   "cell_type": "code",
   "execution_count": 37,
   "id": "7b7acc60",
   "metadata": {},
   "outputs": [
    {
     "data": {
      "text/plain": [
       "22"
      ]
     },
     "execution_count": 37,
     "metadata": {},
     "output_type": "execute_result"
    }
   ],
   "source": [
    "shaik.age"
   ]
  },
  {
   "cell_type": "code",
   "execution_count": null,
   "id": "aef2231f",
   "metadata": {},
   "outputs": [],
   "source": []
  }
 ],
 "metadata": {
  "kernelspec": {
   "display_name": "Python 3 (ipykernel)",
   "language": "python",
   "name": "python3"
  },
  "language_info": {
   "codemirror_mode": {
    "name": "ipython",
    "version": 3
   },
   "file_extension": ".py",
   "mimetype": "text/x-python",
   "name": "python",
   "nbconvert_exporter": "python",
   "pygments_lexer": "ipython3",
   "version": "3.9.12"
  }
 },
 "nbformat": 4,
 "nbformat_minor": 5
}
