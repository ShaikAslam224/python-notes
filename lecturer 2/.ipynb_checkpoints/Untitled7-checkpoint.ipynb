{
 "cells": [
  {
   "cell_type": "code",
   "execution_count": 1,
   "id": "66f0be9a",
   "metadata": {},
   "outputs": [],
   "source": [
    "#SCOPING"
   ]
  },
  {
   "cell_type": "code",
   "execution_count": 5,
   "id": "c132182a",
   "metadata": {},
   "outputs": [],
   "source": [
    "a=2 # this is global\n",
    "def fun():\n",
    "    a=6  # this is local to function\n",
    "    a=a+3\n",
    "    print(a)"
   ]
  },
  {
   "cell_type": "code",
   "execution_count": 6,
   "id": "2a82d0bf",
   "metadata": {},
   "outputs": [
    {
     "name": "stdout",
     "output_type": "stream",
     "text": [
      "9\n"
     ]
    }
   ],
   "source": [
    "fun()"
   ]
  },
  {
   "cell_type": "code",
   "execution_count": 7,
   "id": "41664f89",
   "metadata": {},
   "outputs": [
    {
     "data": {
      "text/plain": [
       "2"
      ]
     },
     "execution_count": 7,
     "metadata": {},
     "output_type": "execute_result"
    }
   ],
   "source": [
    "a"
   ]
  },
  {
   "cell_type": "code",
   "execution_count": 1,
   "id": "47d2d170",
   "metadata": {},
   "outputs": [],
   "source": [
    "# here You can access the value but u can't change "
   ]
  },
  {
   "cell_type": "code",
   "execution_count": 2,
   "id": "d5841205",
   "metadata": {},
   "outputs": [],
   "source": [
    "a=55\n",
    "def fum():\n",
    "    print(a)"
   ]
  },
  {
   "cell_type": "code",
   "execution_count": 3,
   "id": "2b324c7c",
   "metadata": {},
   "outputs": [
    {
     "name": "stdout",
     "output_type": "stream",
     "text": [
      "55\n"
     ]
    }
   ],
   "source": [
    "fum()"
   ]
  },
  {
   "cell_type": "code",
   "execution_count": 4,
   "id": "3f0ac438",
   "metadata": {},
   "outputs": [
    {
     "data": {
      "text/plain": [
       "55"
      ]
     },
     "execution_count": 4,
     "metadata": {},
     "output_type": "execute_result"
    }
   ],
   "source": [
    "a"
   ]
  },
  {
   "cell_type": "code",
   "execution_count": 5,
   "id": "34ee876d",
   "metadata": {},
   "outputs": [],
   "source": [
    "# LEGB rule Local,Enclosed,Global and Buit-in"
   ]
  },
  {
   "cell_type": "code",
   "execution_count": 6,
   "id": "7591cf56",
   "metadata": {},
   "outputs": [],
   "source": [
    "# LOCAL\n",
    "# ENCLOSED\n",
    "# GLOBAL \n",
    "# BUILT-IN"
   ]
  },
  {
   "cell_type": "code",
   "execution_count": 27,
   "id": "47e860d1",
   "metadata": {},
   "outputs": [],
   "source": [
    "x=5  # global value\n",
    "def A():\n",
    "    x=6  # this X value is local to A()\n",
    "    # this x is enclosed for B()\n",
    "    def B():\n",
    "        x=3   # this X value is local to B\n",
    "        print(\"x value in B() is \",x)\n",
    "        print(\"local for B are: \", locals())\n",
    "    print(\"x value in A() is \",x)\n",
    "    print(\"local for A are: \", locals())\n",
    "    return B()"
   ]
  },
  {
   "cell_type": "code",
   "execution_count": 28,
   "id": "73be1f46",
   "metadata": {},
   "outputs": [
    {
     "name": "stdout",
     "output_type": "stream",
     "text": [
      "x value in A() is  6\n",
      "local for A are:  {'x': 6, 'B': <function A.<locals>.B at 0x000001A5F8C4A4C0>}\n",
      "x value in B() is  3\n",
      "local for B are:  {'x': 3}\n"
     ]
    }
   ],
   "source": [
    "A()"
   ]
  },
  {
   "cell_type": "code",
   "execution_count": 31,
   "id": "7331b045",
   "metadata": {},
   "outputs": [],
   "source": [
    "x=5  # global value\n",
    "def A():\n",
    "    x=6  # this X value is local to A()\n",
    "    # this x is enclosed for B()\n",
    "    def B():\n",
    "        nonlocal x  # this is used to change the local value of x\n",
    "        x+=3   # this X value is local to B\n",
    "        print(\"x value in B() is \",x)\n",
    "        print(\"local for B are: \", locals())\n",
    "    print(\"x value in A() is \",x)\n",
    "    print(\"local for A are: \", locals())\n",
    "    return B()"
   ]
  },
  {
   "cell_type": "code",
   "execution_count": 32,
   "id": "fde43f59",
   "metadata": {},
   "outputs": [
    {
     "name": "stdout",
     "output_type": "stream",
     "text": [
      "x value in A() is  6\n",
      "local for A are:  {'B': <function A.<locals>.B at 0x000001A5F7149DC0>, 'x': 6}\n",
      "x value in B() is  9\n",
      "local for B are:  {'x': 9}\n"
     ]
    }
   ],
   "source": [
    "A()"
   ]
  },
  {
   "cell_type": "code",
   "execution_count": 42,
   "id": "bcea124a",
   "metadata": {},
   "outputs": [
    {
     "name": "stdout",
     "output_type": "stream",
     "text": [
      "65\n",
      "2\n",
      "3\n",
      "103\n"
     ]
    }
   ],
   "source": [
    "x=65\n",
    "def A():\n",
    "    x=2\n",
    "    \n",
    "    def B():\n",
    "        x =3\n",
    "        \n",
    "        def C():\n",
    "            nonlocal x  # changing the value of x\n",
    "            x+=100      # here X value is x= 3+100 = 103\n",
    "            print(x)\n",
    "            \n",
    "        print(x)\n",
    "        C()\n",
    "        \n",
    "    print(x)\n",
    "    B()\n",
    "    \n",
    "print(x)\n",
    "A()\n",
    "            "
   ]
  },
  {
   "cell_type": "code",
   "execution_count": 34,
   "id": "c7691541",
   "metadata": {},
   "outputs": [
    {
     "name": "stdout",
     "output_type": "stream",
     "text": [
      "2\n"
     ]
    }
   ],
   "source": [
    "A()"
   ]
  },
  {
   "cell_type": "code",
   "execution_count": 43,
   "id": "3e2e8412",
   "metadata": {},
   "outputs": [
    {
     "name": "stdout",
     "output_type": "stream",
     "text": [
      "65\n",
      "2\n",
      "3\n",
      "165\n"
     ]
    }
   ],
   "source": [
    "x=65\n",
    "def A():\n",
    "    x=2\n",
    "    \n",
    "    def B():\n",
    "        x =3\n",
    "        \n",
    "        def C():\n",
    "            global x  \n",
    "            x+=100      \n",
    "            print(x)\n",
    "            \n",
    "        print(x)\n",
    "        C()\n",
    "        \n",
    "    print(x)\n",
    "    B()\n",
    "    \n",
    "print(x)\n",
    "A()\n",
    "            "
   ]
  },
  {
   "cell_type": "code",
   "execution_count": 44,
   "id": "b7ea508a",
   "metadata": {},
   "outputs": [
    {
     "data": {
      "text/plain": [
       "165"
      ]
     },
     "execution_count": 44,
     "metadata": {},
     "output_type": "execute_result"
    }
   ],
   "source": [
    "x"
   ]
  },
  {
   "cell_type": "code",
   "execution_count": null,
   "id": "fc069645",
   "metadata": {},
   "outputs": [],
   "source": []
  }
 ],
 "metadata": {
  "kernelspec": {
   "display_name": "Python 3 (ipykernel)",
   "language": "python",
   "name": "python3"
  },
  "language_info": {
   "codemirror_mode": {
    "name": "ipython",
    "version": 3
   },
   "file_extension": ".py",
   "mimetype": "text/x-python",
   "name": "python",
   "nbconvert_exporter": "python",
   "pygments_lexer": "ipython3",
   "version": "3.9.12"
  }
 },
 "nbformat": 4,
 "nbformat_minor": 5
}
