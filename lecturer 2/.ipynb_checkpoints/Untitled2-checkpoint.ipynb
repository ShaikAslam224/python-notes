{
 "cells": [
  {
   "cell_type": "code",
   "execution_count": 1,
   "id": "3daa56a7",
   "metadata": {},
   "outputs": [],
   "source": [
    "# print!"
   ]
  },
  {
   "cell_type": "code",
   "execution_count": 2,
   "id": "c3c7301b",
   "metadata": {},
   "outputs": [],
   "source": [
    "print?"
   ]
  },
  {
   "cell_type": "code",
   "execution_count": 4,
   "id": "7c29535f",
   "metadata": {},
   "outputs": [
    {
     "name": "stdout",
     "output_type": "stream",
     "text": [
      "45-24\n"
     ]
    }
   ],
   "source": [
    "print(45,24,sep='-')"
   ]
  },
  {
   "cell_type": "code",
   "execution_count": 5,
   "id": "7d556313",
   "metadata": {},
   "outputs": [],
   "source": [
    "# string formate"
   ]
  },
  {
   "cell_type": "code",
   "execution_count": 6,
   "id": "51ced967",
   "metadata": {},
   "outputs": [],
   "source": [
    "a=45\n",
    "b=32"
   ]
  },
  {
   "cell_type": "code",
   "execution_count": 8,
   "id": "f57c924f",
   "metadata": {},
   "outputs": [
    {
     "name": "stdout",
     "output_type": "stream",
     "text": [
      "the two numbers are 45 and 32\n"
     ]
    }
   ],
   "source": [
    "print(\"the two numbers are\",a,\"and\",b)"
   ]
  },
  {
   "cell_type": "code",
   "execution_count": 10,
   "id": "34b1fc81",
   "metadata": {},
   "outputs": [],
   "source": [
    "# if we have lot of numbers. it is not easy with comma symbols"
   ]
  },
  {
   "cell_type": "code",
   "execution_count": 13,
   "id": "d8004db2",
   "metadata": {},
   "outputs": [
    {
     "name": "stdout",
     "output_type": "stream",
     "text": [
      "the numbers are 45 and 32 \n"
     ]
    }
   ],
   "source": [
    "#so\n",
    "print(\"the numbers are {} and {} \".format(a,b))"
   ]
  },
  {
   "cell_type": "code",
   "execution_count": 14,
   "id": "795c2b03",
   "metadata": {},
   "outputs": [
    {
     "name": "stdout",
     "output_type": "stream",
     "text": [
      "the two numbers are 45 and 32\n"
     ]
    }
   ],
   "source": [
    "#the best way for this is\n",
    "print(f\"the two numbers are {a} and {b}\")"
   ]
  },
  {
   "cell_type": "code",
   "execution_count": null,
   "id": "240f7f64",
   "metadata": {},
   "outputs": [],
   "source": []
  }
 ],
 "metadata": {
  "kernelspec": {
   "display_name": "Python 3 (ipykernel)",
   "language": "python",
   "name": "python3"
  },
  "language_info": {
   "codemirror_mode": {
    "name": "ipython",
    "version": 3
   },
   "file_extension": ".py",
   "mimetype": "text/x-python",
   "name": "python",
   "nbconvert_exporter": "python",
   "pygments_lexer": "ipython3",
   "version": "3.9.12"
  }
 },
 "nbformat": 4,
 "nbformat_minor": 5
}
