{
 "cells": [
  {
   "cell_type": "code",
   "execution_count": 1,
   "id": "7456e564",
   "metadata": {},
   "outputs": [],
   "source": [
    "# generators"
   ]
  },
  {
   "cell_type": "code",
   "execution_count": 2,
   "id": "33ea65bb",
   "metadata": {},
   "outputs": [],
   "source": [
    "# it is a simpler way of creating iterators"
   ]
  },
  {
   "cell_type": "code",
   "execution_count": 3,
   "id": "ff59b37c",
   "metadata": {},
   "outputs": [],
   "source": [
    "# it returns an iterator over which we can iterate upon"
   ]
  },
  {
   "cell_type": "code",
   "execution_count": 4,
   "id": "120cc5a2",
   "metadata": {},
   "outputs": [],
   "source": [
    "# here \"yield\" \n",
    "# it works like the return statement"
   ]
  },
  {
   "cell_type": "code",
   "execution_count": 44,
   "id": "66b2b2cc",
   "metadata": {},
   "outputs": [],
   "source": [
    "# why is efficient?\n",
    "# it doesn't hold all the values in memory\n",
    "# it is just going to store the state\n",
    "# you don't need to worry about error handling"
   ]
  },
  {
   "cell_type": "code",
   "execution_count": 54,
   "id": "ea4333c7",
   "metadata": {},
   "outputs": [],
   "source": [
    "def Square(nums):\n",
    "    for i in nums:\n",
    "        yield (i*i)"
   ]
  },
  {
   "cell_type": "code",
   "execution_count": 55,
   "id": "956b7c7e",
   "metadata": {},
   "outputs": [],
   "source": [
    "ob=Square([1,2,3,4,5])"
   ]
  },
  {
   "cell_type": "code",
   "execution_count": 56,
   "id": "3d483fd3",
   "metadata": {},
   "outputs": [
    {
     "data": {
      "text/plain": [
       "1"
      ]
     },
     "execution_count": 56,
     "metadata": {},
     "output_type": "execute_result"
    }
   ],
   "source": [
    "next(ob)"
   ]
  },
  {
   "cell_type": "code",
   "execution_count": 57,
   "id": "0328aa34",
   "metadata": {},
   "outputs": [],
   "source": [
    "# creating generator in one line!"
   ]
  },
  {
   "cell_type": "code",
   "execution_count": 66,
   "id": "82f3e05f",
   "metadata": {},
   "outputs": [],
   "source": [
    "obj=(num*num for num in [1,2,3,4,5])"
   ]
  },
  {
   "cell_type": "code",
   "execution_count": 67,
   "id": "f02f09e9",
   "metadata": {},
   "outputs": [
    {
     "data": {
      "text/plain": [
       "generator"
      ]
     },
     "execution_count": 67,
     "metadata": {},
     "output_type": "execute_result"
    }
   ],
   "source": [
    "type(obj)"
   ]
  },
  {
   "cell_type": "code",
   "execution_count": 68,
   "id": "19c9b355",
   "metadata": {},
   "outputs": [
    {
     "data": {
      "text/plain": [
       "1"
      ]
     },
     "execution_count": 68,
     "metadata": {},
     "output_type": "execute_result"
    }
   ],
   "source": [
    "next(obj)"
   ]
  },
  {
   "cell_type": "code",
   "execution_count": null,
   "id": "fdc31c80",
   "metadata": {},
   "outputs": [],
   "source": []
  },
  {
   "cell_type": "code",
   "execution_count": 72,
   "id": "6b3b72f7",
   "metadata": {},
   "outputs": [],
   "source": [
    "obj=(num*num for num in [1,2,3,4,5])  # this is using generators"
   ]
  },
  {
   "cell_type": "code",
   "execution_count": 73,
   "id": "7dd3a890",
   "metadata": {},
   "outputs": [],
   "source": [
    "# this is using iterators.\n",
    "class PT:\n",
    "    def __init__(self, max=0):\n",
    "        self.max=max\n",
    "    def __iter__(self):\n",
    "        self.n=0\n",
    "        return self  # very important\n",
    "    def __next__(self):\n",
    "        if self.n<=self.max:\n",
    "            result=2**self.n\n",
    "            self.n+=1\n",
    "            return result\n",
    "        else:\n",
    "            raise StopIteration"
   ]
  },
  {
   "cell_type": "code",
   "execution_count": 74,
   "id": "1805cd5e",
   "metadata": {},
   "outputs": [],
   "source": [
    "obj=[num*num for num in [1,2,3,4,5]]   # list comprehension"
   ]
  },
  {
   "cell_type": "code",
   "execution_count": 75,
   "id": "d6fef964",
   "metadata": {},
   "outputs": [
    {
     "data": {
      "text/plain": [
       "[1, 4, 9, 16, 25]"
      ]
     },
     "execution_count": 75,
     "metadata": {},
     "output_type": "execute_result"
    }
   ],
   "source": [
    "obj"
   ]
  },
  {
   "cell_type": "code",
   "execution_count": null,
   "id": "2c5d7a8d",
   "metadata": {},
   "outputs": [],
   "source": []
  }
 ],
 "metadata": {
  "kernelspec": {
   "display_name": "Python 3 (ipykernel)",
   "language": "python",
   "name": "python3"
  },
  "language_info": {
   "codemirror_mode": {
    "name": "ipython",
    "version": 3
   },
   "file_extension": ".py",
   "mimetype": "text/x-python",
   "name": "python",
   "nbconvert_exporter": "python",
   "pygments_lexer": "ipython3",
   "version": "3.9.12"
  }
 },
 "nbformat": 4,
 "nbformat_minor": 5
}
