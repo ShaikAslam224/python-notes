{
 "cells": [
  {
   "cell_type": "code",
   "execution_count": 1,
   "id": "ee756e3a",
   "metadata": {},
   "outputs": [],
   "source": [
    "b=[1,2,3,4,5]"
   ]
  },
  {
   "cell_type": "code",
   "execution_count": 4,
   "id": "97a37d67",
   "metadata": {},
   "outputs": [
    {
     "name": "stdout",
     "output_type": "stream",
     "text": [
      "1\n",
      "2\n",
      "3\n",
      "4\n",
      "5\n"
     ]
    }
   ],
   "source": [
    "for i in b:\n",
    "    print(i)"
   ]
  },
  {
   "cell_type": "code",
   "execution_count": 5,
   "id": "5c95b1ff",
   "metadata": {},
   "outputs": [],
   "source": [
    "# iterable :  an object form which i can get an iterator\n",
    "# iterator :  an object that can be iterated upon"
   ]
  },
  {
   "cell_type": "code",
   "execution_count": 13,
   "id": "5d0fc4fe",
   "metadata": {},
   "outputs": [],
   "source": [
    "it=iter(b)\n",
    "# this is same as\n",
    "its=b.__iter__()"
   ]
  },
  {
   "cell_type": "code",
   "execution_count": 14,
   "id": "0c095d4e",
   "metadata": {},
   "outputs": [
    {
     "data": {
      "text/plain": [
       "list_iterator"
      ]
     },
     "execution_count": 14,
     "metadata": {},
     "output_type": "execute_result"
    }
   ],
   "source": [
    "type(it)"
   ]
  },
  {
   "cell_type": "code",
   "execution_count": 15,
   "id": "adf29dc5",
   "metadata": {},
   "outputs": [
    {
     "data": {
      "text/plain": [
       "list_iterator"
      ]
     },
     "execution_count": 15,
     "metadata": {},
     "output_type": "execute_result"
    }
   ],
   "source": [
    "type(its)"
   ]
  },
  {
   "cell_type": "code",
   "execution_count": 17,
   "id": "372e5e97",
   "metadata": {
    "scrolled": false
   },
   "outputs": [],
   "source": [
    "#dir(b)"
   ]
  },
  {
   "cell_type": "code",
   "execution_count": 25,
   "id": "72023888",
   "metadata": {},
   "outputs": [
    {
     "data": {
      "text/plain": [
       "1"
      ]
     },
     "execution_count": 25,
     "metadata": {},
     "output_type": "execute_result"
    }
   ],
   "source": [
    "next(its)"
   ]
  },
  {
   "cell_type": "code",
   "execution_count": 26,
   "id": "4919246d",
   "metadata": {},
   "outputs": [],
   "source": [
    "# creating a for loop or iterable"
   ]
  },
  {
   "cell_type": "code",
   "execution_count": 28,
   "id": "bbd7fe1d",
   "metadata": {},
   "outputs": [],
   "source": [
    "class PT:\n",
    "    def __init__(self, max=0):\n",
    "        self.max=max\n",
    "    def __iter__(self):\n",
    "        self.n=0\n",
    "        return self  # very important\n",
    "    def __next__(self):\n",
    "        if self.n<=self.max:\n",
    "            result=2**self.n\n",
    "            self.n+=1\n",
    "            return result\n",
    "        else:\n",
    "            raise StopIteration"
   ]
  },
  {
   "cell_type": "code",
   "execution_count": 29,
   "id": "4eceef12",
   "metadata": {},
   "outputs": [],
   "source": [
    "a=PT(5)"
   ]
  },
  {
   "cell_type": "code",
   "execution_count": 30,
   "id": "96af33a2",
   "metadata": {},
   "outputs": [],
   "source": [
    "a=iter(a)"
   ]
  },
  {
   "cell_type": "code",
   "execution_count": 38,
   "id": "2a2e1f47",
   "metadata": {},
   "outputs": [
    {
     "ename": "StopIteration",
     "evalue": "",
     "output_type": "error",
     "traceback": [
      "\u001b[1;31m---------------------------------------------------------------------------\u001b[0m",
      "\u001b[1;31mStopIteration\u001b[0m                             Traceback (most recent call last)",
      "Input \u001b[1;32mIn [38]\u001b[0m, in \u001b[0;36m<cell line: 1>\u001b[1;34m()\u001b[0m\n\u001b[1;32m----> 1\u001b[0m \u001b[38;5;28;43mnext\u001b[39;49m\u001b[43m(\u001b[49m\u001b[43ma\u001b[49m\u001b[43m)\u001b[49m\n",
      "Input \u001b[1;32mIn [28]\u001b[0m, in \u001b[0;36mPT.__next__\u001b[1;34m(self)\u001b[0m\n\u001b[0;32m     11\u001b[0m     \u001b[38;5;28;01mreturn\u001b[39;00m result\n\u001b[0;32m     12\u001b[0m \u001b[38;5;28;01melse\u001b[39;00m:\n\u001b[1;32m---> 13\u001b[0m     \u001b[38;5;28;01mraise\u001b[39;00m \u001b[38;5;167;01mStopIteration\u001b[39;00m\n",
      "\u001b[1;31mStopIteration\u001b[0m: "
     ]
    }
   ],
   "source": [
    "next(a)"
   ]
  },
  {
   "cell_type": "code",
   "execution_count": null,
   "id": "99ae3c1a",
   "metadata": {},
   "outputs": [],
   "source": []
  }
 ],
 "metadata": {
  "kernelspec": {
   "display_name": "Python 3 (ipykernel)",
   "language": "python",
   "name": "python3"
  },
  "language_info": {
   "codemirror_mode": {
    "name": "ipython",
    "version": 3
   },
   "file_extension": ".py",
   "mimetype": "text/x-python",
   "name": "python",
   "nbconvert_exporter": "python",
   "pygments_lexer": "ipython3",
   "version": "3.9.12"
  }
 },
 "nbformat": 4,
 "nbformat_minor": 5
}
