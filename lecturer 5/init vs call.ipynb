{
 "cells": [
  {
   "cell_type": "code",
   "execution_count": 1,
   "id": "aa60c0bc",
   "metadata": {},
   "outputs": [],
   "source": [
    "# __init__ vs __call__"
   ]
  },
  {
   "cell_type": "code",
   "execution_count": 2,
   "id": "49485d6e",
   "metadata": {},
   "outputs": [],
   "source": [
    "class A:\n",
    "    def __init__(self):\n",
    "        print(\"First\")\n",
    "    \n",
    "    \n",
    "    def __call__(self):\n",
    "        print(\"second\")\n",
    "    "
   ]
  },
  {
   "cell_type": "code",
   "execution_count": 3,
   "id": "543eeb94",
   "metadata": {},
   "outputs": [
    {
     "name": "stdout",
     "output_type": "stream",
     "text": [
      "First\n"
     ]
    }
   ],
   "source": [
    "obj=A()"
   ]
  },
  {
   "cell_type": "code",
   "execution_count": 5,
   "id": "5b690115",
   "metadata": {},
   "outputs": [
    {
     "name": "stdout",
     "output_type": "stream",
     "text": [
      "second\n"
     ]
    }
   ],
   "source": [
    "obj()"
   ]
  },
  {
   "cell_type": "code",
   "execution_count": 36,
   "id": "aabf22e6",
   "metadata": {},
   "outputs": [],
   "source": [
    "class Human:\n",
    "    def __init__(self,name):\n",
    "        self.name=name\n",
    "        print(self.name)\n",
    "    def __call__(self,name):         # call is used to modified the data form init example as shown below\n",
    "        self.name=name\n",
    "        print(self.name)"
   ]
  },
  {
   "cell_type": "code",
   "execution_count": 40,
   "id": "75f54434",
   "metadata": {},
   "outputs": [
    {
     "name": "stdout",
     "output_type": "stream",
     "text": [
      "Aslam\n"
     ]
    }
   ],
   "source": [
    "shaik=Human(\"Aslam\")    # this is __init__"
   ]
  },
  {
   "cell_type": "code",
   "execution_count": 41,
   "id": "fed57b97",
   "metadata": {},
   "outputs": [
    {
     "name": "stdout",
     "output_type": "stream",
     "text": [
      "ASlAM !\n"
     ]
    }
   ],
   "source": [
    "shaik(\"ASlAM !\")         # this is __call__    #  works like a function, using __call__"
   ]
  },
  {
   "cell_type": "code",
   "execution_count": 42,
   "id": "f447f948",
   "metadata": {},
   "outputs": [
    {
     "data": {
      "text/plain": [
       "'ASlAM !'"
      ]
     },
     "execution_count": 42,
     "metadata": {},
     "output_type": "execute_result"
    }
   ],
   "source": [
    "shaik.name"
   ]
  },
  {
   "cell_type": "code",
   "execution_count": null,
   "id": "8626f5bd",
   "metadata": {},
   "outputs": [],
   "source": [
    "\n"
   ]
  },
  {
   "cell_type": "code",
   "execution_count": null,
   "id": "b8f96d40",
   "metadata": {},
   "outputs": [],
   "source": []
  },
  {
   "cell_type": "code",
   "execution_count": null,
   "id": "49ab7a5a",
   "metadata": {},
   "outputs": [],
   "source": []
  }
 ],
 "metadata": {
  "kernelspec": {
   "display_name": "Python 3 (ipykernel)",
   "language": "python",
   "name": "python3"
  },
  "language_info": {
   "codemirror_mode": {
    "name": "ipython",
    "version": 3
   },
   "file_extension": ".py",
   "mimetype": "text/x-python",
   "name": "python",
   "nbconvert_exporter": "python",
   "pygments_lexer": "ipython3",
   "version": "3.9.12"
  }
 },
 "nbformat": 4,
 "nbformat_minor": 5
}
