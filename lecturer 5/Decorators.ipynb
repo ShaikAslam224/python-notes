{
 "cells": [
  {
   "cell_type": "code",
   "execution_count": 76,
   "id": "26855bd1",
   "metadata": {},
   "outputs": [],
   "source": [
    "def fun():\n",
    "    print(\"Hello!!\")"
   ]
  },
  {
   "cell_type": "code",
   "execution_count": 2,
   "id": "d46ce793",
   "metadata": {},
   "outputs": [
    {
     "name": "stdout",
     "output_type": "stream",
     "text": [
      "Hello!!\n"
     ]
    }
   ],
   "source": [
    "fun()"
   ]
  },
  {
   "cell_type": "code",
   "execution_count": 12,
   "id": "1b3bc5c6",
   "metadata": {},
   "outputs": [],
   "source": [
    "def fun1(n):\n",
    "    fun()"
   ]
  },
  {
   "cell_type": "code",
   "execution_count": 14,
   "id": "0123fd62",
   "metadata": {},
   "outputs": [
    {
     "name": "stdout",
     "output_type": "stream",
     "text": [
      "Hello!!\n"
     ]
    }
   ],
   "source": [
    "fun1(fun)"
   ]
  },
  {
   "cell_type": "code",
   "execution_count": 82,
   "id": "11d1b231",
   "metadata": {},
   "outputs": [],
   "source": [
    "def decorator(original):\n",
    "    def wrapper():\n",
    "        print(\"this will print first\")\n",
    "        return original()\n",
    "    return wrapper"
   ]
  },
  {
   "cell_type": "code",
   "execution_count": 83,
   "id": "7fedc203",
   "metadata": {},
   "outputs": [],
   "source": [
    "def fun():\n",
    "    print(\"Hello!!\")"
   ]
  },
  {
   "cell_type": "code",
   "execution_count": 86,
   "id": "75c60a08",
   "metadata": {},
   "outputs": [
    {
     "name": "stdout",
     "output_type": "stream",
     "text": [
      "this will print first\n",
      "Hello!!\n"
     ]
    }
   ],
   "source": [
    "fun4=decorator(fun)\n",
    "fun4()"
   ]
  },
  {
   "cell_type": "code",
   "execution_count": 19,
   "id": "8818034f",
   "metadata": {},
   "outputs": [
    {
     "name": "stdout",
     "output_type": "stream",
     "text": [
      "Hello!!\n"
     ]
    }
   ],
   "source": [
    "fun()"
   ]
  },
  {
   "cell_type": "code",
   "execution_count": 36,
   "id": "eb4e5155",
   "metadata": {},
   "outputs": [],
   "source": [
    "def gun():\n",
    "    print(\"Hello world!!\")"
   ]
  },
  {
   "cell_type": "code",
   "execution_count": 37,
   "id": "d17d806e",
   "metadata": {},
   "outputs": [
    {
     "name": "stdout",
     "output_type": "stream",
     "text": [
      "Hello world!!\n"
     ]
    }
   ],
   "source": [
    "gun()"
   ]
  },
  {
   "cell_type": "code",
   "execution_count": 87,
   "id": "ab44acb0",
   "metadata": {},
   "outputs": [],
   "source": [
    "def aecorator(non):\n",
    "    def wrapper():\n",
    "        print(\"First print\")\n",
    "        return non()\n",
    "    return wrapper"
   ]
  },
  {
   "cell_type": "code",
   "execution_count": 88,
   "id": "5686eb28",
   "metadata": {},
   "outputs": [],
   "source": [
    "\n",
    "def gun():\n",
    "    print(\"Hello world!!\")"
   ]
  },
  {
   "cell_type": "code",
   "execution_count": 89,
   "id": "1c28c941",
   "metadata": {},
   "outputs": [
    {
     "name": "stdout",
     "output_type": "stream",
     "text": [
      "First print\n",
      "Hello world!!\n"
     ]
    }
   ],
   "source": [
    "gun1=Decorator(gun)\n"
   ]
  },
  {
   "cell_type": "code",
   "execution_count": 65,
   "id": "9edba72d",
   "metadata": {},
   "outputs": [
    {
     "name": "stdout",
     "output_type": "stream",
     "text": [
      "Hello world!!\n"
     ]
    }
   ],
   "source": [
    "gun()"
   ]
  },
  {
   "cell_type": "code",
   "execution_count": 66,
   "id": "83116bf2",
   "metadata": {},
   "outputs": [
    {
     "name": "stdout",
     "output_type": "stream",
     "text": [
      "this will print first\n",
      "hello world!!\n"
     ]
    }
   ],
   "source": [
    "@decorator\n",
    "def fun1():\n",
    "    print(\"hello world!!\")"
   ]
  },
  {
   "cell_type": "code",
   "execution_count": 90,
   "id": "e034538a",
   "metadata": {},
   "outputs": [],
   "source": [
    "def DECORATOR(non):\n",
    "    def wrapper():\n",
    "        print(\"First print line\")\n",
    "        return non()\n",
    "    return wrapper"
   ]
  },
  {
   "cell_type": "code",
   "execution_count": 91,
   "id": "18d46254",
   "metadata": {},
   "outputs": [],
   "source": [
    "def don():\n",
    "    print(\"hey don\")"
   ]
  },
  {
   "cell_type": "code",
   "execution_count": 93,
   "id": "4ad68970",
   "metadata": {},
   "outputs": [
    {
     "name": "stdout",
     "output_type": "stream",
     "text": [
      "First print line\n",
      "hey don\n"
     ]
    }
   ],
   "source": [
    "fun=DECORATOR(don)\n",
    "fun()"
   ]
  },
  {
   "cell_type": "code",
   "execution_count": null,
   "id": "2a7148de",
   "metadata": {},
   "outputs": [],
   "source": []
  }
 ],
 "metadata": {
  "kernelspec": {
   "display_name": "Python 3 (ipykernel)",
   "language": "python",
   "name": "python3"
  },
  "language_info": {
   "codemirror_mode": {
    "name": "ipython",
    "version": 3
   },
   "file_extension": ".py",
   "mimetype": "text/x-python",
   "name": "python",
   "nbconvert_exporter": "python",
   "pygments_lexer": "ipython3",
   "version": "3.9.12"
  }
 },
 "nbformat": 4,
 "nbformat_minor": 5
}
