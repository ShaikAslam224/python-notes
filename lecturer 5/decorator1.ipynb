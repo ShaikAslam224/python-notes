{
 "cells": [
  {
   "cell_type": "code",
   "execution_count": 52,
   "id": "b28933ad",
   "metadata": {},
   "outputs": [],
   "source": [
    "def decorator(original):\n",
    "    def wrapper(*args,**kwargs):\n",
    "        print(f\"this function will print before {original.__name__}\")\n",
    "        return original(*args,**kwargs)\n",
    "    return wrapper "
   ]
  },
  {
   "cell_type": "code",
   "execution_count": 53,
   "id": "226a5fb5",
   "metadata": {},
   "outputs": [],
   "source": [
    "@decorator\n",
    "def greeting(name,age):\n",
    "    print(f\"hey {name} , your age is {age}\")"
   ]
  },
  {
   "cell_type": "code",
   "execution_count": 54,
   "id": "1998f1fe",
   "metadata": {},
   "outputs": [
    {
     "name": "stdout",
     "output_type": "stream",
     "text": [
      "this function will print before greeting\n",
      "hey aslam , your age is 56\n"
     ]
    }
   ],
   "source": [
    "greeting(\"aslam\",56)"
   ]
  },
  {
   "cell_type": "code",
   "execution_count": 55,
   "id": "642a97f8",
   "metadata": {},
   "outputs": [],
   "source": [
    "greeting=decorator(greeting)\n"
   ]
  },
  {
   "cell_type": "code",
   "execution_count": 19,
   "id": "d8b0d612",
   "metadata": {},
   "outputs": [],
   "source": [
    "#classes as decorators"
   ]
  },
  {
   "cell_type": "code",
   "execution_count": 56,
   "id": "6054b984",
   "metadata": {},
   "outputs": [],
   "source": [
    "class decorator(object):\n",
    "    def __init__(self, original):\n",
    "        self.original=original\n",
    "    def __call__(self,*args,**kwargs):      # this acts like a  wrapper function\n",
    "        print(f\"This will execute before {self.original.__name__}\")\n",
    "        return self.original(*args,**kwargs)"
   ]
  },
  {
   "cell_type": "code",
   "execution_count": 57,
   "id": "f058b9d7",
   "metadata": {},
   "outputs": [],
   "source": [
    "@decorator\n",
    "def fun():\n",
    "    print(\"Hey how are you?\")"
   ]
  },
  {
   "cell_type": "code",
   "execution_count": 58,
   "id": "b381fbb1",
   "metadata": {},
   "outputs": [
    {
     "name": "stdout",
     "output_type": "stream",
     "text": [
      "This will execute before fun\n",
      "Hey how are you?\n"
     ]
    }
   ],
   "source": [
    "fun()"
   ]
  },
  {
   "cell_type": "code",
   "execution_count": 59,
   "id": "65ec7842",
   "metadata": {},
   "outputs": [],
   "source": [
    "@decorator\n",
    "def gun(name,age):\n",
    "    print(f\"Hey {name} , your age is {age}\")"
   ]
  },
  {
   "cell_type": "code",
   "execution_count": 48,
   "id": "9ca3912e",
   "metadata": {},
   "outputs": [
    {
     "name": "stdout",
     "output_type": "stream",
     "text": [
      "This will execute before gun\n",
      "Hey aslam , your age is 53\n"
     ]
    }
   ],
   "source": [
    "gun('aslam',53)\n"
   ]
  },
  {
   "cell_type": "code",
   "execution_count": 56,
   "id": "6e3b9fb6",
   "metadata": {},
   "outputs": [],
   "source": [
    "class Human:\n",
    "    @staticmethod   \n",
    "    def fun():\n",
    "        print(\"this will print\")"
   ]
  },
  {
   "cell_type": "code",
   "execution_count": 57,
   "id": "2a1f4957",
   "metadata": {},
   "outputs": [],
   "source": [
    "obj=Human()"
   ]
  },
  {
   "cell_type": "code",
   "execution_count": 58,
   "id": "f53c9038",
   "metadata": {},
   "outputs": [
    {
     "name": "stdout",
     "output_type": "stream",
     "text": [
      "this will print\n"
     ]
    }
   ],
   "source": [
    "obj.fun()"
   ]
  },
  {
   "cell_type": "code",
   "execution_count": 12,
   "id": "c048c0b7",
   "metadata": {},
   "outputs": [],
   "source": [
    "class Human:\n",
    "    @staticmethod   \n",
    "    def fun():\n",
    "        print(\"this will print\")\n",
    "    @staticmethod\n",
    "    def gun():\n",
    "        print('this will aslo print')"
   ]
  },
  {
   "cell_type": "code",
   "execution_count": 13,
   "id": "363613fa",
   "metadata": {},
   "outputs": [],
   "source": [
    "obj1=Human()\n"
   ]
  },
  {
   "cell_type": "code",
   "execution_count": 17,
   "id": "35784274",
   "metadata": {},
   "outputs": [
    {
     "name": "stdout",
     "output_type": "stream",
     "text": [
      "this will print\n",
      "this will aslo print\n"
     ]
    }
   ],
   "source": [
    "obj1.fun()\n",
    "obj1.gun()"
   ]
  },
  {
   "cell_type": "code",
   "execution_count": 15,
   "id": "628fab14",
   "metadata": {},
   "outputs": [
    {
     "name": "stdout",
     "output_type": "stream",
     "text": [
      "this will aslo print\n"
     ]
    }
   ],
   "source": [
    "obj1.gun()   "
   ]
  },
  {
   "cell_type": "code",
   "execution_count": 18,
   "id": "7f7f1f5f",
   "metadata": {},
   "outputs": [],
   "source": [
    "# decorators with arguments"
   ]
  },
  {
   "cell_type": "code",
   "execution_count": 19,
   "id": "76a43086",
   "metadata": {},
   "outputs": [],
   "source": [
    "#create a prefix decorator\n",
    "# uses closures"
   ]
  },
  {
   "cell_type": "code",
   "execution_count": 31,
   "id": "afdc9ed9",
   "metadata": {},
   "outputs": [],
   "source": [
    "def prefix(prefix):\n",
    "    def decorator(original):\n",
    "        def wrapper():\n",
    "            print(prefix)\n",
    "            return original()\n",
    "        return wrapper\n",
    "    return decorator"
   ]
  },
  {
   "cell_type": "code",
   "execution_count": 32,
   "id": "31b68440",
   "metadata": {},
   "outputs": [],
   "source": [
    "@prefix(\"Aslam\")\n",
    "def fun():\n",
    "    print(\"Hello\")"
   ]
  },
  {
   "cell_type": "code",
   "execution_count": 33,
   "id": "95aaae0e",
   "metadata": {},
   "outputs": [
    {
     "name": "stdout",
     "output_type": "stream",
     "text": [
      "Aslam\n",
      "Hello\n"
     ]
    }
   ],
   "source": [
    "fun()"
   ]
  },
  {
   "cell_type": "code",
   "execution_count": null,
   "id": "3b119550",
   "metadata": {},
   "outputs": [],
   "source": []
  }
 ],
 "metadata": {
  "kernelspec": {
   "display_name": "Python 3 (ipykernel)",
   "language": "python",
   "name": "python3"
  },
  "language_info": {
   "codemirror_mode": {
    "name": "ipython",
    "version": 3
   },
   "file_extension": ".py",
   "mimetype": "text/x-python",
   "name": "python",
   "nbconvert_exporter": "python",
   "pygments_lexer": "ipython3",
   "version": "3.9.12"
  }
 },
 "nbformat": 4,
 "nbformat_minor": 5
}
