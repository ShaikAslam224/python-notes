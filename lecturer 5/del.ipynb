{
 "cells": [
  {
   "cell_type": "code",
   "execution_count": 1,
   "id": "3d355de0",
   "metadata": {},
   "outputs": [],
   "source": [
    "#del"
   ]
  },
  {
   "cell_type": "code",
   "execution_count": 20,
   "id": "dc66de81",
   "metadata": {},
   "outputs": [],
   "source": [
    "class A:\n",
    "    def __init__(self):\n",
    "        print(\"This is called\")\n",
    "    def __del__(self):\n",
    "        print(\"first one is deleted\")"
   ]
  },
  {
   "cell_type": "code",
   "execution_count": 21,
   "id": "c13ff5fe",
   "metadata": {},
   "outputs": [
    {
     "name": "stdout",
     "output_type": "stream",
     "text": [
      "This is called\n"
     ]
    }
   ],
   "source": [
    "obj=A()"
   ]
  },
  {
   "cell_type": "code",
   "execution_count": 22,
   "id": "97defb9c",
   "metadata": {},
   "outputs": [
    {
     "name": "stdout",
     "output_type": "stream",
     "text": [
      "first one is deleted\n"
     ]
    }
   ],
   "source": [
    "del(obj)"
   ]
  },
  {
   "cell_type": "code",
   "execution_count": 18,
   "id": "278d6459",
   "metadata": {},
   "outputs": [
    {
     "name": "stdout",
     "output_type": "stream",
     "text": [
      "This is called\n"
     ]
    }
   ],
   "source": [
    "obj=A()"
   ]
  },
  {
   "cell_type": "code",
   "execution_count": 23,
   "id": "802ee9d7",
   "metadata": {},
   "outputs": [
    {
     "ename": "NameError",
     "evalue": "name 'obj' is not defined",
     "output_type": "error",
     "traceback": [
      "\u001b[1;31m---------------------------------------------------------------------------\u001b[0m",
      "\u001b[1;31mNameError\u001b[0m                                 Traceback (most recent call last)",
      "Input \u001b[1;32mIn [23]\u001b[0m, in \u001b[0;36m<cell line: 1>\u001b[1;34m()\u001b[0m\n\u001b[1;32m----> 1\u001b[0m \u001b[43mobj\u001b[49m\n",
      "\u001b[1;31mNameError\u001b[0m: name 'obj' is not defined"
     ]
    }
   ],
   "source": [
    "obj"
   ]
  },
  {
   "cell_type": "code",
   "execution_count": 137,
   "id": "90fe351e",
   "metadata": {},
   "outputs": [],
   "source": [
    "class A:\n",
    "    def __init__(self):\n",
    "        print(\"constructor is called\")\n",
    "    def __del__(self):\n",
    "        print(\"De-reference was done\")\n",
    "    def __repr__(self):\n",
    "        return \"object\""
   ]
  },
  {
   "cell_type": "code",
   "execution_count": 138,
   "id": "06e5c119",
   "metadata": {},
   "outputs": [
    {
     "name": "stdout",
     "output_type": "stream",
     "text": [
      "constructor is called\n"
     ]
    }
   ],
   "source": [
    "obj=A()"
   ]
  },
  {
   "cell_type": "code",
   "execution_count": 139,
   "id": "20f2ef15",
   "metadata": {},
   "outputs": [
    {
     "name": "stdout",
     "output_type": "stream",
     "text": [
      "De-reference was done\n"
     ]
    }
   ],
   "source": [
    "del(obj)"
   ]
  },
  {
   "cell_type": "code",
   "execution_count": 140,
   "id": "d6a5d8df",
   "metadata": {},
   "outputs": [
    {
     "name": "stdout",
     "output_type": "stream",
     "text": [
      "constructor is called\n"
     ]
    }
   ],
   "source": [
    "obj2=A()"
   ]
  },
  {
   "cell_type": "code",
   "execution_count": 141,
   "id": "65554478",
   "metadata": {},
   "outputs": [
    {
     "data": {
      "text/plain": [
       "object"
      ]
     },
     "execution_count": 141,
     "metadata": {},
     "output_type": "execute_result"
    }
   ],
   "source": [
    "obj2"
   ]
  },
  {
   "cell_type": "code",
   "execution_count": 142,
   "id": "d4d4ef1b",
   "metadata": {},
   "outputs": [],
   "source": [
    "del(obj2)"
   ]
  },
  {
   "cell_type": "code",
   "execution_count": 143,
   "id": "403a6ff2",
   "metadata": {},
   "outputs": [
    {
     "data": {
      "text/plain": [
       "object"
      ]
     },
     "execution_count": 143,
     "metadata": {},
     "output_type": "execute_result"
    }
   ],
   "source": [
    "_"
   ]
  },
  {
   "cell_type": "code",
   "execution_count": 144,
   "id": "2a9c877b",
   "metadata": {},
   "outputs": [],
   "source": [
    "# "
   ]
  },
  {
   "cell_type": "code",
   "execution_count": 147,
   "id": "14b020d1",
   "metadata": {},
   "outputs": [
    {
     "name": "stdout",
     "output_type": "stream",
     "text": [
      "HELLO WORLD!!\n"
     ]
    }
   ],
   "source": [
    "import first"
   ]
  },
  {
   "cell_type": "code",
   "execution_count": null,
   "id": "967a0c76",
   "metadata": {},
   "outputs": [],
   "source": []
  }
 ],
 "metadata": {
  "kernelspec": {
   "display_name": "Python 3 (ipykernel)",
   "language": "python",
   "name": "python3"
  },
  "language_info": {
   "codemirror_mode": {
    "name": "ipython",
    "version": 3
   },
   "file_extension": ".py",
   "mimetype": "text/x-python",
   "name": "python",
   "nbconvert_exporter": "python",
   "pygments_lexer": "ipython3",
   "version": "3.9.12"
  }
 },
 "nbformat": 4,
 "nbformat_minor": 5
}
