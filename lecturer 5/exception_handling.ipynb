{
 "cells": [
  {
   "cell_type": "code",
   "execution_count": 18,
   "id": "0df3f39f",
   "metadata": {},
   "outputs": [
    {
     "name": "stdout",
     "output_type": "stream",
     "text": [
      "It is a error\n"
     ]
    }
   ],
   "source": [
    "try:\n",
    "    a=b\n",
    "except Exception:\n",
    "    print(\"It is a error\")"
   ]
  },
  {
   "cell_type": "code",
   "execution_count": 19,
   "id": "9b648e95",
   "metadata": {},
   "outputs": [
    {
     "name": "stdout",
     "output_type": "stream",
     "text": [
      "error\n"
     ]
    }
   ],
   "source": [
    "try:\n",
    "    a=open(\"folder.txt\")\n",
    "except Exception:\n",
    "    print(\"error\")"
   ]
  },
  {
   "cell_type": "code",
   "execution_count": 20,
   "id": "49cf3bfd",
   "metadata": {},
   "outputs": [
    {
     "name": "stdout",
     "output_type": "stream",
     "text": [
      "error\n"
     ]
    }
   ],
   "source": [
    "try:\n",
    "    a=open(\"folder.txt\")\n",
    "except FileNotFoundError:\n",
    "    print(\"error\")"
   ]
  },
  {
   "cell_type": "code",
   "execution_count": 21,
   "id": "0b8e6ffb",
   "metadata": {},
   "outputs": [
    {
     "name": "stdout",
     "output_type": "stream",
     "text": [
      "error\n",
      "Completed\n"
     ]
    }
   ],
   "source": [
    "try:\n",
    "    a=n\n",
    "    c=open(\"first.txt\")\n",
    "except Exception:\n",
    "    print(\"error\")\n",
    "else:\n",
    "    print(c.read())\n",
    "    c.close()\n",
    "finally:\n",
    "    print(\"Completed\")"
   ]
  },
  {
   "cell_type": "code",
   "execution_count": 22,
   "id": "eafcec9f",
   "metadata": {},
   "outputs": [
    {
     "name": "stdout",
     "output_type": "stream",
     "text": [
      "error\n",
      "Completed\n"
     ]
    }
   ],
   "source": [
    "try:\n",
    "    \n",
    "    c=open(\"first.txt\")\n",
    "    a=n\n",
    "except Exception:    # if try block contains error this block will run\n",
    "    print(\"error\")\n",
    "else:   # if try block runs sucessfully this will run\n",
    "    print(c.read())\n",
    "    c.close()\n",
    "finally:         # finally blocks runs always \n",
    "    print(\"Completed\")"
   ]
  },
  {
   "cell_type": "code",
   "execution_count": 23,
   "id": "594e17cd",
   "metadata": {},
   "outputs": [
    {
     "name": "stdout",
     "output_type": "stream",
     "text": [
      "error\n",
      "Completed\n"
     ]
    }
   ],
   "source": [
    "try:\n",
    "    c=open(\"first.txt\")\n",
    "    a=n\n",
    "    print(\"Hello!\")\n",
    "except Exception:    # if try block contains error this block will run\n",
    "    print(\"error\")\n",
    "else:   # if try block runs sucessfully this will run\n",
    "    print(c.read())\n",
    "    c.close()\n",
    "finally:         # finally blocks runs always \n",
    "    print(\"Completed\")"
   ]
  },
  {
   "cell_type": "code",
   "execution_count": 33,
   "id": "a51841e4",
   "metadata": {},
   "outputs": [
    {
     "name": "stdout",
     "output_type": "stream",
     "text": [
      "Hello my name is aslam.\n",
      "\n",
      "Completed\n"
     ]
    }
   ],
   "source": [
    "try:\n",
    "    \n",
    "    c=open(\"Hello.txt\")\n",
    "    #a=n\n",
    "except Exception:    # if try block contains error this block will run\n",
    "    print(\"error\")\n",
    "else:   # if try block runs sucessfully this will run\n",
    "    print(c.read())\n",
    "    c.close()\n",
    "finally:         # finally blocks runs always \n",
    "    print(\"Completed\")"
   ]
  },
  {
   "cell_type": "code",
   "execution_count": 29,
   "id": "48b2c87f",
   "metadata": {},
   "outputs": [
    {
     "name": "stdout",
     "output_type": "stream",
     "text": [
      "Hello my name is aslam.\n",
      "\n"
     ]
    }
   ],
   "source": [
    "c=open(\"HEllo.txt\")\n",
    "print(c.read())\n",
    "c.close()"
   ]
  },
  {
   "cell_type": "code",
   "execution_count": null,
   "id": "af350ab3",
   "metadata": {},
   "outputs": [],
   "source": []
  }
 ],
 "metadata": {
  "kernelspec": {
   "display_name": "Python 3 (ipykernel)",
   "language": "python",
   "name": "python3"
  },
  "language_info": {
   "codemirror_mode": {
    "name": "ipython",
    "version": 3
   },
   "file_extension": ".py",
   "mimetype": "text/x-python",
   "name": "python",
   "nbconvert_exporter": "python",
   "pygments_lexer": "ipython3",
   "version": "3.9.12"
  }
 },
 "nbformat": 4,
 "nbformat_minor": 5
}
