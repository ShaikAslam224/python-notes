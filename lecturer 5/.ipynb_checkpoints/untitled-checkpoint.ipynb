{
 "cells": [
  {
   "cell_type": "code",
   "execution_count": 2,
   "id": "d37307c7",
   "metadata": {},
   "outputs": [],
   "source": [
    "from collections import Counter"
   ]
  },
  {
   "cell_type": "code",
   "execution_count": 68,
   "id": "b677e605",
   "metadata": {},
   "outputs": [
    {
     "data": {
      "text/plain": [
       "Counter({'a': 2, 'b': 1, 'c': 1})"
      ]
     },
     "execution_count": 68,
     "metadata": {},
     "output_type": "execute_result"
    }
   ],
   "source": [
    "r='aabc'\n",
    "d=Counter(r)\n",
    "d"
   ]
  },
  {
   "cell_type": "code",
   "execution_count": 73,
   "id": "3c525e31",
   "metadata": {},
   "outputs": [],
   "source": [
    "def fun(r,m):\n",
    "    cr=Counter(r)\n",
    "    cm=Counter(m)\n",
    "    for ch in cr.keys():\n",
    "        if ch not in cm.keys():\n",
    "            return False\n",
    "        if cm[ch]<cr[ch]:\n",
    "            return False\n",
    "    return True\n",
    "            \n",
    "    "
   ]
  },
  {
   "cell_type": "code",
   "execution_count": 76,
   "id": "4740d340",
   "metadata": {},
   "outputs": [
    {
     "data": {
      "text/plain": [
       "False"
      ]
     },
     "execution_count": 76,
     "metadata": {},
     "output_type": "execute_result"
    }
   ],
   "source": [
    "fun('aae','aab')"
   ]
  },
  {
   "cell_type": "code",
   "execution_count": 69,
   "id": "d263d8f3",
   "metadata": {},
   "outputs": [],
   "source": [
    "class Solution:\n",
    "    def canConstructor(ransone:str,magzine:str) ->bool:\n",
    "        r=Counter(ransone)\n",
    "        m=Counter(magzine)\n",
    "        for key in r.keys():\n",
    "            if key not in m.keys():\n",
    "                return False\n",
    "            if r[key] < m[key]:\n",
    "                return False\n",
    "        return True"
   ]
  },
  {
   "cell_type": "code",
   "execution_count": 70,
   "id": "1dd03de9",
   "metadata": {},
   "outputs": [],
   "source": [
    "obj=Solution()"
   ]
  },
  {
   "cell_type": "code",
   "execution_count": 72,
   "id": "ffaae55a",
   "metadata": {},
   "outputs": [
    {
     "data": {
      "text/plain": [
       "False"
      ]
     },
     "execution_count": 72,
     "metadata": {},
     "output_type": "execute_result"
    }
   ],
   "source": [
    "Solution.canConstructor('aabdz','aabdr')"
   ]
  },
  {
   "cell_type": "code",
   "execution_count": 92,
   "id": "949205b5",
   "metadata": {},
   "outputs": [
    {
     "name": "stdout",
     "output_type": "stream",
     "text": [
      "3 6 5 4\n",
      "3 0 1 2 "
     ]
    }
   ],
   "source": [
    "a=list(map(int,input().split(\" \")))\n",
    "m=max(a)\n",
    "for i in a:\n",
    "    if i !=0:\n",
    "        print(m-i ,end = \" \")"
   ]
  },
  {
   "cell_type": "code",
   "execution_count": 88,
   "id": "7dc0405b",
   "metadata": {},
   "outputs": [
    {
     "data": {
      "text/plain": [
       "[6758, 39484]"
      ]
     },
     "execution_count": 88,
     "metadata": {},
     "output_type": "execute_result"
    }
   ],
   "source": [
    "a"
   ]
  },
  {
   "cell_type": "code",
   "execution_count": 90,
   "id": "c9ffe611",
   "metadata": {},
   "outputs": [
    {
     "data": {
      "text/plain": [
       "39484"
      ]
     },
     "execution_count": 90,
     "metadata": {},
     "output_type": "execute_result"
    }
   ],
   "source": [
    "max(a)"
   ]
  },
  {
   "cell_type": "code",
   "execution_count": 94,
   "id": "f250065e",
   "metadata": {},
   "outputs": [
    {
     "name": "stdout",
     "output_type": "stream",
     "text": [
      "4 5 6 7\n"
     ]
    }
   ],
   "source": [
    "a=list(map(int,input().split()))"
   ]
  },
  {
   "cell_type": "code",
   "execution_count": 95,
   "id": "5fb9016b",
   "metadata": {},
   "outputs": [
    {
     "data": {
      "text/plain": [
       "[4, 5, 6, 7]"
      ]
     },
     "execution_count": 95,
     "metadata": {},
     "output_type": "execute_result"
    }
   ],
   "source": [
    "a\n"
   ]
  },
  {
   "cell_type": "code",
   "execution_count": 96,
   "id": "d5308797",
   "metadata": {},
   "outputs": [],
   "source": [
    "b=max(a)"
   ]
  },
  {
   "cell_type": "code",
   "execution_count": 97,
   "id": "a5d74075",
   "metadata": {},
   "outputs": [
    {
     "data": {
      "text/plain": [
       "7"
      ]
     },
     "execution_count": 97,
     "metadata": {},
     "output_type": "execute_result"
    }
   ],
   "source": [
    "b"
   ]
  },
  {
   "cell_type": "code",
   "execution_count": 98,
   "id": "0d4b06dc",
   "metadata": {},
   "outputs": [
    {
     "name": "stdout",
     "output_type": "stream",
     "text": [
      "3 2 1 0 "
     ]
    }
   ],
   "source": [
    "for i in a:\n",
    "    if i !=0:\n",
    "        print(b-i,end=\" \")"
   ]
  },
  {
   "cell_type": "code",
   "execution_count": 99,
   "id": "58aece89",
   "metadata": {},
   "outputs": [],
   "source": [
    "from collections import Counter"
   ]
  },
  {
   "cell_type": "code",
   "execution_count": 100,
   "id": "7b6acf68",
   "metadata": {},
   "outputs": [],
   "source": [
    "a='aab'\n",
    "b='aac'\n",
    "c=Counter(a)\n",
    "b=Counter(b)"
   ]
  },
  {
   "cell_type": "code",
   "execution_count": 104,
   "id": "c20773c7",
   "metadata": {},
   "outputs": [],
   "source": [
    "def fun(c,b):\n",
    "    c=Counter(a)\n",
    "    b=Counter(b)\n",
    "    for i in a:\n",
    "        if i not in b:\n",
    "            return False\n",
    "        if c[i]<b[i]:\n",
    "            return False\n",
    "    return True"
   ]
  },
  {
   "cell_type": "code",
   "execution_count": 105,
   "id": "dfaa22ab",
   "metadata": {},
   "outputs": [
    {
     "data": {
      "text/plain": [
       "False"
      ]
     },
     "execution_count": 105,
     "metadata": {},
     "output_type": "execute_result"
    }
   ],
   "source": [
    "fun('aab','bbc')"
   ]
  },
  {
   "cell_type": "code",
   "execution_count": 106,
   "id": "a85e6c1c",
   "metadata": {},
   "outputs": [
    {
     "data": {
      "text/plain": [
       "True"
      ]
     },
     "execution_count": 106,
     "metadata": {},
     "output_type": "execute_result"
    }
   ],
   "source": [
    "fun('aa','aab')"
   ]
  },
  {
   "cell_type": "code",
   "execution_count": null,
   "id": "f8759cee",
   "metadata": {},
   "outputs": [],
   "source": []
  }
 ],
 "metadata": {
  "kernelspec": {
   "display_name": "Python 3 (ipykernel)",
   "language": "python",
   "name": "python3"
  },
  "language_info": {
   "codemirror_mode": {
    "name": "ipython",
    "version": 3
   },
   "file_extension": ".py",
   "mimetype": "text/x-python",
   "name": "python",
   "nbconvert_exporter": "python",
   "pygments_lexer": "ipython3",
   "version": "3.9.12"
  }
 },
 "nbformat": 4,
 "nbformat_minor": 5
}
